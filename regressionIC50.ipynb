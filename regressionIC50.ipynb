{
  "nbformat": 4,
  "nbformat_minor": 0,
  "metadata": {
    "colab": {
      "provenance": []
    },
    "kernelspec": {
      "name": "python3",
      "display_name": "Python 3"
    },
    "language_info": {
      "name": "python"
    },
    "widgets": {
      "application/vnd.jupyter.widget-state+json": {
        "8c82bc7968a14a04996380f4e4ff7708": {
          "model_module": "@jupyter-widgets/controls",
          "model_name": "HBoxModel",
          "model_module_version": "1.5.0",
          "state": {
            "_dom_classes": [],
            "_model_module": "@jupyter-widgets/controls",
            "_model_module_version": "1.5.0",
            "_model_name": "HBoxModel",
            "_view_count": null,
            "_view_module": "@jupyter-widgets/controls",
            "_view_module_version": "1.5.0",
            "_view_name": "HBoxView",
            "box_style": "",
            "children": [
              "IPY_MODEL_e6612e8a8b0a4e20b6f183d50423b82f",
              "IPY_MODEL_4f365b03732b4d2e8b0519f090f47e0e",
              "IPY_MODEL_87bbfca5e61f44c7a5466e57879c5787"
            ],
            "layout": "IPY_MODEL_0458cea879964fbab7c9aa6798b2160e"
          }
        },
        "e6612e8a8b0a4e20b6f183d50423b82f": {
          "model_module": "@jupyter-widgets/controls",
          "model_name": "HTMLModel",
          "model_module_version": "1.5.0",
          "state": {
            "_dom_classes": [],
            "_model_module": "@jupyter-widgets/controls",
            "_model_module_version": "1.5.0",
            "_model_name": "HTMLModel",
            "_view_count": null,
            "_view_module": "@jupyter-widgets/controls",
            "_view_module_version": "1.5.0",
            "_view_name": "HTMLView",
            "description": "",
            "description_tooltip": null,
            "layout": "IPY_MODEL_555733654dd84cee929c12c9f32c9e31",
            "placeholder": "​",
            "style": "IPY_MODEL_74a66e42839a4ffaa16e67e40506b4cf",
            "value": "Best trial: 48. Best value: 0.67547: 100%"
          }
        },
        "4f365b03732b4d2e8b0519f090f47e0e": {
          "model_module": "@jupyter-widgets/controls",
          "model_name": "FloatProgressModel",
          "model_module_version": "1.5.0",
          "state": {
            "_dom_classes": [],
            "_model_module": "@jupyter-widgets/controls",
            "_model_module_version": "1.5.0",
            "_model_name": "FloatProgressModel",
            "_view_count": null,
            "_view_module": "@jupyter-widgets/controls",
            "_view_module_version": "1.5.0",
            "_view_name": "ProgressView",
            "bar_style": "success",
            "description": "",
            "description_tooltip": null,
            "layout": "IPY_MODEL_b594c0880f274dd0b242430f4330a1f3",
            "max": 50,
            "min": 0,
            "orientation": "horizontal",
            "style": "IPY_MODEL_48424cfa47a044079f1e108ade67210b",
            "value": 50
          }
        },
        "87bbfca5e61f44c7a5466e57879c5787": {
          "model_module": "@jupyter-widgets/controls",
          "model_name": "HTMLModel",
          "model_module_version": "1.5.0",
          "state": {
            "_dom_classes": [],
            "_model_module": "@jupyter-widgets/controls",
            "_model_module_version": "1.5.0",
            "_model_name": "HTMLModel",
            "_view_count": null,
            "_view_module": "@jupyter-widgets/controls",
            "_view_module_version": "1.5.0",
            "_view_name": "HTMLView",
            "description": "",
            "description_tooltip": null,
            "layout": "IPY_MODEL_f7fe3ad446ff461a985c87551e62c6f7",
            "placeholder": "​",
            "style": "IPY_MODEL_84af1097e3e64e07b2a577b971d291d4",
            "value": " 50/50 [11:08&lt;00:00,  8.87s/it]"
          }
        },
        "0458cea879964fbab7c9aa6798b2160e": {
          "model_module": "@jupyter-widgets/base",
          "model_name": "LayoutModel",
          "model_module_version": "1.2.0",
          "state": {
            "_model_module": "@jupyter-widgets/base",
            "_model_module_version": "1.2.0",
            "_model_name": "LayoutModel",
            "_view_count": null,
            "_view_module": "@jupyter-widgets/base",
            "_view_module_version": "1.2.0",
            "_view_name": "LayoutView",
            "align_content": null,
            "align_items": null,
            "align_self": null,
            "border": null,
            "bottom": null,
            "display": null,
            "flex": null,
            "flex_flow": null,
            "grid_area": null,
            "grid_auto_columns": null,
            "grid_auto_flow": null,
            "grid_auto_rows": null,
            "grid_column": null,
            "grid_gap": null,
            "grid_row": null,
            "grid_template_areas": null,
            "grid_template_columns": null,
            "grid_template_rows": null,
            "height": null,
            "justify_content": null,
            "justify_items": null,
            "left": null,
            "margin": null,
            "max_height": null,
            "max_width": null,
            "min_height": null,
            "min_width": null,
            "object_fit": null,
            "object_position": null,
            "order": null,
            "overflow": null,
            "overflow_x": null,
            "overflow_y": null,
            "padding": null,
            "right": null,
            "top": null,
            "visibility": null,
            "width": null
          }
        },
        "555733654dd84cee929c12c9f32c9e31": {
          "model_module": "@jupyter-widgets/base",
          "model_name": "LayoutModel",
          "model_module_version": "1.2.0",
          "state": {
            "_model_module": "@jupyter-widgets/base",
            "_model_module_version": "1.2.0",
            "_model_name": "LayoutModel",
            "_view_count": null,
            "_view_module": "@jupyter-widgets/base",
            "_view_module_version": "1.2.0",
            "_view_name": "LayoutView",
            "align_content": null,
            "align_items": null,
            "align_self": null,
            "border": null,
            "bottom": null,
            "display": null,
            "flex": null,
            "flex_flow": null,
            "grid_area": null,
            "grid_auto_columns": null,
            "grid_auto_flow": null,
            "grid_auto_rows": null,
            "grid_column": null,
            "grid_gap": null,
            "grid_row": null,
            "grid_template_areas": null,
            "grid_template_columns": null,
            "grid_template_rows": null,
            "height": null,
            "justify_content": null,
            "justify_items": null,
            "left": null,
            "margin": null,
            "max_height": null,
            "max_width": null,
            "min_height": null,
            "min_width": null,
            "object_fit": null,
            "object_position": null,
            "order": null,
            "overflow": null,
            "overflow_x": null,
            "overflow_y": null,
            "padding": null,
            "right": null,
            "top": null,
            "visibility": null,
            "width": null
          }
        },
        "74a66e42839a4ffaa16e67e40506b4cf": {
          "model_module": "@jupyter-widgets/controls",
          "model_name": "DescriptionStyleModel",
          "model_module_version": "1.5.0",
          "state": {
            "_model_module": "@jupyter-widgets/controls",
            "_model_module_version": "1.5.0",
            "_model_name": "DescriptionStyleModel",
            "_view_count": null,
            "_view_module": "@jupyter-widgets/base",
            "_view_module_version": "1.2.0",
            "_view_name": "StyleView",
            "description_width": ""
          }
        },
        "b594c0880f274dd0b242430f4330a1f3": {
          "model_module": "@jupyter-widgets/base",
          "model_name": "LayoutModel",
          "model_module_version": "1.2.0",
          "state": {
            "_model_module": "@jupyter-widgets/base",
            "_model_module_version": "1.2.0",
            "_model_name": "LayoutModel",
            "_view_count": null,
            "_view_module": "@jupyter-widgets/base",
            "_view_module_version": "1.2.0",
            "_view_name": "LayoutView",
            "align_content": null,
            "align_items": null,
            "align_self": null,
            "border": null,
            "bottom": null,
            "display": null,
            "flex": null,
            "flex_flow": null,
            "grid_area": null,
            "grid_auto_columns": null,
            "grid_auto_flow": null,
            "grid_auto_rows": null,
            "grid_column": null,
            "grid_gap": null,
            "grid_row": null,
            "grid_template_areas": null,
            "grid_template_columns": null,
            "grid_template_rows": null,
            "height": null,
            "justify_content": null,
            "justify_items": null,
            "left": null,
            "margin": null,
            "max_height": null,
            "max_width": null,
            "min_height": null,
            "min_width": null,
            "object_fit": null,
            "object_position": null,
            "order": null,
            "overflow": null,
            "overflow_x": null,
            "overflow_y": null,
            "padding": null,
            "right": null,
            "top": null,
            "visibility": null,
            "width": null
          }
        },
        "48424cfa47a044079f1e108ade67210b": {
          "model_module": "@jupyter-widgets/controls",
          "model_name": "ProgressStyleModel",
          "model_module_version": "1.5.0",
          "state": {
            "_model_module": "@jupyter-widgets/controls",
            "_model_module_version": "1.5.0",
            "_model_name": "ProgressStyleModel",
            "_view_count": null,
            "_view_module": "@jupyter-widgets/base",
            "_view_module_version": "1.2.0",
            "_view_name": "StyleView",
            "bar_color": null,
            "description_width": ""
          }
        },
        "f7fe3ad446ff461a985c87551e62c6f7": {
          "model_module": "@jupyter-widgets/base",
          "model_name": "LayoutModel",
          "model_module_version": "1.2.0",
          "state": {
            "_model_module": "@jupyter-widgets/base",
            "_model_module_version": "1.2.0",
            "_model_name": "LayoutModel",
            "_view_count": null,
            "_view_module": "@jupyter-widgets/base",
            "_view_module_version": "1.2.0",
            "_view_name": "LayoutView",
            "align_content": null,
            "align_items": null,
            "align_self": null,
            "border": null,
            "bottom": null,
            "display": null,
            "flex": null,
            "flex_flow": null,
            "grid_area": null,
            "grid_auto_columns": null,
            "grid_auto_flow": null,
            "grid_auto_rows": null,
            "grid_column": null,
            "grid_gap": null,
            "grid_row": null,
            "grid_template_areas": null,
            "grid_template_columns": null,
            "grid_template_rows": null,
            "height": null,
            "justify_content": null,
            "justify_items": null,
            "left": null,
            "margin": null,
            "max_height": null,
            "max_width": null,
            "min_height": null,
            "min_width": null,
            "object_fit": null,
            "object_position": null,
            "order": null,
            "overflow": null,
            "overflow_x": null,
            "overflow_y": null,
            "padding": null,
            "right": null,
            "top": null,
            "visibility": null,
            "width": null
          }
        },
        "84af1097e3e64e07b2a577b971d291d4": {
          "model_module": "@jupyter-widgets/controls",
          "model_name": "DescriptionStyleModel",
          "model_module_version": "1.5.0",
          "state": {
            "_model_module": "@jupyter-widgets/controls",
            "_model_module_version": "1.5.0",
            "_model_name": "DescriptionStyleModel",
            "_view_count": null,
            "_view_module": "@jupyter-widgets/base",
            "_view_module_version": "1.2.0",
            "_view_name": "StyleView",
            "description_width": ""
          }
        }
      }
    }
  },
  "cells": [
    {
      "cell_type": "code",
      "source": [
        "!pip install optuna scikit-learn seaborn scipy xgboost lightgbm joblib plotly tqdm --quiet\n",
        "\n",
        "import pandas as pd\n",
        "import numpy as np\n",
        "from sklearn.model_selection import train_test_split, KFold, cross_val_score\n",
        "from sklearn.preprocessing import StandardScaler\n",
        "from sklearn.linear_model import LinearRegression, Ridge, Lasso\n",
        "from sklearn.ensemble import RandomForestRegressor, GradientBoostingRegressor\n",
        "from sklearn.metrics import mean_squared_error, mean_absolute_error, r2_score\n",
        "from sklearn.feature_selection import mutual_info_regression, SelectFromModel\n",
        "from scipy.stats import spearmanr, pearsonr\n",
        "import optuna\n",
        "import matplotlib.pyplot as plt\n",
        "import seaborn as sns\n",
        "import warnings\n",
        "import joblib\n",
        "from xgboost import XGBRegressor\n",
        "from lightgbm import LGBMRegressor\n",
        "from tqdm import tqdm\n",
        "import plotly.express as px\n",
        "import os\n",
        "\n",
        "warnings.filterwarnings('ignore')\n",
        "\n",
        "from google.colab import drive\n",
        "drive.mount('/content/drive')\n",
        "\n",
        "# Конфигурация\n",
        "DATA_PATH = '/content/drive/MyDrive/data_c/data_fe.csv'\n",
        "SAVE_DIR = '/content/drive/MyDrive/data_c/model_results'\n",
        "os.makedirs(SAVE_DIR, exist_ok=True)\n"
      ],
      "metadata": {
        "colab": {
          "base_uri": "https://localhost:8080/"
        },
        "id": "jXcTkxPsWBVz",
        "outputId": "f430d097-6a0e-4628-e48e-9f03331dad45"
      },
      "execution_count": 1,
      "outputs": [
        {
          "output_type": "stream",
          "name": "stdout",
          "text": [
            "\u001b[?25l   \u001b[90m━━━━━━━━━━━━━━━━━━━━━━━━━━━━━━━━━━━━━━━━\u001b[0m \u001b[32m0.0/395.9 kB\u001b[0m \u001b[31m?\u001b[0m eta \u001b[36m-:--:--\u001b[0m\r\u001b[2K   \u001b[90m━━━━━━━━━━━━━━━━━━━━━━━━━━━━━━━━━━━━━━━━\u001b[0m \u001b[32m395.9/395.9 kB\u001b[0m \u001b[31m13.1 MB/s\u001b[0m eta \u001b[36m0:00:00\u001b[0m\n",
            "\u001b[?25h\u001b[?25l   \u001b[90m━━━━━━━━━━━━━━━━━━━━━━━━━━━━━━━━━━━━━━━━\u001b[0m \u001b[32m0.0/242.7 kB\u001b[0m \u001b[31m?\u001b[0m eta \u001b[36m-:--:--\u001b[0m\r\u001b[2K   \u001b[90m━━━━━━━━━━━━━━━━━━━━━━━━━━━━━━━━━━━━━━━━\u001b[0m \u001b[32m242.7/242.7 kB\u001b[0m \u001b[31m15.4 MB/s\u001b[0m eta \u001b[36m0:00:00\u001b[0m\n",
            "\u001b[?25hMounted at /content/drive\n"
          ]
        }
      ]
    },
    {
      "cell_type": "code",
      "source": [
        "\n",
        "# Загрузка и подготовка данных\n",
        "print(\"Загрузка данных...\")\n",
        "data = pd.read_csv(DATA_PATH)\n",
        "print(f\"Данные загружены, форма: {data.shape}\")\n",
        "\n",
        "# Определение признаков и целевых переменных\n",
        "targets = ['IC50', 'pIC50']\n",
        "features = [col for col in data.columns if col not in ['IC50', 'pIC50', 'CC50',\n",
        "                                                       'pCC50', 'SI', 'SI_log']]\n",
        "\n",
        "# Разделение данных\n",
        "X = data[features]\n",
        "y = data[targets]\n",
        "X_train, X_test, y_train_df, y_test_df = train_test_split(X, y, test_size=0.2,\n",
        "                                                          random_state=42)\n",
        "print(f\"\\nРазделение данных:\")\n",
        "print(f\"Train: {X_train.shape}, Test: {X_test.shape}\")\n",
        "\n",
        "# Масштабирование признаков\n",
        "scaler = StandardScaler()\n",
        "X_train_scaled = pd.DataFrame(scaler.fit_transform(X_train), columns=features)\n",
        "X_test_scaled = pd.DataFrame(scaler.transform(X_test), columns=features)\n"
      ],
      "metadata": {
        "colab": {
          "base_uri": "https://localhost:8080/"
        },
        "id": "BMNnXEBQWrme",
        "outputId": "2417ef6c-d4ec-4384-8a2c-38ffb3097f04"
      },
      "execution_count": 2,
      "outputs": [
        {
          "output_type": "stream",
          "name": "stdout",
          "text": [
            "Загрузка данных...\n",
            "Данные загружены, форма: (998, 167)\n",
            "\n",
            "Разделение данных:\n",
            "Train: (798, 161), Test: (200, 161)\n"
          ]
        }
      ]
    },
    {
      "cell_type": "code",
      "source": [
        "\n",
        "# Выбор лучшей целевой переменной\n",
        "print(\"\\nВыбор целевой переменной...\")\n",
        "rmse_results = {}\n",
        "for target in tqdm(targets, desc=\"Оценка целей\"):\n",
        "    X_temp, X_val, y_temp, y_val = train_test_split(\n",
        "        X_train_scaled,\n",
        "        y_train_df[target].values,\n",
        "        test_size=0.2,\n",
        "        random_state=42\n",
        "    )\n",
        "\n",
        "    # Отбор признаков\n",
        "    mi = mutual_info_regression(X_temp, y_temp)\n",
        "    top50_idx = np.argsort(mi)[::-1][:50]\n",
        "    X_tr_sel = X_temp.iloc[:, top50_idx]\n",
        "    X_val_sel = X_val.iloc[:, top50_idx]\n",
        "\n",
        "    # Оценка модели\n",
        "    lr = LinearRegression()\n",
        "    lr.fit(X_tr_sel, y_temp)\n",
        "    y_pred = lr.predict(X_val_sel)\n",
        "    rmse = np.sqrt(mean_squared_error(y_val, y_pred))\n",
        "    rmse_results[target] = rmse\n",
        "\n",
        "best_target = min(rmse_results, key=rmse_results.get)\n",
        "print(f\"\\nЛучшая цель: {best_target} (RMSE: {rmse_results[best_target]:.4f})\")\n",
        "y_train = y_train_df[best_target].values\n",
        "y_test = y_test_df[best_target].values\n"
      ],
      "metadata": {
        "colab": {
          "base_uri": "https://localhost:8080/"
        },
        "id": "DTxpkVeTWkei",
        "outputId": "c3d90d99-45a0-4780-bf18-0c85cc588599"
      },
      "execution_count": 3,
      "outputs": [
        {
          "output_type": "stream",
          "name": "stdout",
          "text": [
            "\n",
            "Выбор целевой переменной...\n"
          ]
        },
        {
          "output_type": "stream",
          "name": "stderr",
          "text": [
            "Оценка целей: 100%|██████████| 2/2 [00:04<00:00,  2.26s/it]"
          ]
        },
        {
          "output_type": "stream",
          "name": "stdout",
          "text": [
            "\n",
            "Лучшая цель: pIC50 (RMSE: 0.8099)\n"
          ]
        },
        {
          "output_type": "stream",
          "name": "stderr",
          "text": [
            "\n"
          ]
        }
      ]
    },
    {
      "cell_type": "code",
      "source": [
        "\n",
        "# Отбор признаков ансамблевым методом\n",
        "print(\"\\nОтбор признаков...\")\n",
        "selector = SelectFromModel(\n",
        "    RandomForestRegressor(n_estimators=200, random_state=42, n_jobs=-1),\n",
        "    max_features=50\n",
        ")\n",
        "selector.fit(X_train_scaled, y_train)\n",
        "best_idx = selector.get_support(indices=True)\n",
        "selected_features = [features[i] for i in best_idx]\n",
        "\n",
        "print(\"\\nТоп-10 отобранных признаков:\")\n",
        "for i, feature in enumerate(selected_features[:10]):\n",
        "    print(f\"{i+1}. {feature}\")\n",
        "\n",
        "# Подготовка финальных данных\n",
        "X_train_final = X_train_scaled[selected_features]\n",
        "X_test_final = X_test_scaled[selected_features]\n",
        "print(f\"\\nФинальная размерность: {X_train_final.shape[1]} признаков\")\n"
      ],
      "metadata": {
        "colab": {
          "base_uri": "https://localhost:8080/"
        },
        "id": "tEMFxtFQWejS",
        "outputId": "e437ed6e-21cb-4ae8-f248-bdbc39036fc0"
      },
      "execution_count": 4,
      "outputs": [
        {
          "output_type": "stream",
          "name": "stdout",
          "text": [
            "\n",
            "Отбор признаков...\n",
            "\n",
            "Топ-10 отобранных признаков:\n",
            "1. MaxAbsEStateIndex\n",
            "2. MinAbsEStateIndex\n",
            "3. MinEStateIndex\n",
            "4. qed\n",
            "5. MolWt\n",
            "6. MaxPartialCharge\n",
            "7. MinPartialCharge\n",
            "8. FpDensityMorgan1\n",
            "9. BCUT2D_MWHI\n",
            "10. BCUT2D_MWLOW\n",
            "\n",
            "Финальная размерность: 50 признаков\n"
          ]
        }
      ]
    },
    {
      "cell_type": "code",
      "source": [
        "\n",
        "# Сравнение моделей\n",
        "models = {\n",
        "    'Linear': LinearRegression(),\n",
        "    'Ridge': Ridge(alpha=1.0),\n",
        "    'Lasso': Lasso(alpha=0.1),\n",
        "    'RF': RandomForestRegressor(n_estimators=100, random_state=42, n_jobs=-1),\n",
        "    'GB': GradientBoostingRegressor(n_estimators=100, random_state=42),\n",
        "    'XGBoost': XGBRegressor(random_state=42, n_jobs=-1),\n",
        "    'LightGBM': LGBMRegressor(random_state=42, n_jobs=-1)\n",
        "}\n",
        "\n",
        "def evaluate_model(model, X_train, y_train, X_test, y_test, name):\n",
        "    model.fit(X_train, y_train)\n",
        "    pred = model.predict(X_test)\n",
        "\n",
        "    rmse = np.sqrt(mean_squared_error(y_test, pred))\n",
        "    mae = mean_absolute_error(y_test, pred)\n",
        "    r2 = r2_score(y_test, pred)\n",
        "    r, _ = pearsonr(y_test, pred)\n",
        "\n",
        "    return rmse, mae, r2, r\n",
        "\n",
        "print(\"\\nСравнение моделей:\")\n",
        "metrics = {}\n",
        "for name, model in tqdm(models.items(), desc=\"Обучение моделей\"):\n",
        "    rmse, mae, r2, r = evaluate_model(model, X_train_final, y_train,\n",
        "                                      X_test_final, y_test, name)\n",
        "    metrics[name] = (rmse, mae, r2, r)\n",
        "    print(f\"{name}: RMSE={rmse:.4f}, MAE={mae:.4f}, R²={r2:.4f}, Pearsonr={r:.4f}\")\n"
      ],
      "metadata": {
        "colab": {
          "base_uri": "https://localhost:8080/"
        },
        "id": "ek9BLdjoWaio",
        "outputId": "00d91518-3f1b-463f-a5b8-c8260c22921d"
      },
      "execution_count": 5,
      "outputs": [
        {
          "output_type": "stream",
          "name": "stdout",
          "text": [
            "\n",
            "Сравнение моделей:\n"
          ]
        },
        {
          "output_type": "stream",
          "name": "stderr",
          "text": [
            "Обучение моделей:  29%|██▊       | 2/7 [00:00<00:00, 14.75it/s]"
          ]
        },
        {
          "output_type": "stream",
          "name": "stdout",
          "text": [
            "Linear: RMSE=0.7974, MAE=0.6345, R²=0.3819, Pearsonr=0.6183\n",
            "Ridge: RMSE=0.7975, MAE=0.6341, R²=0.3818, Pearsonr=0.6182\n",
            "Lasso: RMSE=0.9419, MAE=0.7424, R²=0.1376, Pearsonr=0.4250\n"
          ]
        },
        {
          "output_type": "stream",
          "name": "stderr",
          "text": [
            "\rОбучение моделей:  57%|█████▋    | 4/7 [00:04<00:04,  1.45s/it]"
          ]
        },
        {
          "output_type": "stream",
          "name": "stdout",
          "text": [
            "RF: RMSE=0.7152, MAE=0.5442, R²=0.5028, Pearsonr=0.7115\n"
          ]
        },
        {
          "output_type": "stream",
          "name": "stderr",
          "text": [
            "\rОбучение моделей:  71%|███████▏  | 5/7 [00:07<00:03,  1.73s/it]"
          ]
        },
        {
          "output_type": "stream",
          "name": "stdout",
          "text": [
            "GB: RMSE=0.7175, MAE=0.5606, R²=0.4996, Pearsonr=0.7094\n"
          ]
        },
        {
          "output_type": "stream",
          "name": "stderr",
          "text": [
            "\rОбучение моделей:  86%|████████▌ | 6/7 [00:22<00:05,  5.59s/it]"
          ]
        },
        {
          "output_type": "stream",
          "name": "stdout",
          "text": [
            "XGBoost: RMSE=0.7216, MAE=0.5409, R²=0.4938, Pearsonr=0.7158\n",
            "[LightGBM] [Info] Auto-choosing col-wise multi-threading, the overhead of testing was 0.000870 seconds.\n",
            "You can set `force_col_wise=true` to remove the overhead.\n",
            "[LightGBM] [Info] Total Bins 9910\n",
            "[LightGBM] [Info] Number of data points in the train set: 798, number of used features: 50\n",
            "[LightGBM] [Info] Start training from score -1.657241\n",
            "[LightGBM] [Warning] No further splits with positive gain, best gain: -inf\n",
            "[LightGBM] [Warning] No further splits with positive gain, best gain: -inf\n",
            "[LightGBM] [Warning] No further splits with positive gain, best gain: -inf\n",
            "[LightGBM] [Warning] No further splits with positive gain, best gain: -inf\n",
            "[LightGBM] [Warning] No further splits with positive gain, best gain: -inf\n",
            "[LightGBM] [Warning] No further splits with positive gain, best gain: -inf\n",
            "[LightGBM] [Warning] No further splits with positive gain, best gain: -inf\n",
            "[LightGBM] [Warning] No further splits with positive gain, best gain: -inf\n",
            "[LightGBM] [Warning] No further splits with positive gain, best gain: -inf\n",
            "[LightGBM] [Warning] No further splits with positive gain, best gain: -inf\n",
            "[LightGBM] [Warning] No further splits with positive gain, best gain: -inf\n",
            "[LightGBM] [Warning] No further splits with positive gain, best gain: -inf\n",
            "[LightGBM] [Warning] No further splits with positive gain, best gain: -inf\n",
            "[LightGBM] [Warning] No further splits with positive gain, best gain: -inf\n",
            "[LightGBM] [Warning] No further splits with positive gain, best gain: -inf\n"
          ]
        },
        {
          "output_type": "stream",
          "name": "stderr",
          "text": [
            "Обучение моделей: 100%|██████████| 7/7 [00:22<00:00,  3.22s/it]"
          ]
        },
        {
          "output_type": "stream",
          "name": "stdout",
          "text": [
            "[LightGBM] [Warning] No further splits with positive gain, best gain: -inf\n",
            "[LightGBM] [Warning] No further splits with positive gain, best gain: -inf\n",
            "[LightGBM] [Warning] No further splits with positive gain, best gain: -inf\n",
            "[LightGBM] [Warning] No further splits with positive gain, best gain: -inf\n",
            "[LightGBM] [Warning] No further splits with positive gain, best gain: -inf\n",
            "[LightGBM] [Warning] No further splits with positive gain, best gain: -inf\n",
            "[LightGBM] [Warning] No further splits with positive gain, best gain: -inf\n",
            "[LightGBM] [Warning] No further splits with positive gain, best gain: -inf\n",
            "[LightGBM] [Warning] No further splits with positive gain, best gain: -inf\n",
            "[LightGBM] [Warning] No further splits with positive gain, best gain: -inf\n",
            "[LightGBM] [Warning] No further splits with positive gain, best gain: -inf\n",
            "[LightGBM] [Warning] No further splits with positive gain, best gain: -inf\n",
            "[LightGBM] [Warning] No further splits with positive gain, best gain: -inf\n",
            "[LightGBM] [Warning] No further splits with positive gain, best gain: -inf\n",
            "[LightGBM] [Warning] No further splits with positive gain, best gain: -inf\n",
            "[LightGBM] [Warning] No further splits with positive gain, best gain: -inf\n",
            "[LightGBM] [Warning] No further splits with positive gain, best gain: -inf\n",
            "[LightGBM] [Warning] No further splits with positive gain, best gain: -inf\n",
            "[LightGBM] [Warning] No further splits with positive gain, best gain: -inf\n",
            "[LightGBM] [Warning] No further splits with positive gain, best gain: -inf\n",
            "[LightGBM] [Warning] No further splits with positive gain, best gain: -inf\n",
            "[LightGBM] [Warning] No further splits with positive gain, best gain: -inf\n",
            "[LightGBM] [Warning] No further splits with positive gain, best gain: -inf\n",
            "LightGBM: RMSE=0.7328, MAE=0.5479, R²=0.4779, Pearsonr=0.7005\n"
          ]
        },
        {
          "output_type": "stream",
          "name": "stderr",
          "text": [
            "\n"
          ]
        }
      ]
    },
    {
      "cell_type": "code",
      "source": [
        "\n",
        "# Визуализация сравнения\n",
        "rmse_df = pd.DataFrame({\n",
        "    'Model': list(metrics.keys()),\n",
        "    'RMSE': [metrics[name][0] for name in metrics]\n",
        "}).sort_values('RMSE')\n",
        "\n",
        "plt.figure(figsize=(10, 6))\n",
        "sns.barplot(x='RMSE', y='Model', data=rmse_df, palette='viridis')\n",
        "plt.title('Сравнение RMSE моделей')\n",
        "plt.tight_layout()\n",
        "plt.savefig(f'{SAVE_DIR}/model_comparison.png')\n",
        "plt.show()\n",
        "\n",
        "best_model_name = rmse_df.iloc[0]['Model']\n",
        "best_base = models[best_model_name]\n",
        "print(f\"\\nЛучшая модель: {best_model_name} (RMSE: {rmse_df.iloc[0]['RMSE']:.4f})\")\n"
      ],
      "metadata": {
        "colab": {
          "base_uri": "https://localhost:8080/",
          "height": 640
        },
        "id": "InqtxQbSWZS2",
        "outputId": "980cda72-4753-494f-b583-6c02bf6f5488"
      },
      "execution_count": 6,
      "outputs": [
        {
          "output_type": "display_data",
          "data": {
            "text/plain": [
              "<Figure size 1000x600 with 1 Axes>"
            ],
            "image/png": "[encoded data removed]"
          },
          "metadata": {}
        },
        {
          "output_type": "stream",
          "name": "stdout",
          "text": [
            "\n",
            "Лучшая модель: RF (RMSE: 0.7152)\n"
          ]
        }
      ]
    },
    {
      "cell_type": "code",
      "source": [
        "\n",
        "# Оптимизация гиперпараметров Optuna\n",
        "def get_param_func(name):\n",
        "    if name == 'Ridge':\n",
        "        return lambda t: {'alpha': t.suggest_float('alpha', 0.01, 100, log=True)}\n",
        "    if name == 'Lasso':\n",
        "        return lambda t: {'alpha': t.suggest_float('alpha', 0.01, 100, log=True)}\n",
        "    if name == 'RF':\n",
        "        return lambda t: {\n",
        "            'n_estimators': t.suggest_int('n_estimators', 100, 1000),\n",
        "            'max_depth': t.suggest_int('max_depth', 5, 50),\n",
        "            'min_samples_split': t.suggest_int('min_samples_split', 2, 20),\n",
        "            'min_samples_leaf': t.suggest_int('min_samples_leaf', 1, 10),\n",
        "            'max_features': t.suggest_categorical('max_features', ['sqrt', 'log2', 0.8]),\n",
        "            'random_state': 42,\n",
        "            'n_jobs': -1\n",
        "        }\n",
        "    if name == 'GB':\n",
        "        return lambda t: {\n",
        "            'n_estimators': t.suggest_int('n_estimators', 100, 1000),\n",
        "            'max_depth': t.suggest_int('max_depth', 3, 10),\n",
        "            'learning_rate': t.suggest_float('learning_rate', 0.001, 0.2, log=True),\n",
        "            'subsample': t.suggest_float('subsample', 0.5, 1.0),\n",
        "            'min_samples_leaf': t.suggest_int('min_samples_leaf', 1, 10),\n",
        "            'random_state': 42\n",
        "        }\n",
        "    if name == 'XGBoost':\n",
        "        return lambda t: {\n",
        "            'n_estimators': t.suggest_int('n_estimators', 100, 1000),\n",
        "            'max_depth': t.suggest_int('max_depth', 3, 12),\n",
        "            'learning_rate': t.suggest_float('learning_rate', 0.001, 0.3, log=True),\n",
        "            'subsample': t.suggest_float('subsample', 0.6, 1.0),\n",
        "            'colsample_bytree': t.suggest_float('colsample_bytree', 0.6, 1.0),\n",
        "            'gamma': t.suggest_float('gamma', 0, 1),\n",
        "            'reg_alpha': t.suggest_float('reg_alpha', 0, 1),\n",
        "            'random_state': 42,\n",
        "            'n_jobs': -1\n",
        "        }\n",
        "    if name == 'LightGBM':\n",
        "        return lambda t: {\n",
        "            'n_estimators': t.suggest_int('n_estimators', 100, 1000),\n",
        "            'max_depth': t.suggest_int('max_depth', 3, 15),\n",
        "            'learning_rate': t.suggest_float('learning_rate', 0.001, 0.3, log=True),\n",
        "            'subsample': t.suggest_float('subsample', 0.6, 1.0),\n",
        "            'colsample_bytree': t.suggest_float('colsample_bytree', 0.6, 1.0),\n",
        "            'num_leaves': t.suggest_int('num_leaves', 20, 200),\n",
        "            'min_child_samples': t.suggest_int('min_child_samples', 5, 50),\n",
        "            'reg_alpha': t.suggest_float('reg_alpha', 0, 1),\n",
        "            'random_state': 42,\n",
        "            'n_jobs': -1\n",
        "        }\n",
        "    return None\n",
        "\n",
        "param_func = get_param_func(best_model_name)\n",
        "\n",
        "if best_model_name not in ['Linear'] and param_func is not None:\n",
        "    print(f\"\\nОптимизация {best_model_name} с Optuna...\")\n",
        "\n",
        "    def objective(trial):\n",
        "        params = param_func(trial)\n",
        "        ModelClass = type(best_base)\n",
        "        model = ModelClass(**params)\n",
        "\n",
        "        kf = KFold(n_splits=5, shuffle=True, random_state=42)\n",
        "        scores = []\n",
        "\n",
        "        for tr_idx, val_idx in kf.split(X_train_final):\n",
        "            X_tr, y_tr = X_train_final.iloc[tr_idx], y_train[tr_idx]\n",
        "            X_val, y_val = X_train_final.iloc[val_idx], y_train[val_idx]\n",
        "\n",
        "            model.fit(X_tr, y_tr)\n",
        "            val_pred = model.predict(X_val)\n",
        "            rmse = np.sqrt(mean_squared_error(y_val, val_pred))\n",
        "            scores.append(rmse)\n",
        "\n",
        "        return np.mean(scores)\n",
        "\n",
        "    study = optuna.create_study(direction='minimize')\n",
        "    study.optimize(objective, n_trials=50, show_progress_bar=True)\n",
        "\n",
        "    print(\"\\nЛучшие гиперпараметры:\")\n",
        "    for k, v in study.best_params.items():\n",
        "        print(f\"{k}: {v}\")\n",
        "    print(f\"Лучшее значение RMSE: {study.best_value:.4f}\")\n",
        "\n",
        "    # Обучение финальной модели\n",
        "    ModelClass = type(best_base)\n",
        "    optimized = ModelClass(**study.best_params)\n",
        "    optimized.fit(X_train_final, y_train)\n",
        "\n",
        "    # Кросс-валидация\n",
        "    cv_scores = cross_val_score(\n",
        "        optimized,\n",
        "        X_train_final,\n",
        "        y_train,\n",
        "        cv=5,\n",
        "        scoring='neg_root_mean_squared_error',\n",
        "        n_jobs=-1\n",
        "    )\n",
        "    cv_rmse = -cv_scores.mean()\n",
        "    print(f\"Cross-Validation RMSE: {cv_rmse:.4f} (±{-cv_scores.std():.4f})\")\n",
        "\n",
        "    # Оценка на тесте\n",
        "    test_pred = optimized.predict(X_test_final)\n",
        "    test_rmse = np.sqrt(mean_squared_error(y_test, test_pred))\n",
        "    print(f\"Тестовый RMSE: {test_rmse:.4f}\")\n",
        "\n",
        "    # Ансамблирование\n",
        "    print(\"\\nСоздание ансамбля из 5 моделей...\")\n",
        "    ensemble_preds = []\n",
        "    for i in tqdm(range(5), desc=\"Обучение ансамбля\"):\n",
        "        model = ModelClass(**study.best_params)\n",
        "        model.set_params(**{'random_state': 42 + i})\n",
        "        model.fit(X_train_final, y_train)\n",
        "        pred_i = model.predict(X_test_final)\n",
        "        ensemble_preds.append(pred_i)\n",
        "\n",
        "    ensemble_pred = np.mean(ensemble_preds, axis=0)\n",
        "    ensemble_rmse = np.sqrt(mean_squared_error(y_test, ensemble_pred))\n",
        "    print(f\"RMSE ансамбля: {ensemble_rmse:.4f}\")\n",
        "\n",
        "    final_pred = ensemble_pred\n",
        "    final_rmse = ensemble_rmse\n",
        "else:\n",
        "    print(\"\\nОптимизация не требуется\")\n",
        "    optimized = best_base\n",
        "    optimized.fit(X_train_final, y_train)\n",
        "    final_pred = optimized.predict(X_test_final)\n",
        "    final_rmse = np.sqrt(mean_squared_error(y_test, final_pred))\n"
      ],
      "metadata": {
        "colab": {
          "base_uri": "https://localhost:8080/",
          "height": 1000,
          "referenced_widgets": [
            "8c82bc7968a14a04996380f4e4ff7708",
            "e6612e8a8b0a4e20b6f183d50423b82f",
            "4f365b03732b4d2e8b0519f090f47e0e",
            "87bbfca5e61f44c7a5466e57879c5787",
            "0458cea879964fbab7c9aa6798b2160e",
            "555733654dd84cee929c12c9f32c9e31",
            "74a66e42839a4ffaa16e67e40506b4cf",
            "b594c0880f274dd0b242430f4330a1f3",
            "48424cfa47a044079f1e108ade67210b",
            "f7fe3ad446ff461a985c87551e62c6f7",
            "84af1097e3e64e07b2a577b971d291d4"
          ]
        },
        "id": "k3J9lPDqWI4c",
        "outputId": "82f87cf0-085d-4f92-f1e2-520cde90d54f"
      },
      "execution_count": 7,
      "outputs": [
        {
          "output_type": "stream",
          "name": "stderr",
          "text": [
            "[I 2025-06-18 10:46:17,416] A new study created in memory with name: no-name-3894a035-a37c-47c8-9421-cef4ab11b284\n"
          ]
        },
        {
          "output_type": "stream",
          "name": "stdout",
          "text": [
            "\n",
            "Оптимизация RF с Optuna...\n"
          ]
        },
        {
          "output_type": "display_data",
          "data": {
            "text/plain": [
              "  0%|          | 0/50 [00:00<?, ?it/s]"
            ],
            "application/vnd.jupyter.widget-view+json": {
              "version_major": 2,
              "version_minor": 0,
              "model_id": "8c82bc7968a14a04996380f4e4ff7708"
            }
          },
          "metadata": {}
        },
        {
          "output_type": "stream",
          "name": "stdout",
          "text": [
            "[I 2025-06-18 10:46:29,031] Trial 0 finished with value: 0.6964395380404463 and parameters: {'n_estimators': 664, 'max_depth': 5, 'min_samples_split': 9, 'min_samples_leaf': 1, 'max_features': 'sqrt'}. Best is trial 0 with value: 0.6964395380404463.\n",
            "[I 2025-06-18 10:46:36,951] Trial 1 finished with value: 0.6928048836998751 and parameters: {'n_estimators': 594, 'max_depth': 21, 'min_samples_split': 8, 'min_samples_leaf': 8, 'max_features': 'log2'}. Best is trial 1 with value: 0.6928048836998751.\n",
            "[I 2025-06-18 10:46:41,120] Trial 2 finished with value: 0.6821182744106868 and parameters: {'n_estimators': 187, 'max_depth': 50, 'min_samples_split': 5, 'min_samples_leaf': 6, 'max_features': 'sqrt'}. Best is trial 2 with value: 0.6821182744106868.\n",
            "[I 2025-06-18 10:46:46,181] Trial 3 finished with value: 0.6954997726652233 and parameters: {'n_estimators': 368, 'max_depth': 26, 'min_samples_split': 5, 'min_samples_leaf': 10, 'max_features': 'sqrt'}. Best is trial 2 with value: 0.6821182744106868.\n",
            "[I 2025-06-18 10:47:26,644] Trial 4 finished with value: 0.6846916429961948 and parameters: {'n_estimators': 794, 'max_depth': 8, 'min_samples_split': 18, 'min_samples_leaf': 3, 'max_features': 0.8}. Best is trial 2 with value: 0.6821182744106868.\n",
            "[I 2025-06-18 10:47:49,433] Trial 5 finished with value: 0.6847319654524898 and parameters: {'n_estimators': 423, 'max_depth': 44, 'min_samples_split': 2, 'min_samples_leaf': 7, 'max_features': 0.8}. Best is trial 2 with value: 0.6821182744106868.\n",
            "[I 2025-06-18 10:48:00,326] Trial 6 finished with value: 0.6858145557229003 and parameters: {'n_estimators': 221, 'max_depth': 34, 'min_samples_split': 14, 'min_samples_leaf': 9, 'max_features': 0.8}. Best is trial 2 with value: 0.6821182744106868.\n",
            "[I 2025-06-18 10:48:08,651] Trial 7 finished with value: 0.6869997817074148 and parameters: {'n_estimators': 456, 'max_depth': 10, 'min_samples_split': 20, 'min_samples_leaf': 4, 'max_features': 'sqrt'}. Best is trial 2 with value: 0.6821182744106868.\n",
            "[I 2025-06-18 10:48:16,327] Trial 8 finished with value: 0.6855664362638371 and parameters: {'n_estimators': 552, 'max_depth': 47, 'min_samples_split': 13, 'min_samples_leaf': 7, 'max_features': 'sqrt'}. Best is trial 2 with value: 0.6821182744106868.\n",
            "[I 2025-06-18 10:48:18,317] Trial 9 finished with value: 0.6850700202783737 and parameters: {'n_estimators': 127, 'max_depth': 19, 'min_samples_split': 19, 'min_samples_leaf': 3, 'max_features': 'sqrt'}. Best is trial 2 with value: 0.6821182744106868.\n",
            "[I 2025-06-18 10:48:32,323] Trial 10 finished with value: 0.6819866425884296 and parameters: {'n_estimators': 944, 'max_depth': 37, 'min_samples_split': 2, 'min_samples_leaf': 5, 'max_features': 'log2'}. Best is trial 10 with value: 0.6819866425884296.\n",
            "[I 2025-06-18 10:48:46,614] Trial 11 finished with value: 0.68198044798522 and parameters: {'n_estimators': 966, 'max_depth': 39, 'min_samples_split': 2, 'min_samples_leaf': 5, 'max_features': 'log2'}. Best is trial 11 with value: 0.68198044798522.\n",
            "[I 2025-06-18 10:49:01,176] Trial 12 finished with value: 0.6817349019621881 and parameters: {'n_estimators': 990, 'max_depth': 36, 'min_samples_split': 2, 'min_samples_leaf': 5, 'max_features': 'log2'}. Best is trial 12 with value: 0.6817349019621881.\n",
            "[I 2025-06-18 10:49:15,772] Trial 13 finished with value: 0.6817763249176639 and parameters: {'n_estimators': 995, 'max_depth': 36, 'min_samples_split': 5, 'min_samples_leaf': 5, 'max_features': 'log2'}. Best is trial 12 with value: 0.6817349019621881.\n",
            "[I 2025-06-18 10:49:29,042] Trial 14 finished with value: 0.6775351411938495 and parameters: {'n_estimators': 778, 'max_depth': 31, 'min_samples_split': 6, 'min_samples_leaf': 1, 'max_features': 'log2'}. Best is trial 14 with value: 0.6775351411938495.\n",
            "[I 2025-06-18 10:49:42,049] Trial 15 finished with value: 0.6777183219336456 and parameters: {'n_estimators': 781, 'max_depth': 30, 'min_samples_split': 8, 'min_samples_leaf': 1, 'max_features': 'log2'}. Best is trial 14 with value: 0.6775351411938495.\n",
            "[I 2025-06-18 10:49:54,734] Trial 16 finished with value: 0.6775046222078668 and parameters: {'n_estimators': 776, 'max_depth': 29, 'min_samples_split': 9, 'min_samples_leaf': 1, 'max_features': 'log2'}. Best is trial 16 with value: 0.6775046222078668.\n",
            "[I 2025-06-18 10:50:09,502] Trial 17 finished with value: 0.6780917086055673 and parameters: {'n_estimators': 805, 'max_depth': 25, 'min_samples_split': 11, 'min_samples_leaf': 2, 'max_features': 'log2'}. Best is trial 16 with value: 0.6775046222078668.\n",
            "[I 2025-06-18 10:50:20,486] Trial 18 finished with value: 0.6825344741455794 and parameters: {'n_estimators': 703, 'max_depth': 18, 'min_samples_split': 15, 'min_samples_leaf': 2, 'max_features': 'log2'}. Best is trial 16 with value: 0.6775046222078668.\n",
            "[I 2025-06-18 10:50:34,250] Trial 19 finished with value: 0.6788662076554399 and parameters: {'n_estimators': 867, 'max_depth': 29, 'min_samples_split': 11, 'min_samples_leaf': 1, 'max_features': 'log2'}. Best is trial 16 with value: 0.6775046222078668.\n",
            "[I 2025-06-18 10:50:43,852] Trial 20 finished with value: 0.6773537210351918 and parameters: {'n_estimators': 713, 'max_depth': 13, 'min_samples_split': 7, 'min_samples_leaf': 3, 'max_features': 'log2'}. Best is trial 20 with value: 0.6773537210351918.\n",
            "[I 2025-06-18 10:50:55,093] Trial 21 finished with value: 0.676055083296129 and parameters: {'n_estimators': 668, 'max_depth': 14, 'min_samples_split': 6, 'min_samples_leaf': 2, 'max_features': 'log2'}. Best is trial 21 with value: 0.676055083296129.\n",
            "[I 2025-06-18 10:51:05,416] Trial 22 finished with value: 0.6778292011353957 and parameters: {'n_estimators': 630, 'max_depth': 14, 'min_samples_split': 7, 'min_samples_leaf': 3, 'max_features': 'log2'}. Best is trial 21 with value: 0.676055083296129.\n",
            "[I 2025-06-18 10:51:16,312] Trial 23 finished with value: 0.677683183818879 and parameters: {'n_estimators': 693, 'max_depth': 15, 'min_samples_split': 10, 'min_samples_leaf': 2, 'max_features': 'log2'}. Best is trial 21 with value: 0.676055083296129.\n",
            "[I 2025-06-18 10:51:23,304] Trial 24 finished with value: 0.6783240692500674 and parameters: {'n_estimators': 503, 'max_depth': 24, 'min_samples_split': 4, 'min_samples_leaf': 4, 'max_features': 'log2'}. Best is trial 21 with value: 0.676055083296129.\n",
            "[I 2025-06-18 10:52:18,408] Trial 25 finished with value: 0.6809879415926936 and parameters: {'n_estimators': 856, 'max_depth': 13, 'min_samples_split': 7, 'min_samples_leaf': 2, 'max_features': 0.8}. Best is trial 21 with value: 0.676055083296129.\n",
            "[I 2025-06-18 10:52:28,764] Trial 26 finished with value: 0.6820241615398496 and parameters: {'n_estimators': 721, 'max_depth': 21, 'min_samples_split': 11, 'min_samples_leaf': 4, 'max_features': 'log2'}. Best is trial 21 with value: 0.676055083296129.\n",
            "[I 2025-06-18 10:52:41,898] Trial 27 finished with value: 0.6795942731837068 and parameters: {'n_estimators': 891, 'max_depth': 11, 'min_samples_split': 9, 'min_samples_leaf': 3, 'max_features': 'log2'}. Best is trial 21 with value: 0.676055083296129.\n",
            "[I 2025-06-18 10:52:50,295] Trial 28 finished with value: 0.7042569140755073 and parameters: {'n_estimators': 591, 'max_depth': 5, 'min_samples_split': 13, 'min_samples_leaf': 2, 'max_features': 'log2'}. Best is trial 21 with value: 0.676055083296129.\n",
            "[I 2025-06-18 10:53:40,029] Trial 29 finished with value: 0.6823836178892195 and parameters: {'n_estimators': 730, 'max_depth': 16, 'min_samples_split': 9, 'min_samples_leaf': 1, 'max_features': 0.8}. Best is trial 21 with value: 0.676055083296129.\n",
            "[I 2025-06-18 10:53:49,551] Trial 30 finished with value: 0.6998795450369011 and parameters: {'n_estimators': 647, 'max_depth': 5, 'min_samples_split': 7, 'min_samples_leaf': 1, 'max_features': 'log2'}. Best is trial 21 with value: 0.676055083296129.\n",
            "[I 2025-06-18 10:54:02,731] Trial 31 finished with value: 0.6775490323463066 and parameters: {'n_estimators': 749, 'max_depth': 22, 'min_samples_split': 6, 'min_samples_leaf': 1, 'max_features': 'log2'}. Best is trial 21 with value: 0.676055083296129.\n",
            "[I 2025-06-18 10:54:14,380] Trial 32 finished with value: 0.6769226386873426 and parameters: {'n_estimators': 650, 'max_depth': 31, 'min_samples_split': 4, 'min_samples_leaf': 2, 'max_features': 'log2'}. Best is trial 21 with value: 0.676055083296129.\n",
            "[I 2025-06-18 10:54:22,689] Trial 33 finished with value: 0.6788628023919691 and parameters: {'n_estimators': 599, 'max_depth': 32, 'min_samples_split': 3, 'min_samples_leaf': 3, 'max_features': 'log2'}. Best is trial 21 with value: 0.676055083296129.\n",
            "[I 2025-06-18 10:54:34,600] Trial 34 finished with value: 0.6767176180813531 and parameters: {'n_estimators': 674, 'max_depth': 28, 'min_samples_split': 4, 'min_samples_leaf': 2, 'max_features': 'log2'}. Best is trial 21 with value: 0.676055083296129.\n",
            "[I 2025-06-18 10:54:43,537] Trial 35 finished with value: 0.6787441314780988 and parameters: {'n_estimators': 526, 'max_depth': 26, 'min_samples_split': 4, 'min_samples_leaf': 4, 'max_features': 'log2'}. Best is trial 21 with value: 0.676055083296129.\n",
            "[I 2025-06-18 10:54:56,941] Trial 36 finished with value: 0.6776330205681236 and parameters: {'n_estimators': 669, 'max_depth': 19, 'min_samples_split': 4, 'min_samples_leaf': 2, 'max_features': 'sqrt'}. Best is trial 21 with value: 0.676055083296129.\n",
            "[I 2025-06-18 10:55:02,001] Trial 37 finished with value: 0.6786540501401429 and parameters: {'n_estimators': 362, 'max_depth': 23, 'min_samples_split': 6, 'min_samples_leaf': 3, 'max_features': 'log2'}. Best is trial 21 with value: 0.676055083296129.\n",
            "[I 2025-06-18 10:55:29,985] Trial 38 finished with value: 0.6829161849916244 and parameters: {'n_estimators': 563, 'max_depth': 8, 'min_samples_split': 5, 'min_samples_leaf': 6, 'max_features': 0.8}. Best is trial 21 with value: 0.676055083296129.\n",
            "[I 2025-06-18 10:55:42,466] Trial 39 finished with value: 0.6775929232850801 and parameters: {'n_estimators': 612, 'max_depth': 40, 'min_samples_split': 4, 'min_samples_leaf': 2, 'max_features': 'sqrt'}. Best is trial 21 with value: 0.676055083296129.\n",
            "[I 2025-06-18 10:55:49,132] Trial 40 finished with value: 0.678749246860772 and parameters: {'n_estimators': 483, 'max_depth': 27, 'min_samples_split': 3, 'min_samples_leaf': 3, 'max_features': 'log2'}. Best is trial 21 with value: 0.676055083296129.\n",
            "[I 2025-06-18 10:56:00,405] Trial 41 finished with value: 0.6773566879014304 and parameters: {'n_estimators': 672, 'max_depth': 28, 'min_samples_split': 7, 'min_samples_leaf': 2, 'max_features': 'log2'}. Best is trial 21 with value: 0.676055083296129.\n",
            "[I 2025-06-18 10:56:11,566] Trial 42 finished with value: 0.6772203294634191 and parameters: {'n_estimators': 659, 'max_depth': 33, 'min_samples_split': 6, 'min_samples_leaf': 2, 'max_features': 'log2'}. Best is trial 21 with value: 0.676055083296129.\n",
            "[I 2025-06-18 10:56:19,793] Trial 43 finished with value: 0.7012973636984364 and parameters: {'n_estimators': 659, 'max_depth': 32, 'min_samples_split': 3, 'min_samples_leaf': 10, 'max_features': 'log2'}. Best is trial 21 with value: 0.676055083296129.\n",
            "[I 2025-06-18 10:56:32,137] Trial 44 finished with value: 0.678882243963278 and parameters: {'n_estimators': 828, 'max_depth': 42, 'min_samples_split': 5, 'min_samples_leaf': 4, 'max_features': 'log2'}. Best is trial 21 with value: 0.676055083296129.\n",
            "[I 2025-06-18 10:56:53,490] Trial 45 finished with value: 0.685171873223411 and parameters: {'n_estimators': 417, 'max_depth': 34, 'min_samples_split': 8, 'min_samples_leaf': 8, 'max_features': 0.8}. Best is trial 21 with value: 0.676055083296129.\n",
            "[I 2025-06-18 10:57:04,392] Trial 46 finished with value: 0.6763461193934772 and parameters: {'n_estimators': 554, 'max_depth': 34, 'min_samples_split': 6, 'min_samples_leaf': 3, 'max_features': 'sqrt'}. Best is trial 21 with value: 0.676055083296129.\n",
            "[I 2025-06-18 10:57:14,547] Trial 47 finished with value: 0.6821473804537519 and parameters: {'n_estimators': 560, 'max_depth': 33, 'min_samples_split': 17, 'min_samples_leaf': 2, 'max_features': 'sqrt'}. Best is trial 21 with value: 0.676055083296129.\n",
            "[I 2025-06-18 10:57:21,754] Trial 48 finished with value: 0.6754704043543359 and parameters: {'n_estimators': 327, 'max_depth': 37, 'min_samples_split': 6, 'min_samples_leaf': 3, 'max_features': 'sqrt'}. Best is trial 48 with value: 0.6754704043543359.\n",
            "[I 2025-06-18 10:57:26,174] Trial 49 finished with value: 0.6762322627851038 and parameters: {'n_estimators': 272, 'max_depth': 38, 'min_samples_split': 3, 'min_samples_leaf': 4, 'max_features': 'sqrt'}. Best is trial 48 with value: 0.6754704043543359.\n",
            "\n",
            "Лучшие гиперпараметры:\n",
            "n_estimators: 327\n",
            "max_depth: 37\n",
            "min_samples_split: 6\n",
            "min_samples_leaf: 3\n",
            "max_features: sqrt\n",
            "Лучшее значение RMSE: 0.6755\n",
            "Cross-Validation RMSE: 0.6743 (±-0.0425)\n",
            "Тестовый RMSE: 0.7000\n",
            "\n",
            "Создание ансамбля из 5 моделей...\n"
          ]
        },
        {
          "output_type": "stream",
          "name": "stderr",
          "text": [
            "Обучение ансамбля: 100%|██████████| 5/5 [00:07<00:00,  1.51s/it]"
          ]
        },
        {
          "output_type": "stream",
          "name": "stdout",
          "text": [
            "RMSE ансамбля: 0.7028\n"
          ]
        },
        {
          "output_type": "stream",
          "name": "stderr",
          "text": [
            "\n"
          ]
        }
      ]
    },
    {
      "cell_type": "code",
      "source": [
        "\n",
        "# Финальная визуализация\n",
        "plt.figure(figsize=(10, 5))\n",
        "plt.scatter(y_test, final_pred, alpha=0.6, c=np.abs(y_test - final_pred), cmap='viridis')\n",
        "plt.colorbar(label='Абсолютная ошибка')\n",
        "plt.plot([min(y_test), max(y_test)], [min(y_test), max(y_test)], 'r--')\n",
        "plt.xlabel('Истинные значения')\n",
        "plt.ylabel('Предсказания')\n",
        "plt.title(f'Финальные предсказания ({best_model_name})')\n",
        "plt.grid(True)\n",
        "plt.savefig(f'{SAVE_DIR}/final_predictions.png')\n",
        "plt.show()\n"
      ],
      "metadata": {
        "colab": {
          "base_uri": "https://localhost:8080/",
          "height": 487
        },
        "id": "MkAjyIZSWGSW",
        "outputId": "73bc6ea6-a6c6-4aec-9200-aae935029915"
      },
      "execution_count": 8,
      "outputs": [
        {
          "output_type": "display_data",
          "data": {
            "text/plain": [
              "<Figure size 1000x500 with 2 Axes>"
            ],
            "image/png": "[encoded data removed]"
          },
          "metadata": {}
        }
      ]
    },
    {
      "cell_type": "code",
      "source": [
        "\n",
        "# Анализ важности признаков\n",
        "if hasattr(optimized, 'feature_importances_'):\n",
        "    importances = optimized.feature_importances_\n",
        "    feat_importance = pd.DataFrame({\n",
        "        'Feature': selected_features,\n",
        "        'Importance': importances\n",
        "    }).sort_values('Importance', ascending=False)\n",
        "\n",
        "    # Топ-20 признаков\n",
        "    plt.figure(figsize=(10, 8))\n",
        "    sns.barplot(x='Importance', y='Feature', data=feat_importance.head(20))\n",
        "    plt.title('Важность признаков')\n",
        "    plt.tight_layout()\n",
        "    plt.savefig(f'{SAVE_DIR}/feature_importance.png')\n",
        "    plt.show()\n",
        "\n",
        "    # Интерактивная визуализация\n",
        "    fig = px.bar(feat_importance.head(20), x='Importance', y='Feature', orientation='h')\n",
        "    fig.write_html(f'{SAVE_DIR}/feature_importance.html')\n",
        "\n",
        "    feat_importance.to_csv(f'{SAVE_DIR}/feature_importance.csv', index=False)\n"
      ],
      "metadata": {
        "colab": {
          "base_uri": "https://localhost:8080/",
          "height": 807
        },
        "id": "tyufGm2nWFJs",
        "outputId": "c1515cd4-3178-42e9-be98-fc6fc21d45b0"
      },
      "execution_count": 9,
      "outputs": [
        {
          "output_type": "display_data",
          "data": {
            "text/plain": [
              "<Figure size 1000x800 with 1 Axes>"
            ],
            "image/png": "[encoded data removed]"
          },
          "metadata": {}
        }
      ]
    },
    {
      "cell_type": "code",
      "source": [
        "\n",
        "# Анализ ошибок\n",
        "errors = y_test - final_pred\n",
        "max_error_idx = np.argsort(np.abs(errors))[::-1][:10]\n",
        "error_df = pd.DataFrame({\n",
        "    'True Value': y_test[max_error_idx],\n",
        "    'Predicted Value': final_pred[max_error_idx],\n",
        "    'Error': errors[max_error_idx]\n",
        "}, index=y_test_df.index[max_error_idx])\n",
        "\n",
        "print(\"\\nСоединения с наибольшими ошибками:\")\n",
        "display(error_df)\n"
      ],
      "metadata": {
        "colab": {
          "base_uri": "https://localhost:8080/",
          "height": 385
        },
        "id": "5fv5bHj0WEbH",
        "outputId": "9869293f-2b67-486b-828b-017ce1872374"
      },
      "execution_count": 10,
      "outputs": [
        {
          "output_type": "stream",
          "name": "stdout",
          "text": [
            "\n",
            "Соединения с наибольшими ошибками:\n"
          ]
        },
        {
          "output_type": "display_data",
          "data": {
            "text/plain": [
              "     True Value  Predicted Value     Error\n",
              "798   -1.698089         0.296299 -1.994388\n",
              "879    0.826739        -0.969366  1.796105\n",
              "785   -1.462399         0.296299 -1.758698\n",
              "199   -2.871018        -1.119199 -1.751819\n",
              "533   -0.207429        -1.922248  1.714819\n",
              "299   -2.947625        -1.279947 -1.667678\n",
              "208   -0.691277        -2.343950  1.652673\n",
              "687   -2.848370        -1.215564 -1.632806\n",
              "787   -1.204154         0.296299 -1.500453\n",
              "796    1.795759         0.296299  1.499460"
            ],
            "text/html": [
              "\n",
              "  <div id=\"df-26383e50-ac09-4ee3-848d-4fc4b6e4b7ba\" class=\"colab-df-container\">\n",
              "    <div>\n",
              "<style scoped>\n",
              "    .dataframe tbody tr th:only-of-type {\n",
              "        vertical-align: middle;\n",
              "    }\n",
              "\n",
              "    .dataframe tbody tr th {\n",
              "        vertical-align: top;\n",
              "    }\n",
              "\n",
              "    .dataframe thead th {\n",
              "        text-align: right;\n",
              "    }\n",
              "</style>\n",
              "<table border=\"1\" class=\"dataframe\">\n",
              "  <thead>\n",
              "    <tr style=\"text-align: right;\">\n",
              "      <th></th>\n",
              "      <th>True Value</th>\n",
              "      <th>Predicted Value</th>\n",
              "      <th>Error</th>\n",
              "    </tr>\n",
              "  </thead>\n",
              "  <tbody>\n",
              "    <tr>\n",
              "      <th>798</th>\n",
              "      <td>-1.698089</td>\n",
              "      <td>0.296299</td>\n",
              "      <td>-1.994388</td>\n",
              "    </tr>\n",
              "    <tr>\n",
              "      <th>879</th>\n",
              "      <td>0.826739</td>\n",
              "      <td>-0.969366</td>\n",
              "      <td>1.796105</td>\n",
              "    </tr>\n",
              "    <tr>\n",
              "      <th>785</th>\n",
              "      <td>-1.462399</td>\n",
              "      <td>0.296299</td>\n",
              "      <td>-1.758698</td>\n",
              "    </tr>\n",
              "    <tr>\n",
              "      <th>199</th>\n",
              "      <td>-2.871018</td>\n",
              "      <td>-1.119199</td>\n",
              "      <td>-1.751819</td>\n",
              "    </tr>\n",
              "    <tr>\n",
              "      <th>533</th>\n",
              "      <td>-0.207429</td>\n",
              "      <td>-1.922248</td>\n",
              "      <td>1.714819</td>\n",
              "    </tr>\n",
              "    <tr>\n",
              "      <th>299</th>\n",
              "      <td>-2.947625</td>\n",
              "      <td>-1.279947</td>\n",
              "      <td>-1.667678</td>\n",
              "    </tr>\n",
              "    <tr>\n",
              "      <th>208</th>\n",
              "      <td>-0.691277</td>\n",
              "      <td>-2.343950</td>\n",
              "      <td>1.652673</td>\n",
              "    </tr>\n",
              "    <tr>\n",
              "      <th>687</th>\n",
              "      <td>-2.848370</td>\n",
              "      <td>-1.215564</td>\n",
              "      <td>-1.632806</td>\n",
              "    </tr>\n",
              "    <tr>\n",
              "      <th>787</th>\n",
              "      <td>-1.204154</td>\n",
              "      <td>0.296299</td>\n",
              "      <td>-1.500453</td>\n",
              "    </tr>\n",
              "    <tr>\n",
              "      <th>796</th>\n",
              "      <td>1.795759</td>\n",
              "      <td>0.296299</td>\n",
              "      <td>1.499460</td>\n",
              "    </tr>\n",
              "  </tbody>\n",
              "</table>\n",
              "</div>\n",
              "    <div class=\"colab-df-buttons\">\n",
              "\n",
              "  <div class=\"colab-df-container\">\n",
              "    <button class=\"colab-df-convert\" onclick=\"convertToInteractive('df-26383e50-ac09-4ee3-848d-4fc4b6e4b7ba')\"\n",
              "            title=\"Convert this dataframe to an interactive table.\"\n",
              "            style=\"display:none;\">\n",
              "\n",
              "  <svg xmlns=\"http://www.w3.org/2000/svg\" height=\"24px\" viewBox=\"0 -960 960 960\">\n",
              "    <path d=\"M120-120v-720h720v720H120Zm60-500h600v-160H180v160Zm220 220h160v-160H400v160Zm0 220h160v-160H400v160ZM180-400h160v-160H180v160Zm440 0h160v-160H620v160ZM180-180h160v-160H180v160Zm440 0h160v-160H620v160Z\"/>\n",
              "  </svg>\n",
              "    </button>\n",
              "\n",
              "  <style>\n",
              "    .colab-df-container {\n",
              "      display:flex;\n",
              "      gap: 12px;\n",
              "    }\n",
              "\n",
              "    .colab-df-convert {\n",
              "      background-color: #E8F0FE;\n",
              "      border: none;\n",
              "      border-radius: 50%;\n",
              "      cursor: pointer;\n",
              "      display: none;\n",
              "      fill: #1967D2;\n",
              "      height: 32px;\n",
              "      padding: 0 0 0 0;\n",
              "      width: 32px;\n",
              "    }\n",
              "\n",
              "    .colab-df-convert:hover {\n",
              "      background-color: #E2EBFA;\n",
              "      box-shadow: 0px 1px 2px rgba(60, 64, 67, 0.3), 0px 1px 3px 1px rgba(60, 64, 67, 0.15);\n",
              "      fill: #174EA6;\n",
              "    }\n",
              "\n",
              "    .colab-df-buttons div {\n",
              "      margin-bottom: 4px;\n",
              "    }\n",
              "\n",
              "    [theme=dark] .colab-df-convert {\n",
              "      background-color: #3B4455;\n",
              "      fill: #D2E3FC;\n",
              "    }\n",
              "\n",
              "    [theme=dark] .colab-df-convert:hover {\n",
              "      background-color: #434B5C;\n",
              "      box-shadow: 0px 1px 3px 1px rgba(0, 0, 0, 0.15);\n",
              "      filter: drop-shadow(0px 1px 2px rgba(0, 0, 0, 0.3));\n",
              "      fill: #FFFFFF;\n",
              "    }\n",
              "  </style>\n",
              "\n",
              "    <script>\n",
              "      const buttonEl =\n",
              "        document.querySelector('#df-26383e50-ac09-4ee3-848d-4fc4b6e4b7ba button.colab-df-convert');\n",
              "      buttonEl.style.display =\n",
              "        google.colab.kernel.accessAllowed ? 'block' : 'none';\n",
              "\n",
              "      async function convertToInteractive(key) {\n",
              "        const element = document.querySelector('#df-26383e50-ac09-4ee3-848d-4fc4b6e4b7ba');\n",
              "        const dataTable =\n",
              "          await google.colab.kernel.invokeFunction('convertToInteractive',\n",
              "                                                    [key], {});\n",
              "        if (!dataTable) return;\n",
              "\n",
              "        const docLinkHtml = 'Like what you see? Visit the ' +\n",
              "          '<a target=\"_blank\" href=https://colab.research.google.com/notebooks/data_table.ipynb>data table notebook</a>'\n",
              "          + ' to learn more about interactive tables.';\n",
              "        element.innerHTML = '';\n",
              "        dataTable['output_type'] = 'display_data';\n",
              "        await google.colab.output.renderOutput(dataTable, element);\n",
              "        const docLink = document.createElement('div');\n",
              "        docLink.innerHTML = docLinkHtml;\n",
              "        element.appendChild(docLink);\n",
              "      }\n",
              "    </script>\n",
              "  </div>\n",
              "\n",
              "\n",
              "    <div id=\"df-4135ebc1-7ec0-4862-bcbc-2c699eb8262e\">\n",
              "      <button class=\"colab-df-quickchart\" onclick=\"quickchart('df-4135ebc1-7ec0-4862-bcbc-2c699eb8262e')\"\n",
              "                title=\"Suggest charts\"\n",
              "                style=\"display:none;\">\n",
              "\n",
              "<svg xmlns=\"http://www.w3.org/2000/svg\" height=\"24px\"viewBox=\"0 0 24 24\"\n",
              "     width=\"24px\">\n",
              "    <g>\n",
              "        <path d=\"M19 3H5c-1.1 0-2 .9-2 2v14c0 1.1.9 2 2 2h14c1.1 0 2-.9 2-2V5c0-1.1-.9-2-2-2zM9 17H7v-7h2v7zm4 0h-2V7h2v10zm4 0h-2v-4h2v4z\"/>\n",
              "    </g>\n",
              "</svg>\n",
              "      </button>\n",
              "\n",
              "<style>\n",
              "  .colab-df-quickchart {\n",
              "      --bg-color: #E8F0FE;\n",
              "      --fill-color: #1967D2;\n",
              "      --hover-bg-color: #E2EBFA;\n",
              "      --hover-fill-color: #174EA6;\n",
              "      --disabled-fill-color: #AAA;\n",
              "      --disabled-bg-color: #DDD;\n",
              "  }\n",
              "\n",
              "  [theme=dark] .colab-df-quickchart {\n",
              "      --bg-color: #3B4455;\n",
              "      --fill-color: #D2E3FC;\n",
              "      --hover-bg-color: #434B5C;\n",
              "      --hover-fill-color: #FFFFFF;\n",
              "      --disabled-bg-color: #3B4455;\n",
              "      --disabled-fill-color: #666;\n",
              "  }\n",
              "\n",
              "  .colab-df-quickchart {\n",
              "    background-color: var(--bg-color);\n",
              "    border: none;\n",
              "    border-radius: 50%;\n",
              "    cursor: pointer;\n",
              "    display: none;\n",
              "    fill: var(--fill-color);\n",
              "    height: 32px;\n",
              "    padding: 0;\n",
              "    width: 32px;\n",
              "  }\n",
              "\n",
              "  .colab-df-quickchart:hover {\n",
              "    background-color: var(--hover-bg-color);\n",
              "    box-shadow: 0 1px 2px rgba(60, 64, 67, 0.3), 0 1px 3px 1px rgba(60, 64, 67, 0.15);\n",
              "    fill: var(--button-hover-fill-color);\n",
              "  }\n",
              "\n",
              "  .colab-df-quickchart-complete:disabled,\n",
              "  .colab-df-quickchart-complete:disabled:hover {\n",
              "    background-color: var(--disabled-bg-color);\n",
              "    fill: var(--disabled-fill-color);\n",
              "    box-shadow: none;\n",
              "  }\n",
              "\n",
              "  .colab-df-spinner {\n",
              "    border: 2px solid var(--fill-color);\n",
              "    border-color: transparent;\n",
              "    border-bottom-color: var(--fill-color);\n",
              "    animation:\n",
              "      spin 1s steps(1) infinite;\n",
              "  }\n",
              "\n",
              "  @keyframes spin {\n",
              "    0% {\n",
              "      border-color: transparent;\n",
              "      border-bottom-color: var(--fill-color);\n",
              "      border-left-color: var(--fill-color);\n",
              "    }\n",
              "    20% {\n",
              "      border-color: transparent;\n",
              "      border-left-color: var(--fill-color);\n",
              "      border-top-color: var(--fill-color);\n",
              "    }\n",
              "    30% {\n",
              "      border-color: transparent;\n",
              "      border-left-color: var(--fill-color);\n",
              "      border-top-color: var(--fill-color);\n",
              "      border-right-color: var(--fill-color);\n",
              "    }\n",
              "    40% {\n",
              "      border-color: transparent;\n",
              "      border-right-color: var(--fill-color);\n",
              "      border-top-color: var(--fill-color);\n",
              "    }\n",
              "    60% {\n",
              "      border-color: transparent;\n",
              "      border-right-color: var(--fill-color);\n",
              "    }\n",
              "    80% {\n",
              "      border-color: transparent;\n",
              "      border-right-color: var(--fill-color);\n",
              "      border-bottom-color: var(--fill-color);\n",
              "    }\n",
              "    90% {\n",
              "      border-color: transparent;\n",
              "      border-bottom-color: var(--fill-color);\n",
              "    }\n",
              "  }\n",
              "</style>\n",
              "\n",
              "      <script>\n",
              "        async function quickchart(key) {\n",
              "          const quickchartButtonEl =\n",
              "            document.querySelector('#' + key + ' button');\n",
              "          quickchartButtonEl.disabled = true;  // To prevent multiple clicks.\n",
              "          quickchartButtonEl.classList.add('colab-df-spinner');\n",
              "          try {\n",
              "            const charts = await google.colab.kernel.invokeFunction(\n",
              "                'suggestCharts', [key], {});\n",
              "          } catch (error) {\n",
              "            console.error('Error during call to suggestCharts:', error);\n",
              "          }\n",
              "          quickchartButtonEl.classList.remove('colab-df-spinner');\n",
              "          quickchartButtonEl.classList.add('colab-df-quickchart-complete');\n",
              "        }\n",
              "        (() => {\n",
              "          let quickchartButtonEl =\n",
              "            document.querySelector('#df-4135ebc1-7ec0-4862-bcbc-2c699eb8262e button');\n",
              "          quickchartButtonEl.style.display =\n",
              "            google.colab.kernel.accessAllowed ? 'block' : 'none';\n",
              "        })();\n",
              "      </script>\n",
              "    </div>\n",
              "    </div>\n",
              "  </div>\n"
            ],
            "application/vnd.google.colaboratory.intrinsic+json": {
              "type": "dataframe",
              "variable_name": "error_df",
              "summary": "{\n  \"name\": \"error_df\",\n  \"rows\": 10,\n  \"fields\": [\n    {\n      \"column\": \"True Value\",\n      \"properties\": {\n        \"dtype\": \"number\",\n        \"std\": 1.6041237604229055,\n        \"min\": -2.9476254531017485,\n        \"max\": 1.7957590929268534,\n        \"num_unique_values\": 10,\n        \"samples\": [\n          -1.204154039489718,\n          0.8267390449958129,\n          -2.9476254531017485\n        ],\n        \"semantic_type\": \"\",\n        \"description\": \"\"\n      }\n    },\n    {\n      \"column\": \"Predicted Value\",\n      \"properties\": {\n        \"dtype\": \"number\",\n        \"std\": 0.9985049381532545,\n        \"min\": -2.3439499943965285,\n        \"max\": 0.29629927665533795,\n        \"num_unique_values\": 7,\n        \"samples\": [\n          0.29629927665533795,\n          -0.9693659902154309,\n          -2.3439499943965285\n        ],\n        \"semantic_type\": \"\",\n        \"description\": \"\"\n      }\n    },\n    {\n      \"column\": \"Error\",\n      \"properties\": {\n        \"dtype\": \"number\",\n        \"std\": 1.7530087813500064,\n        \"min\": -1.9943884364407607,\n        \"max\": 1.7961050352112438,\n        \"num_unique_values\": 10,\n        \"samples\": [\n          -1.5004533161450562,\n          1.7961050352112438,\n          -1.6676782886023267\n        ],\n        \"semantic_type\": \"\",\n        \"description\": \"\"\n      }\n    }\n  ]\n}"
            }
          },
          "metadata": {}
        }
      ]
    },
    {
      "cell_type": "code",
      "source": [
        "\n",
        "# Сохранение полных результатов\n",
        "results_df = pd.DataFrame({\n",
        "    'True Value': y_test,\n",
        "    'Predicted Value': final_pred,\n",
        "    'Error': errors\n",
        "}, index=y_test_df.index)\n",
        "\n",
        "results_df.to_csv(f'{SAVE_DIR}/predictions_{best_target}_{best_model_name}.csv')\n",
        "print(f\"\\nРезультаты сохранены в {SAVE_DIR}\")\n"
      ],
      "metadata": {
        "colab": {
          "base_uri": "https://localhost:8080/"
        },
        "id": "ieG4ItZLWDrE",
        "outputId": "d6dd3309-9ecc-4128-a1ce-6c3165237555"
      },
      "execution_count": 11,
      "outputs": [
        {
          "output_type": "stream",
          "name": "stdout",
          "text": [
            "\n",
            "Результаты сохранены в /content/drive/MyDrive/data_c/model_results\n"
          ]
        }
      ]
    },
    {
      "cell_type": "code",
      "source": [
        "\n",
        "print(\"\\nФинальный отчет:\")\n",
        "print(f\"Целевая переменная: {best_target}\")\n",
        "print(f\"Лучшая модель: {best_model_name}\")\n",
        "print(f\"Финальный RMSE: {final_rmse:.4f}\")\n",
        "print(f\"R²: {r2_score(y_test, final_pred):.4f}\")\n",
        "print(f\"Pearsonr: {pearsonr(y_test, final_pred)[0]:.4f}\")"
      ],
      "metadata": {
        "colab": {
          "base_uri": "https://localhost:8080/"
        },
        "id": "pqDLrV1OWDAV",
        "outputId": "2c71a4a7-1fb2-41c3-fa68-21a966ec983b"
      },
      "execution_count": 12,
      "outputs": [
        {
          "output_type": "stream",
          "name": "stdout",
          "text": [
            "\n",
            "Финальный отчет:\n",
            "Целевая переменная: pIC50\n",
            "Лучшая модель: RF\n",
            "Финальный RMSE: 0.7028\n",
            "R²: 0.5199\n",
            "Pearsonr: 0.7233\n"
          ]
        }
      ]
    }
  ]
}
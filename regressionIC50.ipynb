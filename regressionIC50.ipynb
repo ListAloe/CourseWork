{
  "nbformat": 4,
  "nbformat_minor": 0,
  "metadata": {
    "colab": {
      "provenance": []
    },
    "kernelspec": {
      "name": "python3",
      "display_name": "Python 3"
    },
    "language_info": {
      "name": "python"
    },
    
        "997a4f904bb94fe0b72063b36fee2682": {
          "model_module": "@jupyter-widgets/controls",
          "model_name": "HTMLModel",
          "model_module_version": "1.5.0",
          "state": {
            "_dom_classes": [],
            "_model_module": "@jupyter-widgets/controls",
            "_model_module_version": "1.5.0",
            "_model_name": "HTMLModel",
            "_view_count": null,
            "_view_module": "@jupyter-widgets/controls",
            "_view_module_version": "1.5.0",
            "_view_name": "HTMLView",
            "description": "",
            "description_tooltip": null,
            "layout": "IPY_MODEL_9477e09f4de34c6abd7f34580437c0a0",
            "placeholder": "​",
            "style": "IPY_MODEL_b06026b756bd4c6c815d0bef17fcf6df",
            "value": "Best trial: 48. Best value: 0.673748: 100%"
          }
        },
        "395585677c144b8a9939f45e8590730d": {
          "model_module": "@jupyter-widgets/controls",
          "model_name": "FloatProgressModel",
          "model_module_version": "1.5.0",
          "state": {
            "_dom_classes": [],
            "_model_module": "@jupyter-widgets/controls",
            "_model_module_version": "1.5.0",
            "_model_name": "FloatProgressModel",
            "_view_count": null,
            "_view_module": "@jupyter-widgets/controls",
            "_view_module_version": "1.5.0",
            "_view_name": "ProgressView",
            "bar_style": "success",
            "description": "",
            "description_tooltip": null,
            "layout": "IPY_MODEL_e90d9b8bdf2b4c5786a039effee8f242",
            "max": 50,
            "min": 0,
            "orientation": "horizontal",
            "style": "IPY_MODEL_a31b2440b39643f78e58a94a6de7df8b",
            "value": 50
          }
        },
        "2499965151264d8cb87c75db7a9d22a4": {
          "model_module": "@jupyter-widgets/controls",
          "model_name": "HTMLModel",
          "model_module_version": "1.5.0",
          "state": {
            "_dom_classes": [],
            "_model_module": "@jupyter-widgets/controls",
            "_model_module_version": "1.5.0",
            "_model_name": "HTMLModel",
            "_view_count": null,
            "_view_module": "@jupyter-widgets/controls",
            "_view_module_version": "1.5.0",
            "_view_name": "HTMLView",
            "description": "",
            "description_tooltip": null,
            "layout": "IPY_MODEL_bf3daa4e8527477ca46e22f03f3081ad",
            "placeholder": "​",
            "style": "IPY_MODEL_1a8a455f32694e409f774fb2afbe871f",
            "value": " 50/50 [10:37&lt;00:00, 11.77s/it]"
          }
        },
        "f99ce9cd753f49d1963ef466f24b849c": {
          "model_module": "@jupyter-widgets/base",
          "model_name": "LayoutModel",
          "model_module_version": "1.2.0",
          "state": {
            "_model_module": "@jupyter-widgets/base",
            "_model_module_version": "1.2.0",
            "_model_name": "LayoutModel",
            "_view_count": null,
            "_view_module": "@jupyter-widgets/base",
            "_view_module_version": "1.2.0",
            "_view_name": "LayoutView",
            "align_content": null,
            "align_items": null,
            "align_self": null,
            "border": null,
            "bottom": null,
            "display": null,
            "flex": null,
            "flex_flow": null,
            "grid_area": null,
            "grid_auto_columns": null,
            "grid_auto_flow": null,
            "grid_auto_rows": null,
            "grid_column": null,
            "grid_gap": null,
            "grid_row": null,
            "grid_template_areas": null,
            "grid_template_columns": null,
            "grid_template_rows": null,
            "height": null,
            "justify_content": null,
            "justify_items": null,
            "left": null,
            "margin": null,
            "max_height": null,
            "max_width": null,
            "min_height": null,
            "min_width": null,
            "object_fit": null,
            "object_position": null,
            "order": null,
            "overflow": null,
            "overflow_x": null,
            "overflow_y": null,
            "padding": null,
            "right": null,
            "top": null,
            "visibility": null,
            "width": null
          }
        },
        "9477e09f4de34c6abd7f34580437c0a0": {
          "model_module": "@jupyter-widgets/base",
          "model_name": "LayoutModel",
          "model_module_version": "1.2.0",
          "state": {
            "_model_module": "@jupyter-widgets/base",
            "_model_module_version": "1.2.0",
            "_model_name": "LayoutModel",
            "_view_count": null,
            "_view_module": "@jupyter-widgets/base",
            "_view_module_version": "1.2.0",
            "_view_name": "LayoutView",
            "align_content": null,
            "align_items": null,
            "align_self": null,
            "border": null,
            "bottom": null,
            "display": null,
            "flex": null,
            "flex_flow": null,
            "grid_area": null,
            "grid_auto_columns": null,
            "grid_auto_flow": null,
            "grid_auto_rows": null,
            "grid_column": null,
            "grid_gap": null,
            "grid_row": null,
            "grid_template_areas": null,
            "grid_template_columns": null,
            "grid_template_rows": null,
            "height": null,
            "justify_content": null,
            "justify_items": null,
            "left": null,
            "margin": null,
            "max_height": null,
            "max_width": null,
            "min_height": null,
            "min_width": null,
            "object_fit": null,
            "object_position": null,
            "order": null,
            "overflow": null,
            "overflow_x": null,
            "overflow_y": null,
            "padding": null,
            "right": null,
            "top": null,
            "visibility": null,
            "width": null
          }
        },
        "b06026b756bd4c6c815d0bef17fcf6df": {
          "model_module": "@jupyter-widgets/controls",
          "model_name": "DescriptionStyleModel",
          "model_module_version": "1.5.0",
          "state": {
            "_model_module": "@jupyter-widgets/controls",
            "_model_module_version": "1.5.0",
            "_model_name": "DescriptionStyleModel",
            "_view_count": null,
            "_view_module": "@jupyter-widgets/base",
            "_view_module_version": "1.2.0",
            "_view_name": "StyleView",
            "description_width": ""
          }
        },
        "e90d9b8bdf2b4c5786a039effee8f242": {
          "model_module": "@jupyter-widgets/base",
          "model_name": "LayoutModel",
          "model_module_version": "1.2.0",
          "state": {
            "_model_module": "@jupyter-widgets/base",
            "_model_module_version": "1.2.0",
            "_model_name": "LayoutModel",
            "_view_count": null,
            "_view_module": "@jupyter-widgets/base",
            "_view_module_version": "1.2.0",
            "_view_name": "LayoutView",
            "align_content": null,
            "align_items": null,
            "align_self": null,
            "border": null,
            "bottom": null,
            "display": null,
            "flex": null,
            "flex_flow": null,
            "grid_area": null,
            "grid_auto_columns": null,
            "grid_auto_flow": null,
            "grid_auto_rows": null,
            "grid_column": null,
            "grid_gap": null,
            "grid_row": null,
            "grid_template_areas": null,
            "grid_template_columns": null,
            "grid_template_rows": null,
            "height": null,
            "justify_content": null,
            "justify_items": null,
            "left": null,
            "margin": null,
            "max_height": null,
            "max_width": null,
            "min_height": null,
            "min_width": null,
            "object_fit": null,
            "object_position": null,
            "order": null,
            "overflow": null,
            "overflow_x": null,
            "overflow_y": null,
            "padding": null,
            "right": null,
            "top": null,
            "visibility": null,
            "width": null
          }
        },
        "a31b2440b39643f78e58a94a6de7df8b": {
          "model_module": "@jupyter-widgets/controls",
          "model_name": "ProgressStyleModel",
          "model_module_version": "1.5.0",
          "state": {
            "_model_module": "@jupyter-widgets/controls",
            "_model_module_version": "1.5.0",
            "_model_name": "ProgressStyleModel",
            "_view_count": null,
            "_view_module": "@jupyter-widgets/base",
            "_view_module_version": "1.2.0",
            "_view_name": "StyleView",
            "bar_color": null,
            "description_width": ""
          }
        },
        "bf3daa4e8527477ca46e22f03f3081ad": {
          "model_module": "@jupyter-widgets/base",
          "model_name": "LayoutModel",
          "model_module_version": "1.2.0",
          "state": {
            "_model_module": "@jupyter-widgets/base",
            "_model_module_version": "1.2.0",
            "_model_name": "LayoutModel",
            "_view_count": null,
            "_view_module": "@jupyter-widgets/base",
            "_view_module_version": "1.2.0",
            "_view_name": "LayoutView",
            "align_content": null,
            "align_items": null,
            "align_self": null,
            "border": null,
            "bottom": null,
            "display": null,
            "flex": null,
            "flex_flow": null,
            "grid_area": null,
            "grid_auto_columns": null,
            "grid_auto_flow": null,
            "grid_auto_rows": null,
            "grid_column": null,
            "grid_gap": null,
            "grid_row": null,
            "grid_template_areas": null,
            "grid_template_columns": null,
            "grid_template_rows": null,
            "height": null,
            "justify_content": null,
            "justify_items": null,
            "left": null,
            "margin": null,
            "max_height": null,
            "max_width": null,
            "min_height": null,
            "min_width": null,
            "object_fit": null,
            "object_position": null,
            "order": null,
            "overflow": null,
            "overflow_x": null,
            "overflow_y": null,
            "padding": null,
            "right": null,
            "top": null,
            "visibility": null,
            "width": null
          }
        },
        "1a8a455f32694e409f774fb2afbe871f": {
          "model_module": "@jupyter-widgets/controls",
          "model_name": "DescriptionStyleModel",
          "model_module_version": "1.5.0",
          "state": {
            "_model_module": "@jupyter-widgets/controls",
            "_model_module_version": "1.5.0",
            "_model_name": "DescriptionStyleModel",
            "_view_count": null,
            "_view_module": "@jupyter-widgets/base",
            "_view_module_version": "1.2.0",
            "_view_name": "StyleView",
            "description_width": ""
          }
        }
      }
    }
  },
  "cells": [
    {
      "cell_type": "code",
      "source": [
        "!pip install optuna scikit-learn seaborn scipy xgboost lightgbm joblib plotly tqdm --quiet\n",
        "\n",
        "import pandas as pd\n",
        "import numpy as np\n",
        "from sklearn.model_selection import train_test_split, KFold, cross_val_score\n",
        "from sklearn.preprocessing import StandardScaler\n",
        "from sklearn.linear_model import LinearRegression, Ridge, Lasso\n",
        "from sklearn.ensemble import RandomForestRegressor, GradientBoostingRegressor\n",
        "from sklearn.metrics import mean_squared_error, mean_absolute_error, r2_score\n",
        "from sklearn.feature_selection import mutual_info_regression, SelectFromModel\n",
        "from scipy.stats import spearmanr, pearsonr\n",
        "import optuna\n",
        "import matplotlib.pyplot as plt\n",
        "import seaborn as sns\n",
        "import warnings\n",
        "import joblib\n",
        "from xgboost import XGBRegressor\n",
        "from lightgbm import LGBMRegressor\n",
        "from tqdm import tqdm\n",
        "import plotly.express as px\n",
        "import os\n",
        "\n",
        "warnings.filterwarnings('ignore')\n",
        "\n",
        "from google.colab import drive\n",
        "drive.mount('/content/drive')\n",
        "\n",
        "# Конфигурация\n",
        "DATA_PATH = '/content/drive/MyDrive/data_c/data_fe.csv'\n",
        "SAVE_DIR = '/content/drive/MyDrive/data_c/model_results'\n",
        "os.makedirs(SAVE_DIR, exist_ok=True)\n"
      ],
      "metadata": {
        "colab": {
          "base_uri": "https://localhost:8080/"
        },
        "id": "jXcTkxPsWBVz",
        "outputId": "765752e7-7f35-4f34-d927-acf77567ff19"
      },
      "execution_count": 1,
      "outputs": [
        {
          "output_type": "stream",
          "name": "stdout",
          "text": [
            "Drive already mounted at /content/drive; to attempt to forcibly remount, call drive.mount(\"/content/drive\", force_remount=True).\n"
          ]
        }
      ]
    },
    {
      "cell_type": "code",
      "source": [
        "\n",
        "# Загрузка и подготовка данных\n",
        "print(\"Загрузка данных...\")\n",
        "data = pd.read_csv(DATA_PATH)\n",
        "print(f\"Данные загружены, форма: {data.shape}\")\n",
        "\n",
        "# Определение признаков и целевых переменных\n",
        "targets = ['IC50', 'pIC50']\n",
        "features = [col for col in data.columns if col not in ['IC50', 'pIC50', 'CC50',\n",
        "                                                       'pCC50', 'SI', 'SI_log']]\n",
        "\n",
        "# Разделение данных\n",
        "X = data[features]\n",
        "y = data[targets]\n",
        "X_train, X_test, y_train_df, y_test_df = train_test_split(X, y, test_size=0.2,\n",
        "                                                          random_state=42)\n",
        "print(f\"\\nРазделение данных:\")\n",
        "print(f\"Train: {X_train.shape}, Test: {X_test.shape}\")\n",
        "\n",
        "# Масштабирование признаков\n",
        "scaler = StandardScaler()\n",
        "X_train_scaled = pd.DataFrame(scaler.fit_transform(X_train), columns=features)\n",
        "X_test_scaled = pd.DataFrame(scaler.transform(X_test), columns=features)\n"
      ],
      "metadata": {
        "colab": {
          "base_uri": "https://localhost:8080/"
        },
        "id": "BMNnXEBQWrme",
        "outputId": "8c67c956-8e47-4bef-da05-a7aba82a286e"
      },
      "execution_count": 2,
      "outputs": [
        {
          "output_type": "stream",
          "name": "stdout",
          "text": [
            "Загрузка данных...\n",
            "Данные загружены, форма: (998, 167)\n",
            "\n",
            "Разделение данных:\n",
            "Train: (798, 161), Test: (200, 161)\n"
          ]
        }
      ]
    },
    {
      "cell_type": "code",
      "source": [
        "\n",
        "# Выбор лучшей целевой переменной\n",
        "print(\"\\nВыбор целевой переменной...\")\n",
        "rmse_results = {}\n",
        "for target in tqdm(targets, desc=\"Оценка целей\"):\n",
        "    X_temp, X_val, y_temp, y_val = train_test_split(\n",
        "        X_train_scaled,\n",
        "        y_train_df[target].values,\n",
        "        test_size=0.2,\n",
        "        random_state=42\n",
        "    )\n",
        "\n",
        "    # Отбор признаков\n",
        "    mi = mutual_info_regression(X_temp, y_temp)\n",
        "    top50_idx = np.argsort(mi)[::-1][:50]\n",
        "    X_tr_sel = X_temp.iloc[:, top50_idx]\n",
        "    X_val_sel = X_val.iloc[:, top50_idx]\n",
        "\n",
        "    # Оценка модели\n",
        "    lr = LinearRegression()\n",
        "    lr.fit(X_tr_sel, y_temp)\n",
        "    y_pred = lr.predict(X_val_sel)\n",
        "    rmse = np.sqrt(mean_squared_error(y_val, y_pred))\n",
        "    rmse_results[target] = rmse\n",
        "\n",
        "best_target = min(rmse_results, key=rmse_results.get)\n",
        "print(f\"\\nЛучшая цель: {best_target} (RMSE: {rmse_results[best_target]:.4f})\")\n",
        "y_train = y_train_df[best_target].values\n",
        "y_test = y_test_df[best_target].values\n"
      ],
      "metadata": {
        "colab": {
          "base_uri": "https://localhost:8080/"
        },
        "id": "DTxpkVeTWkei",
        "outputId": "0e4776a8-7737-4ea6-a65d-1ea70ed6c3ab"
      },
      "execution_count": 3,
      "outputs": [
        {
          "output_type": "stream",
          "name": "stdout",
          "text": [
            "\n",
            "Выбор целевой переменной...\n"
          ]
        },
        {
          "output_type": "stream",
          "name": "stderr",
          "text": [
            "Оценка целей: 100%|██████████| 2/2 [00:02<00:00,  1.31s/it]"
          ]
        },
        {
          "output_type": "stream",
          "name": "stdout",
          "text": [
            "\n",
            "Лучшая цель: pIC50 (RMSE: 0.8099)\n"
          ]
        },
        {
          "output_type": "stream",
          "name": "stderr",
          "text": [
            "\n"
          ]
        }
      ]
    },
    {
      "cell_type": "code",
      "source": [
        "\n",
        "# Отбор признаков ансамблевым методом\n",
        "print(\"\\nОтбор признаков...\")\n",
        "selector = SelectFromModel(\n",
        "    RandomForestRegressor(n_estimators=200, random_state=42, n_jobs=-1),\n",
        "    max_features=50\n",
        ")\n",
        "selector.fit(X_train_scaled, y_train)\n",
        "best_idx = selector.get_support(indices=True)\n",
        "selected_features = [features[i] for i in best_idx]\n",
        "\n",
        "print(\"\\nТоп-10 отобранных признаков:\")\n",
        "for i, feature in enumerate(selected_features[:10]):\n",
        "    print(f\"{i+1}. {feature}\")\n",
        "\n",
        "# Подготовка финальных данных\n",
        "X_train_final = X_train_scaled[selected_features]\n",
        "X_test_final = X_test_scaled[selected_features]\n",
        "print(f\"\\nФинальная размерность: {X_train_final.shape[1]} признаков\")\n"
      ],
      "metadata": {
        "colab": {
          "base_uri": "https://localhost:8080/"
        },
        "id": "tEMFxtFQWejS",
        "outputId": "e8416e36-28ef-49dc-d28d-f823fcc33680"
      },
      "execution_count": 4,
      "outputs": [
        {
          "output_type": "stream",
          "name": "stdout",
          "text": [
            "\n",
            "Отбор признаков...\n",
            "\n",
            "Топ-10 отобранных признаков:\n",
            "1. MaxAbsEStateIndex\n",
            "2. MinAbsEStateIndex\n",
            "3. MinEStateIndex\n",
            "4. qed\n",
            "5. MolWt\n",
            "6. MaxPartialCharge\n",
            "7. MinPartialCharge\n",
            "8. FpDensityMorgan1\n",
            "9. BCUT2D_MWHI\n",
            "10. BCUT2D_MWLOW\n",
            "\n",
            "Финальная размерность: 50 признаков\n"
          ]
        }
      ]
    },
    {
      "cell_type": "code",
      "source": [
        "\n",
        "# Сравнение моделей\n",
        "models = {\n",
        "    'Linear': LinearRegression(),\n",
        "    'Ridge': Ridge(alpha=1.0),\n",
        "    'Lasso': Lasso(alpha=0.1),\n",
        "    'RF': RandomForestRegressor(n_estimators=100, random_state=42, n_jobs=-1),\n",
        "    'GB': GradientBoostingRegressor(n_estimators=100, random_state=42),\n",
        "    'XGBoost': XGBRegressor(random_state=42, n_jobs=-1),\n",
        "    'LightGBM': LGBMRegressor(random_state=42, n_jobs=-1)\n",
        "}\n",
        "\n",
        "def evaluate_model(model, X_train, y_train, X_test, y_test, name):\n",
        "    model.fit(X_train, y_train)\n",
        "    pred = model.predict(X_test)\n",
        "\n",
        "    rmse = np.sqrt(mean_squared_error(y_test, pred))\n",
        "    mae = mean_absolute_error(y_test, pred)\n",
        "    r2 = r2_score(y_test, pred)\n",
        "    r, _ = pearsonr(y_test, pred)\n",
        "\n",
        "    return rmse, mae, r2, r\n",
        "\n",
        "print(\"\\nСравнение моделей:\")\n",
        "metrics = {}\n",
        "for name, model in tqdm(models.items(), desc=\"Обучение моделей\"):\n",
        "    rmse, mae, r2, r = evaluate_model(model, X_train_final, y_train,\n",
        "                                      X_test_final, y_test, name)\n",
        "    metrics[name] = (rmse, mae, r2, r)\n",
        "    print(f\"{name}: RMSE={rmse:.4f}, MAE={mae:.4f}, R²={r2:.4f}, Pearsonr={r:.4f}\")\n"
      ],
      "metadata": {
        "colab": {
          "base_uri": "https://localhost:8080/"
        },
        "id": "ek9BLdjoWaio",
        "outputId": "5069ed1f-9338-4ca6-af70-f6c8e31ee52e"
      },
      "execution_count": 5,
      "outputs": [
        {
          "output_type": "stream",
          "name": "stdout",
          "text": [
            "\n",
            "Сравнение моделей:\n"
          ]
        },
        {
          "output_type": "stream",
          "name": "stderr",
          "text": [
            "Обучение моделей:  29%|██▊       | 2/7 [00:00<00:00, 17.58it/s]"
          ]
        },
        {
          "output_type": "stream",
          "name": "stdout",
          "text": [
            "Linear: RMSE=0.7974, MAE=0.6345, R²=0.3819, Pearsonr=0.6183\n",
            "Ridge: RMSE=0.7975, MAE=0.6341, R²=0.3818, Pearsonr=0.6182\n",
            "Lasso: RMSE=0.9419, MAE=0.7424, R²=0.1376, Pearsonr=0.4250\n"
          ]
        },
        {
          "output_type": "stream",
          "name": "stderr",
          "text": [
            "\rОбучение моделей:  57%|█████▋    | 4/7 [00:04<00:03,  1.30s/it]"
          ]
        },
        {
          "output_type": "stream",
          "name": "stdout",
          "text": [
            "RF: RMSE=0.7152, MAE=0.5442, R²=0.5028, Pearsonr=0.7115\n"
          ]
        },
        {
          "output_type": "stream",
          "name": "stderr",
          "text": [
            "\rОбучение моделей:  71%|███████▏  | 5/7 [00:09<00:04,  2.26s/it]"
          ]
        },
        {
          "output_type": "stream",
          "name": "stdout",
          "text": [
            "GB: RMSE=0.7175, MAE=0.5606, R²=0.4996, Pearsonr=0.7094\n"
          ]
        },
        {
          "output_type": "stream",
          "name": "stderr",
          "text": [
            "\rОбучение моделей:  86%|████████▌ | 6/7 [00:25<00:06,  6.43s/it]"
          ]
        },
        {
          "output_type": "stream",
          "name": "stdout",
          "text": [
            "XGBoost: RMSE=0.7216, MAE=0.5409, R²=0.4938, Pearsonr=0.7158\n",
            "[LightGBM] [Info] Auto-choosing col-wise multi-threading, the overhead of testing was 0.024770 seconds.\n",
            "You can set `force_col_wise=true` to remove the overhead.\n",
            "[LightGBM] [Info] Total Bins 9910\n",
            "[LightGBM] [Info] Number of data points in the train set: 798, number of used features: 50\n",
            "[LightGBM] [Info] Start training from score -1.657241\n",
            "[LightGBM] [Warning] No further splits with positive gain, best gain: -inf\n",
            "[LightGBM] [Warning] No further splits with positive gain, best gain: -inf\n",
            "[LightGBM] [Warning] No further splits with positive gain, best gain: -inf\n",
            "[LightGBM] [Warning] No further splits with positive gain, best gain: -inf\n",
            "[LightGBM] [Warning] No further splits with positive gain, best gain: -inf\n",
            "[LightGBM] [Warning] No further splits with positive gain, best gain: -inf\n",
            "[LightGBM] [Warning] No further splits with positive gain, best gain: -inf\n",
            "[LightGBM] [Warning] No further splits with positive gain, best gain: -inf\n",
            "[LightGBM] [Warning] No further splits with positive gain, best gain: -inf\n",
            "[LightGBM] [Warning] No further splits with positive gain, best gain: -inf\n",
            "[LightGBM] [Warning] No further splits with positive gain, best gain: -inf\n",
            "[LightGBM] [Warning] No further splits with positive gain, best gain: -inf\n",
            "[LightGBM] [Warning] No further splits with positive gain, best gain: -inf\n",
            "[LightGBM] [Warning] No further splits with positive gain, best gain: -inf\n",
            "[LightGBM] [Warning] No further splits with positive gain, best gain: -inf\n",
            "[LightGBM] [Warning] No further splits with positive gain, best gain: -inf\n",
            "[LightGBM] [Warning] No further splits with positive gain, best gain: -inf\n",
            "[LightGBM] [Warning] No further splits with positive gain, best gain: -inf\n",
            "[LightGBM] [Warning] No further splits with positive gain, best gain: -inf\n",
            "[LightGBM] [Warning] No further splits with positive gain, best gain: -inf\n",
            "[LightGBM] [Warning] No further splits with positive gain, best gain: -inf\n",
            "[LightGBM] [Warning] No further splits with positive gain, best gain: -inf\n",
            "[LightGBM] [Warning] No further splits with positive gain, best gain: -inf\n",
            "[LightGBM] [Warning] No further splits with positive gain, best gain: -inf\n",
            "[LightGBM] [Warning] No further splits with positive gain, best gain: -inf\n",
            "[LightGBM] [Warning] No further splits with positive gain, best gain: -inf\n",
            "[LightGBM] [Warning] No further splits with positive gain, best gain: -inf\n",
            "[LightGBM] [Warning] No further splits with positive gain, best gain: -inf\n"
          ]
        },
        {
          "output_type": "stream",
          "name": "stderr",
          "text": [
            "Обучение моделей: 100%|██████████| 7/7 [00:29<00:00,  4.24s/it]"
          ]
        },
        {
          "output_type": "stream",
          "name": "stdout",
          "text": [
            "[LightGBM] [Warning] No further splits with positive gain, best gain: -inf\n",
            "[LightGBM] [Warning] No further splits with positive gain, best gain: -inf\n",
            "[LightGBM] [Warning] No further splits with positive gain, best gain: -inf\n",
            "[LightGBM] [Warning] No further splits with positive gain, best gain: -inf\n",
            "[LightGBM] [Warning] No further splits with positive gain, best gain: -inf\n",
            "[LightGBM] [Warning] No further splits with positive gain, best gain: -inf\n",
            "[LightGBM] [Warning] No further splits with positive gain, best gain: -inf\n",
            "[LightGBM] [Warning] No further splits with positive gain, best gain: -inf\n",
            "[LightGBM] [Warning] No further splits with positive gain, best gain: -inf\n",
            "[LightGBM] [Warning] No further splits with positive gain, best gain: -inf\n",
            "LightGBM: RMSE=0.7328, MAE=0.5479, R²=0.4779, Pearsonr=0.7005\n"
          ]
        },
        {
          "output_type": "stream",
          "name": "stderr",
          "text": [
            "\n"
          ]
        }
      ]
    },
    {
      "cell_type": "code",
      "source": [
        "\n",
        "# Визуализация сравнения\n",
        "rmse_df = pd.DataFrame({\n",
        "    'Model': list(metrics.keys()),\n",
        "    'RMSE': [metrics[name][0] for name in metrics]\n",
        "}).sort_values('RMSE')\n",
        "\n",
        "plt.figure(figsize=(10, 6))\n",
        "sns.barplot(x='RMSE', y='Model', data=rmse_df, palette='viridis')\n",
        "plt.title('Сравнение RMSE моделей')\n",
        "plt.tight_layout()\n",
        "plt.savefig(f'{SAVE_DIR}/model_comparison.png')\n",
        "plt.show()\n",
        "\n",
        "best_model_name = rmse_df.iloc[0]['Model']\n",
        "best_base = models[best_model_name]\n",
        "print(f\"\\nЛучшая модель: {best_model_name} (RMSE: {rmse_df.iloc[0]['RMSE']:.4f})\")\n"
      ],
      "metadata": {
        "colab": {
          "base_uri": "https://localhost:8080/",
          "height": 640
        },
        "id": "InqtxQbSWZS2",
        "outputId": "6bd8ee18-970b-4ffd-c95a-dcdaac041248"
      },
      "execution_count": 6,
      "outputs": [
        {
          "output_type": "display_data",
          "data": {
            "text/plain": [
              "<Figure size 1000x600 with 1 Axes>"
            ],
            "image/png": "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\n"
          },
          "metadata": {}
        },
        {
          "output_type": "stream",
          "name": "stdout",
          "text": [
            "\n",
            "Лучшая модель: RF (RMSE: 0.7152)\n"
          ]
        }
      ]
    },
    {
      "cell_type": "code",
      "source": [
        "\n",
        "# Оптимизация гиперпараметров Optuna\n",
        "def get_param_func(name):\n",
        "    if name == 'Ridge':\n",
        "        return lambda t: {'alpha': t.suggest_float('alpha', 0.01, 100, log=True)}\n",
        "    if name == 'Lasso':\n",
        "        return lambda t: {'alpha': t.suggest_float('alpha', 0.01, 100, log=True)}\n",
        "    if name == 'RF':\n",
        "        return lambda t: {\n",
        "            'n_estimators': t.suggest_int('n_estimators', 100, 1000),\n",
        "            'max_depth': t.suggest_int('max_depth', 5, 50),\n",
        "            'min_samples_split': t.suggest_int('min_samples_split', 2, 20),\n",
        "            'min_samples_leaf': t.suggest_int('min_samples_leaf', 1, 10),\n",
        "            'max_features': t.suggest_categorical('max_features', ['sqrt', 'log2', 0.8]),\n",
        "            'random_state': 42,\n",
        "            'n_jobs': -1\n",
        "        }\n",
        "    if name == 'GB':\n",
        "        return lambda t: {\n",
        "            'n_estimators': t.suggest_int('n_estimators', 100, 1000),\n",
        "            'max_depth': t.suggest_int('max_depth', 3, 10),\n",
        "            'learning_rate': t.suggest_float('learning_rate', 0.001, 0.2, log=True),\n",
        "            'subsample': t.suggest_float('subsample', 0.5, 1.0),\n",
        "            'min_samples_leaf': t.suggest_int('min_samples_leaf', 1, 10),\n",
        "            'random_state': 42\n",
        "        }\n",
        "    if name == 'XGBoost':\n",
        "        return lambda t: {\n",
        "            'n_estimators': t.suggest_int('n_estimators', 100, 1000),\n",
        "            'max_depth': t.suggest_int('max_depth', 3, 12),\n",
        "            'learning_rate': t.suggest_float('learning_rate', 0.001, 0.3, log=True),\n",
        "            'subsample': t.suggest_float('subsample', 0.6, 1.0),\n",
        "            'colsample_bytree': t.suggest_float('colsample_bytree', 0.6, 1.0),\n",
        "            'gamma': t.suggest_float('gamma', 0, 1),\n",
        "            'reg_alpha': t.suggest_float('reg_alpha', 0, 1),\n",
        "            'random_state': 42,\n",
        "            'n_jobs': -1\n",
        "        }\n",
        "    if name == 'LightGBM':\n",
        "        return lambda t: {\n",
        "            'n_estimators': t.suggest_int('n_estimators', 100, 1000),\n",
        "            'max_depth': t.suggest_int('max_depth', 3, 15),\n",
        "            'learning_rate': t.suggest_float('learning_rate', 0.001, 0.3, log=True),\n",
        "            'subsample': t.suggest_float('subsample', 0.6, 1.0),\n",
        "            'colsample_bytree': t.suggest_float('colsample_bytree', 0.6, 1.0),\n",
        "            'num_leaves': t.suggest_int('num_leaves', 20, 200),\n",
        "            'min_child_samples': t.suggest_int('min_child_samples', 5, 50),\n",
        "            'reg_alpha': t.suggest_float('reg_alpha', 0, 1),\n",
        "            'random_state': 42,\n",
        "            'n_jobs': -1\n",
        "        }\n",
        "    return None\n",
        "\n",
        "param_func = get_param_func(best_model_name)\n",
        "\n",
        "if best_model_name not in ['Linear'] and param_func is not None:\n",
        "    print(f\"\\nОптимизация {best_model_name} с Optuna...\")\n",
        "\n",
        "    def objective(trial):\n",
        "        params = param_func(trial)\n",
        "        ModelClass = type(best_base)\n",
        "        model = ModelClass(**params)\n",
        "\n",
        "        kf = KFold(n_splits=5, shuffle=True, random_state=42)\n",
        "        scores = []\n",
        "\n",
        "        for tr_idx, val_idx in kf.split(X_train_final):\n",
        "            X_tr, y_tr = X_train_final.iloc[tr_idx], y_train[tr_idx]\n",
        "            X_val, y_val = X_train_final.iloc[val_idx], y_train[val_idx]\n",
        "\n",
        "            model.fit(X_tr, y_tr)\n",
        "            val_pred = model.predict(X_val)\n",
        "            rmse = np.sqrt(mean_squared_error(y_val, val_pred))\n",
        "            scores.append(rmse)\n",
        "\n",
        "        return np.mean(scores)\n",
        "\n",
        "    study = optuna.create_study(direction='minimize')\n",
        "    study.optimize(objective, n_trials=50, show_progress_bar=True)\n",
        "\n",
        "    print(\"\\nЛучшие гиперпараметры:\")\n",
        "    for k, v in study.best_params.items():\n",
        "        print(f\"{k}: {v}\")\n",
        "    print(f\"Лучшее значение RMSE: {study.best_value:.4f}\")\n",
        "\n",
        "    # Обучение финальной модели\n",
        "    ModelClass = type(best_base)\n",
        "    optimized = ModelClass(**study.best_params)\n",
        "    optimized.fit(X_train_final, y_train)\n",
        "\n",
        "    # Кросс-валидация\n",
        "    cv_scores = cross_val_score(\n",
        "        optimized,\n",
        "        X_train_final,\n",
        "        y_train,\n",
        "        cv=5,\n",
        "        scoring='neg_root_mean_squared_error',\n",
        "        n_jobs=-1\n",
        "    )\n",
        "    cv_rmse = -cv_scores.mean()\n",
        "    print(f\"Cross-Validation RMSE: {cv_rmse:.4f} (±{-cv_scores.std():.4f})\")\n",
        "\n",
        "    # Оценка на тесте\n",
        "    test_pred = optimized.predict(X_test_final)\n",
        "    test_rmse = np.sqrt(mean_squared_error(y_test, test_pred))\n",
        "    print(f\"Тестовый RMSE: {test_rmse:.4f}\")\n",
        "\n",
        "    # Ансамблирование\n",
        "    print(\"\\nСоздание ансамбля из 5 моделей...\")\n",
        "    ensemble_preds = []\n",
        "    for i in tqdm(range(5), desc=\"Обучение ансамбля\"):\n",
        "        model = ModelClass(**study.best_params)\n",
        "        model.set_params(**{'random_state': 42 + i})\n",
        "        model.fit(X_train_final, y_train)\n",
        "        pred_i = model.predict(X_test_final)\n",
        "        ensemble_preds.append(pred_i)\n",
        "\n",
        "    ensemble_pred = np.mean(ensemble_preds, axis=0)\n",
        "    ensemble_rmse = np.sqrt(mean_squared_error(y_test, ensemble_pred))\n",
        "    print(f\"RMSE ансамбля: {ensemble_rmse:.4f}\")\n",
        "\n",
        "    final_pred = ensemble_pred\n",
        "    final_rmse = ensemble_rmse\n",
        "else:\n",
        "    print(\"\\nОптимизация не требуется\")\n",
        "    optimized = best_base\n",
        "    optimized.fit(X_train_final, y_train)\n",
        "    final_pred = optimized.predict(X_test_final)\n",
        "    final_rmse = np.sqrt(mean_squared_error(y_test, final_pred))\n"
      ],
      "metadata": {
        "colab": {
          "base_uri": "https://localhost:8080/",
          "height": 1000,
          "referenced_widgets": [
            "ae105daa24604fc399db4f2ba3f631d7",
            "997a4f904bb94fe0b72063b36fee2682",
            "395585677c144b8a9939f45e8590730d",
            "2499965151264d8cb87c75db7a9d22a4",
            "f99ce9cd753f49d1963ef466f24b849c",
            "9477e09f4de34c6abd7f34580437c0a0",
            "b06026b756bd4c6c815d0bef17fcf6df",
            "e90d9b8bdf2b4c5786a039effee8f242",
            "a31b2440b39643f78e58a94a6de7df8b",
            "bf3daa4e8527477ca46e22f03f3081ad",
            "1a8a455f32694e409f774fb2afbe871f"
          ]
        },
        "id": "k3J9lPDqWI4c",
        "outputId": "2c17ca49-9e2d-4185-db3b-e8ddc42f7928"
      },
      "execution_count": 7,
      "outputs": [
        {
          "output_type": "stream",
          "name": "stderr",
          "text": [
            "[I 2025-06-18 00:10:24,857] A new study created in memory with name: no-name-7fd7014f-6384-4afb-8c63-c734239e97ce\n"
          ]
        },
        {
          "output_type": "stream",
          "name": "stdout",
          "text": [
            "\n",
            "Оптимизация RF с Optuna...\n"
          ]
        },
        {
          "output_type": "display_data",
          "data": {
            "text/plain": [
              "  0%|          | 0/50 [00:00<?, ?it/s]"
            ],
            "application/vnd.jupyter.widget-view+json": {
              "version_major": 2,
              "version_minor": 0,
              "model_id": "ae105daa24604fc399db4f2ba3f631d7"
            }
          },
          "metadata": {}
        },
        {
          "output_type": "stream",
          "name": "stdout",
          "text": [
            "[I 2025-06-18 00:11:20,175] Trial 0 finished with value: 0.6862276712615201 and parameters: {'n_estimators': 773, 'max_depth': 23, 'min_samples_split': 19, 'min_samples_leaf': 5, 'max_features': 0.8}. Best is trial 0 with value: 0.6862276712615201.\n",
            "[I 2025-06-18 00:11:44,376] Trial 1 finished with value: 0.6840044871601981 and parameters: {'n_estimators': 313, 'max_depth': 30, 'min_samples_split': 16, 'min_samples_leaf': 7, 'max_features': 0.8}. Best is trial 1 with value: 0.6840044871601981.\n",
            "[I 2025-06-18 00:11:57,852] Trial 2 finished with value: 0.6751858118613869 and parameters: {'n_estimators': 647, 'max_depth': 15, 'min_samples_split': 6, 'min_samples_leaf': 1, 'max_features': 'sqrt'}. Best is trial 2 with value: 0.6751858118613869.\n",
            "[I 2025-06-18 00:12:14,725] Trial 3 finished with value: 0.6774318328548412 and parameters: {'n_estimators': 737, 'max_depth': 37, 'min_samples_split': 13, 'min_samples_leaf': 2, 'max_features': 'sqrt'}. Best is trial 2 with value: 0.6751858118613869.\n",
            "[I 2025-06-18 00:12:26,386] Trial 4 finished with value: 0.6818375667891672 and parameters: {'n_estimators': 486, 'max_depth': 30, 'min_samples_split': 16, 'min_samples_leaf': 2, 'max_features': 'sqrt'}. Best is trial 2 with value: 0.6751858118613869.\n",
            "[I 2025-06-18 00:12:43,807] Trial 5 finished with value: 0.6774016776802759 and parameters: {'n_estimators': 744, 'max_depth': 47, 'min_samples_split': 2, 'min_samples_leaf': 2, 'max_features': 'sqrt'}. Best is trial 2 with value: 0.6751858118613869.\n",
            "[I 2025-06-18 00:12:50,744] Trial 6 finished with value: 0.6768383352651195 and parameters: {'n_estimators': 319, 'max_depth': 19, 'min_samples_split': 8, 'min_samples_leaf': 4, 'max_features': 'sqrt'}. Best is trial 2 with value: 0.6751858118613869.\n",
            "[I 2025-06-18 00:13:54,097] Trial 7 finished with value: 0.680940988433558 and parameters: {'n_estimators': 989, 'max_depth': 27, 'min_samples_split': 4, 'min_samples_leaf': 4, 'max_features': 0.8}. Best is trial 2 with value: 0.6751858118613869.\n",
            "[I 2025-06-18 00:14:03,830] Trial 8 finished with value: 0.6980852363865898 and parameters: {'n_estimators': 590, 'max_depth': 49, 'min_samples_split': 2, 'min_samples_leaf': 9, 'max_features': 'log2'}. Best is trial 2 with value: 0.6751858118613869.\n",
            "[I 2025-06-18 00:14:08,623] Trial 9 finished with value: 0.700301453708241 and parameters: {'n_estimators': 351, 'max_depth': 27, 'min_samples_split': 15, 'min_samples_leaf': 10, 'max_features': 'log2'}. Best is trial 2 with value: 0.6751858118613869.\n",
            "[I 2025-06-18 00:14:10,896] Trial 10 finished with value: 0.6788408087780742 and parameters: {'n_estimators': 109, 'max_depth': 7, 'min_samples_split': 8, 'min_samples_leaf': 1, 'max_features': 'sqrt'}. Best is trial 2 with value: 0.6751858118613869.\n",
            "[I 2025-06-18 00:14:15,716] Trial 11 finished with value: 0.6748875569806733 and parameters: {'n_estimators': 194, 'max_depth': 14, 'min_samples_split': 8, 'min_samples_leaf': 4, 'max_features': 'sqrt'}. Best is trial 11 with value: 0.6748875569806733.\n",
            "[I 2025-06-18 00:14:18,650] Trial 12 finished with value: 0.6819777394222551 and parameters: {'n_estimators': 101, 'max_depth': 10, 'min_samples_split': 8, 'min_samples_leaf': 6, 'max_features': 'sqrt'}. Best is trial 11 with value: 0.6748875569806733.\n",
            "[I 2025-06-18 00:14:30,628] Trial 13 finished with value: 0.6763291090984399 and parameters: {'n_estimators': 567, 'max_depth': 16, 'min_samples_split': 6, 'min_samples_leaf': 3, 'max_features': 'sqrt'}. Best is trial 11 with value: 0.6748875569806733.\n",
            "[I 2025-06-18 00:14:48,090] Trial 14 finished with value: 0.6778572666267624 and parameters: {'n_estimators': 903, 'max_depth': 14, 'min_samples_split': 11, 'min_samples_leaf': 1, 'max_features': 'sqrt'}. Best is trial 11 with value: 0.6748875569806733.\n",
            "[I 2025-06-18 00:14:54,943] Trial 15 finished with value: 0.708620556661933 and parameters: {'n_estimators': 443, 'max_depth': 5, 'min_samples_split': 11, 'min_samples_leaf': 7, 'max_features': 'log2'}. Best is trial 11 with value: 0.6748875569806733.\n",
            "[I 2025-06-18 00:14:59,308] Trial 16 finished with value: 0.6764720463721144 and parameters: {'n_estimators': 223, 'max_depth': 12, 'min_samples_split': 5, 'min_samples_leaf': 4, 'max_features': 'sqrt'}. Best is trial 11 with value: 0.6748875569806733.\n",
            "[I 2025-06-18 00:15:11,811] Trial 17 finished with value: 0.6771475819782531 and parameters: {'n_estimators': 623, 'max_depth': 22, 'min_samples_split': 9, 'min_samples_leaf': 3, 'max_features': 'sqrt'}. Best is trial 11 with value: 0.6748875569806733.\n",
            "[I 2025-06-18 00:15:21,088] Trial 18 finished with value: 0.692906236008759 and parameters: {'n_estimators': 667, 'max_depth': 37, 'min_samples_split': 6, 'min_samples_leaf': 8, 'max_features': 'log2'}. Best is trial 11 with value: 0.6748875569806733.\n",
            "[I 2025-06-18 00:16:11,081] Trial 19 finished with value: 0.6818426243105948 and parameters: {'n_estimators': 862, 'max_depth': 17, 'min_samples_split': 10, 'min_samples_leaf': 5, 'max_features': 0.8}. Best is trial 11 with value: 0.6748875569806733.\n",
            "[I 2025-06-18 00:16:14,945] Trial 20 finished with value: 0.6779083818589313 and parameters: {'n_estimators': 199, 'max_depth': 12, 'min_samples_split': 4, 'min_samples_leaf': 1, 'max_features': 'sqrt'}. Best is trial 11 with value: 0.6748875569806733.\n",
            "[I 2025-06-18 00:16:27,403] Trial 21 finished with value: 0.6765098738338573 and parameters: {'n_estimators': 501, 'max_depth': 17, 'min_samples_split': 6, 'min_samples_leaf': 3, 'max_features': 'sqrt'}. Best is trial 11 with value: 0.6748875569806733.\n",
            "[I 2025-06-18 00:16:34,994] Trial 22 finished with value: 0.6757140586047474 and parameters: {'n_estimators': 413, 'max_depth': 21, 'min_samples_split': 6, 'min_samples_leaf': 3, 'max_features': 'sqrt'}. Best is trial 11 with value: 0.6748875569806733.\n",
            "[I 2025-06-18 00:16:43,192] Trial 23 finished with value: 0.6751664199065187 and parameters: {'n_estimators': 375, 'max_depth': 23, 'min_samples_split': 7, 'min_samples_leaf': 3, 'max_features': 'sqrt'}. Best is trial 11 with value: 0.6748875569806733.\n",
            "[I 2025-06-18 00:16:46,113] Trial 24 finished with value: 0.6786812314451154 and parameters: {'n_estimators': 183, 'max_depth': 9, 'min_samples_split': 13, 'min_samples_leaf': 2, 'max_features': 'sqrt'}. Best is trial 11 with value: 0.6748875569806733.\n",
            "[I 2025-06-18 00:16:51,574] Trial 25 finished with value: 0.6761966988022984 and parameters: {'n_estimators': 269, 'max_depth': 25, 'min_samples_split': 4, 'min_samples_leaf': 4, 'max_features': 'sqrt'}. Best is trial 11 with value: 0.6748875569806733.\n",
            "[I 2025-06-18 00:16:58,095] Trial 26 finished with value: 0.6826036980646507 and parameters: {'n_estimators': 367, 'max_depth': 32, 'min_samples_split': 9, 'min_samples_leaf': 6, 'max_features': 'sqrt'}. Best is trial 11 with value: 0.6748875569806733.\n",
            "[I 2025-06-18 00:17:08,871] Trial 27 finished with value: 0.6787991714626003 and parameters: {'n_estimators': 528, 'max_depth': 20, 'min_samples_split': 12, 'min_samples_leaf': 1, 'max_features': 'sqrt'}. Best is trial 11 with value: 0.6748875569806733.\n",
            "[I 2025-06-18 00:17:18,530] Trial 28 finished with value: 0.6813163228574677 and parameters: {'n_estimators': 673, 'max_depth': 14, 'min_samples_split': 7, 'min_samples_leaf': 5, 'max_features': 'log2'}. Best is trial 11 with value: 0.6748875569806733.\n",
            "[I 2025-06-18 00:17:42,270] Trial 29 finished with value: 0.6854434997013504 and parameters: {'n_estimators': 420, 'max_depth': 34, 'min_samples_split': 20, 'min_samples_leaf': 2, 'max_features': 0.8}. Best is trial 11 with value: 0.6748875569806733.\n",
            "[I 2025-06-18 00:17:56,880] Trial 30 finished with value: 0.6825418349023288 and parameters: {'n_estimators': 259, 'max_depth': 24, 'min_samples_split': 3, 'min_samples_leaf': 5, 'max_features': 0.8}. Best is trial 11 with value: 0.6748875569806733.\n",
            "[I 2025-06-18 00:18:05,731] Trial 31 finished with value: 0.6751046705904453 and parameters: {'n_estimators': 408, 'max_depth': 22, 'min_samples_split': 7, 'min_samples_leaf': 3, 'max_features': 'sqrt'}. Best is trial 11 with value: 0.6748875569806733.\n",
            "[I 2025-06-18 00:18:12,448] Trial 32 finished with value: 0.675025042165776 and parameters: {'n_estimators': 382, 'max_depth': 19, 'min_samples_split': 7, 'min_samples_leaf': 3, 'max_features': 'sqrt'}. Best is trial 11 with value: 0.6748875569806733.\n",
            "[I 2025-06-18 00:18:20,768] Trial 33 finished with value: 0.6767128509978819 and parameters: {'n_estimators': 368, 'max_depth': 19, 'min_samples_split': 9, 'min_samples_leaf': 3, 'max_features': 'sqrt'}. Best is trial 11 with value: 0.6748875569806733.\n",
            "[I 2025-06-18 00:18:25,985] Trial 34 finished with value: 0.6765194452020229 and parameters: {'n_estimators': 299, 'max_depth': 24, 'min_samples_split': 7, 'min_samples_leaf': 4, 'max_features': 'sqrt'}. Best is trial 11 with value: 0.6748875569806733.\n",
            "[I 2025-06-18 00:18:37,545] Trial 35 finished with value: 0.677694075008328 and parameters: {'n_estimators': 462, 'max_depth': 29, 'min_samples_split': 10, 'min_samples_leaf': 3, 'max_features': 'sqrt'}. Best is trial 11 with value: 0.6748875569806733.\n",
            "[I 2025-06-18 00:18:40,522] Trial 36 finished with value: 0.6809587428793552 and parameters: {'n_estimators': 177, 'max_depth': 22, 'min_samples_split': 7, 'min_samples_leaf': 5, 'max_features': 'sqrt'}. Best is trial 11 with value: 0.6748875569806733.\n",
            "[I 2025-06-18 00:18:49,134] Trial 37 finished with value: 0.6770590513576809 and parameters: {'n_estimators': 389, 'max_depth': 44, 'min_samples_split': 10, 'min_samples_leaf': 2, 'max_features': 'sqrt'}. Best is trial 11 with value: 0.6748875569806733.\n",
            "[I 2025-06-18 00:19:09,785] Trial 38 finished with value: 0.681358439275725 and parameters: {'n_estimators': 320, 'max_depth': 19, 'min_samples_split': 5, 'min_samples_leaf': 4, 'max_features': 0.8}. Best is trial 11 with value: 0.6748875569806733.\n",
            "[I 2025-06-18 00:19:21,877] Trial 39 finished with value: 0.6834936563333167 and parameters: {'n_estimators': 505, 'max_depth': 25, 'min_samples_split': 18, 'min_samples_leaf': 2, 'max_features': 'sqrt'}. Best is trial 11 with value: 0.6748875569806733.\n",
            "[I 2025-06-18 00:19:26,170] Trial 40 finished with value: 0.6762240239972455 and parameters: {'n_estimators': 249, 'max_depth': 12, 'min_samples_split': 8, 'min_samples_leaf': 3, 'max_features': 'sqrt'}. Best is trial 11 with value: 0.6748875569806733.\n",
            "[I 2025-06-18 00:19:40,876] Trial 41 finished with value: 0.6765311000568229 and parameters: {'n_estimators': 786, 'max_depth': 16, 'min_samples_split': 5, 'min_samples_leaf': 4, 'max_features': 'sqrt'}. Best is trial 11 with value: 0.6748875569806733.\n",
            "[I 2025-06-18 00:19:53,145] Trial 42 finished with value: 0.6754483772681212 and parameters: {'n_estimators': 590, 'max_depth': 15, 'min_samples_split': 7, 'min_samples_leaf': 2, 'max_features': 'sqrt'}. Best is trial 11 with value: 0.6748875569806733.\n",
            "[I 2025-06-18 00:19:56,200] Trial 43 finished with value: 0.6757752893204134 and parameters: {'n_estimators': 140, 'max_depth': 18, 'min_samples_split': 3, 'min_samples_leaf': 1, 'max_features': 'sqrt'}. Best is trial 11 with value: 0.6748875569806733.\n",
            "[I 2025-06-18 00:20:03,637] Trial 44 finished with value: 0.6769444763433853 and parameters: {'n_estimators': 330, 'max_depth': 10, 'min_samples_split': 8, 'min_samples_leaf': 2, 'max_features': 'sqrt'}. Best is trial 11 with value: 0.6748875569806733.\n",
            "[I 2025-06-18 00:20:10,661] Trial 45 finished with value: 0.678369205885766 and parameters: {'n_estimators': 467, 'max_depth': 28, 'min_samples_split': 5, 'min_samples_leaf': 4, 'max_features': 'log2'}. Best is trial 11 with value: 0.6748875569806733.\n",
            "[I 2025-06-18 00:20:21,788] Trial 46 finished with value: 0.6770439135351535 and parameters: {'n_estimators': 547, 'max_depth': 22, 'min_samples_split': 9, 'min_samples_leaf': 3, 'max_features': 'sqrt'}. Best is trial 11 with value: 0.6748875569806733.\n",
            "[I 2025-06-18 00:20:34,570] Trial 47 finished with value: 0.6827175658738932 and parameters: {'n_estimators': 673, 'max_depth': 26, 'min_samples_split': 7, 'min_samples_leaf': 6, 'max_features': 'sqrt'}. Best is trial 11 with value: 0.6748875569806733.\n",
            "[I 2025-06-18 00:20:50,067] Trial 48 finished with value: 0.6737478041117846 and parameters: {'n_estimators': 736, 'max_depth': 8, 'min_samples_split': 3, 'min_samples_leaf': 1, 'max_features': 'sqrt'}. Best is trial 48 with value: 0.6737478041117846.\n",
            "[I 2025-06-18 00:21:01,938] Trial 49 finished with value: 0.6961262640457851 and parameters: {'n_estimators': 738, 'max_depth': 5, 'min_samples_split': 2, 'min_samples_leaf': 3, 'max_features': 'sqrt'}. Best is trial 48 with value: 0.6737478041117846.\n",
            "\n",
            "Лучшие гиперпараметры:\n",
            "n_estimators: 736\n",
            "max_depth: 8\n",
            "min_samples_split: 3\n",
            "min_samples_leaf: 1\n",
            "max_features: sqrt\n",
            "Лучшее значение RMSE: 0.6737\n",
            "Cross-Validation RMSE: 0.6731 (±-0.0419)\n",
            "Тестовый RMSE: 0.7033\n",
            "\n",
            "Создание ансамбля из 5 моделей...\n"
          ]
        },
        {
          "output_type": "stream",
          "name": "stderr",
          "text": [
            "Обучение ансамбля: 100%|██████████| 5/5 [00:17<00:00,  3.58s/it]"
          ]
        },
        {
          "output_type": "stream",
          "name": "stdout",
          "text": [
            "RMSE ансамбля: 0.7029\n"
          ]
        },
        {
          "output_type": "stream",
          "name": "stderr",
          "text": [
            "\n"
          ]
        }
      ]
    },
    {
      "cell_type": "code",
      "source": [
        "\n",
        "# Финальная визуализация\n",
        "plt.figure(figsize=(10, 5))\n",
        "plt.scatter(y_test, final_pred, alpha=0.6, c=np.abs(y_test - final_pred), cmap='viridis')\n",
        "plt.colorbar(label='Абсолютная ошибка')\n",
        "plt.plot([min(y_test), max(y_test)], [min(y_test), max(y_test)], 'r--')\n",
        "plt.xlabel('Истинные значения')\n",
        "plt.ylabel('Предсказания')\n",
        "plt.title(f'Финальные предсказания ({best_model_name})')\n",
        "plt.grid(True)\n",
        "plt.savefig(f'{SAVE_DIR}/final_predictions.png')\n",
        "plt.show()\n"
      ],
      "metadata": {
        "colab": {
          "base_uri": "https://localhost:8080/",
          "height": 487
        },
        "id": "MkAjyIZSWGSW",
        "outputId": "132c97b5-0145-4145-fd28-d7b3319440d4"
      },
      "execution_count": 8,
      "outputs": [
        {
          "output_type": "display_data",
          "data": {
            "text/plain": [
              "<Figure size 1000x500 with 2 Axes>"
            ],
            "image/png": "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\n"
          },
          "metadata": {}
        }
      ]
    },
    {
      "cell_type": "code",
      "source": [
        "\n",
        "# Анализ важности признаков\n",
        "if hasattr(optimized, 'feature_importances_'):\n",
        "    importances = optimized.feature_importances_\n",
        "    feat_importance = pd.DataFrame({\n",
        "        'Feature': selected_features,\n",
        "        'Importance': importances\n",
        "    }).sort_values('Importance', ascending=False)\n",
        "\n",
        "    # Топ-20 признаков\n",
        "    plt.figure(figsize=(10, 8))\n",
        "    sns.barplot(x='Importance', y='Feature', data=feat_importance.head(20))\n",
        "    plt.title('Важность признаков')\n",
        "    plt.tight_layout()\n",
        "    plt.savefig(f'{SAVE_DIR}/feature_importance.png')\n",
        "    plt.show()\n",
        "\n",
        "    # Интерактивная визуализация\n",
        "    fig = px.bar(feat_importance.head(20), x='Importance', y='Feature', orientation='h')\n",
        "    fig.write_html(f'{SAVE_DIR}/feature_importance.html')\n",
        "\n",
        "    feat_importance.to_csv(f'{SAVE_DIR}/feature_importance.csv', index=False)\n"
      ],
      "metadata": {
        "colab": {
          "base_uri": "https://localhost:8080/",
          "height": 807
        },
        "id": "tyufGm2nWFJs",
        "outputId": "57688f1d-af10-43d4-8244-ff8d2d1aa7c7"
      },
      "execution_count": 9,
      "outputs": [
        {
          "output_type": "display_data",
          "data": {
            "text/plain": [
              "<Figure size 1000x800 with 1 Axes>"
            ],
            "image/png": "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\n"
          },
          "metadata": {}
        }
      ]
    },
    {
      "cell_type": "code",
      "source": [
        "\n",
        "# Анализ ошибок\n",
        "errors = y_test - final_pred\n",
        "max_error_idx = np.argsort(np.abs(errors))[::-1][:10]\n",
        "error_df = pd.DataFrame({\n",
        "    'True Value': y_test[max_error_idx],\n",
        "    'Predicted Value': final_pred[max_error_idx],\n",
        "    'Error': errors[max_error_idx]\n",
        "}, index=y_test_df.index[max_error_idx])\n",
        "\n",
        "print(\"\\nСоединения с наибольшими ошибками:\")\n",
        "display(error_df)\n"
      ],
      "metadata": {
        "colab": {
          "base_uri": "https://localhost:8080/",
          "height": 385
        },
        "id": "5fv5bHj0WEbH",
        "outputId": "cadb3e6a-5af5-43b4-f798-06a831ceae08"
      },
      "execution_count": 10,
      "outputs": [
        {
          "output_type": "stream",
          "name": "stdout",
          "text": [
            "\n",
            "Соединения с наибольшими ошибками:\n"
          ]
        },
        {
          "output_type": "display_data",
          "data": {
            "text/plain": [
              "     True Value  Predicted Value     Error\n",
              "798   -1.698089         0.329208 -2.027297\n",
              "785   -1.462399         0.329208 -1.791607\n",
              "533   -0.207429        -1.912224  1.704795\n",
              "208   -0.691277        -2.388667  1.697390\n",
              "199   -2.871018        -1.174771 -1.696247\n",
              "879    0.826739        -0.861317  1.688056\n",
              "107    0.405510        -1.205673  1.611184\n",
              "299   -2.947625        -1.343996 -1.603629\n",
              "687   -2.848370        -1.314412 -1.533958\n",
              "787   -1.204154         0.329208 -1.533362"
            ],
            "text/html": [
              "\n",
              "  <div id=\"df-ef130c09-f14c-4749-a262-53da514571e7\" class=\"colab-df-container\">\n",
              "    <div>\n",
              "<style scoped>\n",
              "    .dataframe tbody tr th:only-of-type {\n",
              "        vertical-align: middle;\n",
              "    }\n",
              "\n",
              "    .dataframe tbody tr th {\n",
              "        vertical-align: top;\n",
              "    }\n",
              "\n",
              "    .dataframe thead th {\n",
              "        text-align: right;\n",
              "    }\n",
              "</style>\n",
              "<table border=\"1\" class=\"dataframe\">\n",
              "  <thead>\n",
              "    <tr style=\"text-align: right;\">\n",
              "      <th></th>\n",
              "      <th>True Value</th>\n",
              "      <th>Predicted Value</th>\n",
              "      <th>Error</th>\n",
              "    </tr>\n",
              "  </thead>\n",
              "  <tbody>\n",
              "    <tr>\n",
              "      <th>798</th>\n",
              "      <td>-1.698089</td>\n",
              "      <td>0.329208</td>\n",
              "      <td>-2.027297</td>\n",
              "    </tr>\n",
              "    <tr>\n",
              "      <th>785</th>\n",
              "      <td>-1.462399</td>\n",
              "      <td>0.329208</td>\n",
              "      <td>-1.791607</td>\n",
              "    </tr>\n",
              "    <tr>\n",
              "      <th>533</th>\n",
              "      <td>-0.207429</td>\n",
              "      <td>-1.912224</td>\n",
              "      <td>1.704795</td>\n",
              "    </tr>\n",
              "    <tr>\n",
              "      <th>208</th>\n",
              "      <td>-0.691277</td>\n",
              "      <td>-2.388667</td>\n",
              "      <td>1.697390</td>\n",
              "    </tr>\n",
              "    <tr>\n",
              "      <th>199</th>\n",
              "      <td>-2.871018</td>\n",
              "      <td>-1.174771</td>\n",
              "      <td>-1.696247</td>\n",
              "    </tr>\n",
              "    <tr>\n",
              "      <th>879</th>\n",
              "      <td>0.826739</td>\n",
              "      <td>-0.861317</td>\n",
              "      <td>1.688056</td>\n",
              "    </tr>\n",
              "    <tr>\n",
              "      <th>107</th>\n",
              "      <td>0.405510</td>\n",
              "      <td>-1.205673</td>\n",
              "      <td>1.611184</td>\n",
              "    </tr>\n",
              "    <tr>\n",
              "      <th>299</th>\n",
              "      <td>-2.947625</td>\n",
              "      <td>-1.343996</td>\n",
              "      <td>-1.603629</td>\n",
              "    </tr>\n",
              "    <tr>\n",
              "      <th>687</th>\n",
              "      <td>-2.848370</td>\n",
              "      <td>-1.314412</td>\n",
              "      <td>-1.533958</td>\n",
              "    </tr>\n",
              "    <tr>\n",
              "      <th>787</th>\n",
              "      <td>-1.204154</td>\n",
              "      <td>0.329208</td>\n",
              "      <td>-1.533362</td>\n",
              "    </tr>\n",
              "  </tbody>\n",
              "</table>\n",
              "</div>\n",
              "    <div class=\"colab-df-buttons\">\n",
              "\n",
              "  <div class=\"colab-df-container\">\n",
              "    <button class=\"colab-df-convert\" onclick=\"convertToInteractive('df-ef130c09-f14c-4749-a262-53da514571e7')\"\n",
              "            title=\"Convert this dataframe to an interactive table.\"\n",
              "            style=\"display:none;\">\n",
              "\n",
              "  <svg xmlns=\"http://www.w3.org/2000/svg\" height=\"24px\" viewBox=\"0 -960 960 960\">\n",
              "    <path d=\"M120-120v-720h720v720H120Zm60-500h600v-160H180v160Zm220 220h160v-160H400v160Zm0 220h160v-160H400v160ZM180-400h160v-160H180v160Zm440 0h160v-160H620v160ZM180-180h160v-160H180v160Zm440 0h160v-160H620v160Z\"/>\n",
              "  </svg>\n",
              "    </button>\n",
              "\n",
              "  <style>\n",
              "    .colab-df-container {\n",
              "      display:flex;\n",
              "      gap: 12px;\n",
              "    }\n",
              "\n",
              "    .colab-df-convert {\n",
              "      background-color: #E8F0FE;\n",
              "      border: none;\n",
              "      border-radius: 50%;\n",
              "      cursor: pointer;\n",
              "      display: none;\n",
              "      fill: #1967D2;\n",
              "      height: 32px;\n",
              "      padding: 0 0 0 0;\n",
              "      width: 32px;\n",
              "    }\n",
              "\n",
              "    .colab-df-convert:hover {\n",
              "      background-color: #E2EBFA;\n",
              "      box-shadow: 0px 1px 2px rgba(60, 64, 67, 0.3), 0px 1px 3px 1px rgba(60, 64, 67, 0.15);\n",
              "      fill: #174EA6;\n",
              "    }\n",
              "\n",
              "    .colab-df-buttons div {\n",
              "      margin-bottom: 4px;\n",
              "    }\n",
              "\n",
              "    [theme=dark] .colab-df-convert {\n",
              "      background-color: #3B4455;\n",
              "      fill: #D2E3FC;\n",
              "    }\n",
              "\n",
              "    [theme=dark] .colab-df-convert:hover {\n",
              "      background-color: #434B5C;\n",
              "      box-shadow: 0px 1px 3px 1px rgba(0, 0, 0, 0.15);\n",
              "      filter: drop-shadow(0px 1px 2px rgba(0, 0, 0, 0.3));\n",
              "      fill: #FFFFFF;\n",
              "    }\n",
              "  </style>\n",
              "\n",
              "    <script>\n",
              "      const buttonEl =\n",
              "        document.querySelector('#df-ef130c09-f14c-4749-a262-53da514571e7 button.colab-df-convert');\n",
              "      buttonEl.style.display =\n",
              "        google.colab.kernel.accessAllowed ? 'block' : 'none';\n",
              "\n",
              "      async function convertToInteractive(key) {\n",
              "        const element = document.querySelector('#df-ef130c09-f14c-4749-a262-53da514571e7');\n",
              "        const dataTable =\n",
              "          await google.colab.kernel.invokeFunction('convertToInteractive',\n",
              "                                                    [key], {});\n",
              "        if (!dataTable) return;\n",
              "\n",
              "        const docLinkHtml = 'Like what you see? Visit the ' +\n",
              "          '<a target=\"_blank\" href=https://colab.research.google.com/notebooks/data_table.ipynb>data table notebook</a>'\n",
              "          + ' to learn more about interactive tables.';\n",
              "        element.innerHTML = '';\n",
              "        dataTable['output_type'] = 'display_data';\n",
              "        await google.colab.output.renderOutput(dataTable, element);\n",
              "        const docLink = document.createElement('div');\n",
              "        docLink.innerHTML = docLinkHtml;\n",
              "        element.appendChild(docLink);\n",
              "      }\n",
              "    </script>\n",
              "  </div>\n",
              "\n",
              "\n",
              "<div id=\"df-e57221b0-19fa-4df6-b28d-ffa2691016a2\">\n",
              "  <button class=\"colab-df-quickchart\" onclick=\"quickchart('df-e57221b0-19fa-4df6-b28d-ffa2691016a2')\"\n",
              "            title=\"Suggest charts\"\n",
              "            style=\"display:none;\">\n",
              "\n",
              "<svg xmlns=\"http://www.w3.org/2000/svg\" height=\"24px\"viewBox=\"0 0 24 24\"\n",
              "     width=\"24px\">\n",
              "    <g>\n",
              "        <path d=\"M19 3H5c-1.1 0-2 .9-2 2v14c0 1.1.9 2 2 2h14c1.1 0 2-.9 2-2V5c0-1.1-.9-2-2-2zM9 17H7v-7h2v7zm4 0h-2V7h2v10zm4 0h-2v-4h2v4z\"/>\n",
              "    </g>\n",
              "</svg>\n",
              "  </button>\n",
              "\n",
              "<style>\n",
              "  .colab-df-quickchart {\n",
              "      --bg-color: #E8F0FE;\n",
              "      --fill-color: #1967D2;\n",
              "      --hover-bg-color: #E2EBFA;\n",
              "      --hover-fill-color: #174EA6;\n",
              "      --disabled-fill-color: #AAA;\n",
              "      --disabled-bg-color: #DDD;\n",
              "  }\n",
              "\n",
              "  [theme=dark] .colab-df-quickchart {\n",
              "      --bg-color: #3B4455;\n",
              "      --fill-color: #D2E3FC;\n",
              "      --hover-bg-color: #434B5C;\n",
              "      --hover-fill-color: #FFFFFF;\n",
              "      --disabled-bg-color: #3B4455;\n",
              "      --disabled-fill-color: #666;\n",
              "  }\n",
              "\n",
              "  .colab-df-quickchart {\n",
              "    background-color: var(--bg-color);\n",
              "    border: none;\n",
              "    border-radius: 50%;\n",
              "    cursor: pointer;\n",
              "    display: none;\n",
              "    fill: var(--fill-color);\n",
              "    height: 32px;\n",
              "    padding: 0;\n",
              "    width: 32px;\n",
              "  }\n",
              "\n",
              "  .colab-df-quickchart:hover {\n",
              "    background-color: var(--hover-bg-color);\n",
              "    box-shadow: 0 1px 2px rgba(60, 64, 67, 0.3), 0 1px 3px 1px rgba(60, 64, 67, 0.15);\n",
              "    fill: var(--button-hover-fill-color);\n",
              "  }\n",
              "\n",
              "  .colab-df-quickchart-complete:disabled,\n",
              "  .colab-df-quickchart-complete:disabled:hover {\n",
              "    background-color: var(--disabled-bg-color);\n",
              "    fill: var(--disabled-fill-color);\n",
              "    box-shadow: none;\n",
              "  }\n",
              "\n",
              "  .colab-df-spinner {\n",
              "    border: 2px solid var(--fill-color);\n",
              "    border-color: transparent;\n",
              "    border-bottom-color: var(--fill-color);\n",
              "    animation:\n",
              "      spin 1s steps(1) infinite;\n",
              "  }\n",
              "\n",
              "  @keyframes spin {\n",
              "    0% {\n",
              "      border-color: transparent;\n",
              "      border-bottom-color: var(--fill-color);\n",
              "      border-left-color: var(--fill-color);\n",
              "    }\n",
              "    20% {\n",
              "      border-color: transparent;\n",
              "      border-left-color: var(--fill-color);\n",
              "      border-top-color: var(--fill-color);\n",
              "    }\n",
              "    30% {\n",
              "      border-color: transparent;\n",
              "      border-left-color: var(--fill-color);\n",
              "      border-top-color: var(--fill-color);\n",
              "      border-right-color: var(--fill-color);\n",
              "    }\n",
              "    40% {\n",
              "      border-color: transparent;\n",
              "      border-right-color: var(--fill-color);\n",
              "      border-top-color: var(--fill-color);\n",
              "    }\n",
              "    60% {\n",
              "      border-color: transparent;\n",
              "      border-right-color: var(--fill-color);\n",
              "    }\n",
              "    80% {\n",
              "      border-color: transparent;\n",
              "      border-right-color: var(--fill-color);\n",
              "      border-bottom-color: var(--fill-color);\n",
              "    }\n",
              "    90% {\n",
              "      border-color: transparent;\n",
              "      border-bottom-color: var(--fill-color);\n",
              "    }\n",
              "  }\n",
              "</style>\n",
              "\n",
              "  <script>\n",
              "    async function quickchart(key) {\n",
              "      const quickchartButtonEl =\n",
              "        document.querySelector('#' + key + ' button');\n",
              "      quickchartButtonEl.disabled = true;  // To prevent multiple clicks.\n",
              "      quickchartButtonEl.classList.add('colab-df-spinner');\n",
              "      try {\n",
              "        const charts = await google.colab.kernel.invokeFunction(\n",
              "            'suggestCharts', [key], {});\n",
              "      } catch (error) {\n",
              "        console.error('Error during call to suggestCharts:', error);\n",
              "      }\n",
              "      quickchartButtonEl.classList.remove('colab-df-spinner');\n",
              "      quickchartButtonEl.classList.add('colab-df-quickchart-complete');\n",
              "    }\n",
              "    (() => {\n",
              "      let quickchartButtonEl =\n",
              "        document.querySelector('#df-e57221b0-19fa-4df6-b28d-ffa2691016a2 button');\n",
              "      quickchartButtonEl.style.display =\n",
              "        google.colab.kernel.accessAllowed ? 'block' : 'none';\n",
              "    })();\n",
              "  </script>\n",
              "</div>\n",
              "    </div>\n",
              "  </div>\n"
            ],
            "application/vnd.google.colaboratory.intrinsic+json": {
              "type": "dataframe",
              "variable_name": "error_df",
              "summary": "{\n  \"name\": \"error_df\",\n  \"rows\": 10,\n  \"fields\": [\n    {\n      \"column\": \"True Value\",\n      \"properties\": {\n        \"dtype\": \"number\",\n        \"std\": 1.364680554773247,\n        \"min\": -2.9476254531017485,\n        \"max\": 0.8267390449958129,\n        \"num_unique_values\": 10,\n        \"samples\": [\n          -2.848369712466136,\n          -1.462399100413941,\n          0.8267390449958129\n        ],\n        \"semantic_type\": \"\",\n        \"description\": \"\"\n      }\n    },\n    {\n      \"column\": \"Predicted Value\",\n      \"properties\": {\n        \"dtype\": \"number\",\n        \"std\": 0.9608055080005562,\n        \"min\": -2.3886665130039235,\n        \"max\": 0.32920757485185315,\n        \"num_unique_values\": 8,\n        \"samples\": [\n          -1.912224067114558,\n          -1.205673276348659,\n          0.32920757485185315\n        ],\n        \"semantic_type\": \"\",\n        \"description\": \"\"\n      }\n    },\n    {\n      \"column\": \"Error\",\n      \"properties\": {\n        \"dtype\": \"number\",\n        \"std\": 1.747744517406684,\n        \"min\": -2.027296734637276,\n        \"max\": 1.7047945910745796,\n        \"num_unique_values\": 10,\n        \"samples\": [\n          -1.5339582012129473,\n          -1.7916066752657942,\n          1.6880556091664727\n        ],\n        \"semantic_type\": \"\",\n        \"description\": \"\"\n      }\n    }\n  ]\n}"
            }
          },
          "metadata": {}
        }
      ]
    },
    {
      "cell_type": "code",
      "source": [
        "\n",
        "# Сохранение полных результатов\n",
        "results_df = pd.DataFrame({\n",
        "    'True Value': y_test,\n",
        "    'Predicted Value': final_pred,\n",
        "    'Error': errors\n",
        "}, index=y_test_df.index)\n",
        "\n",
        "results_df.to_csv(f'{SAVE_DIR}/predictions_{best_target}_{best_model_name}.csv')\n",
        "print(f\"\\nРезультаты сохранены в {SAVE_DIR}\")\n"
      ],
      "metadata": {
        "colab": {
          "base_uri": "https://localhost:8080/"
        },
        "id": "ieG4ItZLWDrE",
        "outputId": "5b70d181-b0b3-40e1-8cb0-b3a2d9de2e61"
      },
      "execution_count": 11,
      "outputs": [
        {
          "output_type": "stream",
          "name": "stdout",
          "text": [
            "\n",
            "Результаты сохранены в /content/drive/MyDrive/data_c/model_results\n"
          ]
        }
      ]
    },
    {
      "cell_type": "code",
      "source": [
        "\n",
        "print(\"\\nФинальный отчет:\")\n",
        "print(f\"Целевая переменная: {best_target}\")\n",
        "print(f\"Лучшая модель: {best_model_name}\")\n",
        "print(f\"Финальный RMSE: {final_rmse:.4f}\")\n",
        "print(f\"R²: {r2_score(y_test, final_pred):.4f}\")\n",
        "print(f\"Pearsonr: {pearsonr(y_test, final_pred)[0]:.4f}\")"
      ],
      "metadata": {
        "colab": {
          "base_uri": "https://localhost:8080/"
        },
        "id": "pqDLrV1OWDAV",
        "outputId": "50eb4be2-8f5a-4897-ba44-92e29ffdbb8a"
      },
      "execution_count": 12,
      "outputs": [
        {
          "output_type": "stream",
          "name": "stdout",
          "text": [
            "\n",
            "Финальный отчет:\n",
            "Целевая переменная: pIC50\n",
            "Лучшая модель: RF\n",
            "Финальный RMSE: 0.7029\n",
            "R²: 0.5197\n",
            "Pearsonr: 0.7235\n"
          ]
        }
      ]
    }
  ]
}

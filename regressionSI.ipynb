{
  "cells": [
    {
      "cell_type": "code",
      "execution_count": 1,
      "metadata": {
        "colab": {
          "base_uri": "https://localhost:8080/"
        },
        "id": "jXcTkxPsWBVz",
        "outputId": "07c32632-1e3d-417e-8c4b-898558fd6374"
      },
      "outputs": [
        {
          "output_type": "stream",
          "name": "stdout",
          "text": [
            "Drive already mounted at /content/drive; to attempt to forcibly remount, call drive.mount(\"/content/drive\", force_remount=True).\n"
          ]
        }
      ],
      "source": [
        "!pip install optuna scikit-learn seaborn scipy xgboost lightgbm joblib plotly tqdm --quiet\n",
        "\n",
        "import pandas as pd\n",
        "import numpy as np\n",
        "from sklearn.model_selection import train_test_split, KFold, cross_val_score\n",
        "from sklearn.preprocessing import StandardScaler\n",
        "from sklearn.linear_model import LinearRegression, Ridge, Lasso\n",
        "from sklearn.ensemble import RandomForestRegressor, GradientBoostingRegressor\n",
        "from sklearn.metrics import mean_squared_error, mean_absolute_error, r2_score\n",
        "from sklearn.feature_selection import mutual_info_regression, SelectFromModel\n",
        "from scipy.stats import spearmanr, pearsonr\n",
        "import optuna\n",
        "import matplotlib.pyplot as plt\n",
        "import seaborn as sns\n",
        "import warnings\n",
        "import joblib\n",
        "from xgboost import XGBRegressor\n",
        "from lightgbm import LGBMRegressor\n",
        "from tqdm import tqdm\n",
        "import plotly.express as px\n",
        "import os\n",
        "\n",
        "warnings.filterwarnings('ignore')\n",
        "\n",
        "from google.colab import drive\n",
        "drive.mount('/content/drive')\n",
        "\n",
        "# Конфигурация\n",
        "DATA_PATH = '/content/drive/MyDrive/data_c/data_fe.csv'\n",
        "SAVE_DIR = '/content/drive/MyDrive/data_c/model_results'\n",
        "os.makedirs(SAVE_DIR, exist_ok=True)\n"
      ]
    },
    {
      "cell_type": "code",
      "execution_count": 2,
      "metadata": {
        "colab": {
          "base_uri": "https://localhost:8080/"
        },
        "id": "BMNnXEBQWrme",
        "outputId": "6fd659bb-46be-4f37-8d91-86a33518b28d"
      },
      "outputs": [
        {
          "output_type": "stream",
          "name": "stdout",
          "text": [
            "Загрузка данных...\n",
            "Данные загружены, форма: (998, 167)\n",
            "\n",
            "Разделение данных:\n",
            "Train: (798, 161), Test: (200, 161)\n"
          ]
        }
      ],
      "source": [
        "\n",
        "# Загрузка и подготовка данных\n",
        "print(\"Загрузка данных...\")\n",
        "data = pd.read_csv(DATA_PATH)\n",
        "print(f\"Данные загружены, форма: {data.shape}\")\n",
        "\n",
        "# Определение признаков и целевых переменных\n",
        "targets = ['SI', 'SI_log']\n",
        "features = [col for col in data.columns if col not in ['IC50', 'pIC50', 'CC50',\n",
        "                                                       'pCC50', 'SI', 'SI_log']]\n",
        "\n",
        "# Разделение данных\n",
        "X = data[features]\n",
        "y = data[targets]\n",
        "X_train, X_test, y_train_df, y_test_df = train_test_split(X, y, test_size=0.2,\n",
        "                                                          random_state=42)\n",
        "print(f\"\\nРазделение данных:\")\n",
        "print(f\"Train: {X_train.shape}, Test: {X_test.shape}\")\n",
        "\n",
        "# Масштабирование признаков\n",
        "scaler = StandardScaler()\n",
        "X_train_scaled = pd.DataFrame(scaler.fit_transform(X_train), columns=features)\n",
        "X_test_scaled = pd.DataFrame(scaler.transform(X_test), columns=features)\n"
      ]
    },
    {
      "cell_type": "code",
      "execution_count": 3,
      "metadata": {
        "colab": {
          "base_uri": "https://localhost:8080/"
        },
        "id": "DTxpkVeTWkei",
        "outputId": "a5093818-c93a-43ca-a368-ad0fc860778b"
      },
      "outputs": [
        {
          "output_type": "stream",
          "name": "stdout",
          "text": [
            "\n",
            "Выбор целевой переменной...\n"
          ]
        },
        {
          "output_type": "stream",
          "name": "stderr",
          "text": [
            "Оценка целей: 100%|██████████| 2/2 [00:05<00:00,  2.91s/it]"
          ]
        },
        {
          "output_type": "stream",
          "name": "stdout",
          "text": [
            "\n",
            "Лучшая цель: SI_log (RMSE: 0.6804)\n"
          ]
        },
        {
          "output_type": "stream",
          "name": "stderr",
          "text": [
            "\n"
          ]
        }
      ],
      "source": [
        "\n",
        "# Выбор лучшей целевой переменной\n",
        "print(\"\\nВыбор целевой переменной...\")\n",
        "rmse_results = {}\n",
        "for target in tqdm(targets, desc=\"Оценка целей\"):\n",
        "    X_temp, X_val, y_temp, y_val = train_test_split(\n",
        "        X_train_scaled,\n",
        "        y_train_df[target].values,\n",
        "        test_size=0.2,\n",
        "        random_state=42\n",
        "    )\n",
        "\n",
        "    # Отбор признаков\n",
        "    mi = mutual_info_regression(X_temp, y_temp)\n",
        "    top50_idx = np.argsort(mi)[::-1][:50]\n",
        "    X_tr_sel = X_temp.iloc[:, top50_idx]\n",
        "    X_val_sel = X_val.iloc[:, top50_idx]\n",
        "\n",
        "    # Оценка модели\n",
        "    lr = LinearRegression()\n",
        "    lr.fit(X_tr_sel, y_temp)\n",
        "    y_pred = lr.predict(X_val_sel)\n",
        "    rmse = np.sqrt(mean_squared_error(y_val, y_pred))\n",
        "    rmse_results[target] = rmse\n",
        "\n",
        "best_target = min(rmse_results, key=rmse_results.get)\n",
        "print(f\"\\nЛучшая цель: {best_target} (RMSE: {rmse_results[best_target]:.4f})\")\n",
        "y_train = y_train_df[best_target].values\n",
        "y_test = y_test_df[best_target].values\n"
      ]
    },
    {
      "cell_type": "code",
      "execution_count": 4,
      "metadata": {
        "colab": {
          "base_uri": "https://localhost:8080/"
        },
        "id": "tEMFxtFQWejS",
        "outputId": "1497f5be-2c4d-462f-d918-a3ad2fedc875"
      },
      "outputs": [
        {
          "output_type": "stream",
          "name": "stdout",
          "text": [
            "\n",
            "Отбор признаков...\n",
            "\n",
            "Топ-10 отобранных признаков:\n",
            "1. MaxAbsEStateIndex\n",
            "2. MinAbsEStateIndex\n",
            "3. MinEStateIndex\n",
            "4. qed\n",
            "5. MolWt\n",
            "6. MaxPartialCharge\n",
            "7. MinPartialCharge\n",
            "8. FpDensityMorgan1\n",
            "9. BCUT2D_MWHI\n",
            "10. BCUT2D_MWLOW\n",
            "\n",
            "Финальная размерность: 50 признаков\n"
          ]
        }
      ],
      "source": [
        "\n",
        "# Отбор признаков ансамблевым методом\n",
        "print(\"\\nОтбор признаков...\")\n",
        "selector = SelectFromModel(\n",
        "    RandomForestRegressor(n_estimators=200, random_state=42, n_jobs=-1),\n",
        "    max_features=50\n",
        ")\n",
        "selector.fit(X_train_scaled, y_train)\n",
        "best_idx = selector.get_support(indices=True)\n",
        "selected_features = [features[i] for i in best_idx]\n",
        "\n",
        "print(\"\\nТоп-10 отобранных признаков:\")\n",
        "for i, feature in enumerate(selected_features[:10]):\n",
        "    print(f\"{i+1}. {feature}\")\n",
        "\n",
        "# Подготовка финальных данных\n",
        "X_train_final = X_train_scaled[selected_features]\n",
        "X_test_final = X_test_scaled[selected_features]\n",
        "print(f\"\\nФинальная размерность: {X_train_final.shape[1]} признаков\")\n"
      ]
    },
    {
      "cell_type": "code",
      "execution_count": 5,
      "metadata": {
        "colab": {
          "base_uri": "https://localhost:8080/"
        },
        "id": "ek9BLdjoWaio",
        "outputId": "7c3772fc-3797-4ba0-a514-eceac26c05ad"
      },
      "outputs": [
        {
          "output_type": "stream",
          "name": "stdout",
          "text": [
            "\n",
            "Сравнение моделей:\n"
          ]
        },
        {
          "output_type": "stream",
          "name": "stderr",
          "text": [
            "Обучение моделей:  29%|██▊       | 2/7 [00:00<00:00, 16.67it/s]"
          ]
        },
        {
          "output_type": "stream",
          "name": "stdout",
          "text": [
            "Linear: RMSE=0.7857, MAE=0.5932, R²=0.1058, Pearsonr=0.3414\n",
            "Ridge: RMSE=0.7856, MAE=0.5929, R²=0.1060, Pearsonr=0.3405\n",
            "Lasso: RMSE=0.8164, MAE=0.6337, R²=0.0344, Pearsonr=0.2528\n"
          ]
        },
        {
          "output_type": "stream",
          "name": "stderr",
          "text": [
            "\rОбучение моделей:  57%|█████▋    | 4/7 [00:04<00:03,  1.26s/it]"
          ]
        },
        {
          "output_type": "stream",
          "name": "stdout",
          "text": [
            "RF: RMSE=0.6962, MAE=0.5142, R²=0.2979, Pearsonr=0.5459\n"
          ]
        },
        {
          "output_type": "stream",
          "name": "stderr",
          "text": [
            "\rОбучение моделей:  71%|███████▏  | 5/7 [00:06<00:02,  1.44s/it]"
          ]
        },
        {
          "output_type": "stream",
          "name": "stdout",
          "text": [
            "GB: RMSE=0.7071, MAE=0.5236, R²=0.2757, Pearsonr=0.5255\n"
          ]
        },
        {
          "output_type": "stream",
          "name": "stderr",
          "text": [
            "\rОбучение моделей:  86%|████████▌ | 6/7 [00:21<00:05,  5.71s/it]"
          ]
        },
        {
          "output_type": "stream",
          "name": "stdout",
          "text": [
            "XGBoost: RMSE=0.7364, MAE=0.5318, R²=0.2144, Pearsonr=0.4923\n",
            "[LightGBM] [Info] Auto-choosing col-wise multi-threading, the overhead of testing was 0.000851 seconds.\n",
            "You can set `force_col_wise=true` to remove the overhead.\n",
            "[LightGBM] [Info] Total Bins 10191\n",
            "[LightGBM] [Info] Number of data points in the train set: 798, number of used features: 50\n",
            "[LightGBM] [Info] Start training from score 0.737879\n",
            "[LightGBM] [Warning] No further splits with positive gain, best gain: -inf\n",
            "[LightGBM] [Warning] No further splits with positive gain, best gain: -inf\n",
            "[LightGBM] [Warning] No further splits with positive gain, best gain: -inf\n",
            "[LightGBM] [Warning] No further splits with positive gain, best gain: -inf\n",
            "[LightGBM] [Warning] No further splits with positive gain, best gain: -inf\n",
            "[LightGBM] [Warning] No further splits with positive gain, best gain: -inf\n",
            "[LightGBM] [Warning] No further splits with positive gain, best gain: -inf\n",
            "[LightGBM] [Warning] No further splits with positive gain, best gain: -inf\n",
            "[LightGBM] [Warning] No further splits with positive gain, best gain: -inf\n",
            "[LightGBM] [Warning] No further splits with positive gain, best gain: -inf\n",
            "[LightGBM] [Warning] No further splits with positive gain, best gain: -inf\n",
            "[LightGBM] [Warning] No further splits with positive gain, best gain: -inf\n",
            "[LightGBM] [Warning] No further splits with positive gain, best gain: -inf\n",
            "[LightGBM] [Warning] No further splits with positive gain, best gain: -inf\n",
            "[LightGBM] [Warning] No further splits with positive gain, best gain: -inf\n",
            "[LightGBM] [Warning] No further splits with positive gain, best gain: -inf\n",
            "[LightGBM] [Warning] No further splits with positive gain, best gain: -inf\n",
            "[LightGBM] [Warning] No further splits with positive gain, best gain: -inf\n",
            "[LightGBM] [Warning] No further splits with positive gain, best gain: -inf\n",
            "[LightGBM] [Warning] No further splits with positive gain, best gain: -inf\n",
            "[LightGBM] [Warning] No further splits with positive gain, best gain: -inf\n",
            "[LightGBM] [Warning] No further splits with positive gain, best gain: -inf\n",
            "[LightGBM] [Warning] No further splits with positive gain, best gain: -inf\n",
            "[LightGBM] [Warning] No further splits with positive gain, best gain: -inf\n"
          ]
        },
        {
          "output_type": "stream",
          "name": "stderr",
          "text": [
            "Обучение моделей: 100%|██████████| 7/7 [00:22<00:00,  3.21s/it]"
          ]
        },
        {
          "output_type": "stream",
          "name": "stdout",
          "text": [
            "[LightGBM] [Warning] No further splits with positive gain, best gain: -inf\n",
            "[LightGBM] [Warning] No further splits with positive gain, best gain: -inf\n",
            "[LightGBM] [Warning] No further splits with positive gain, best gain: -inf\n",
            "[LightGBM] [Warning] No further splits with positive gain, best gain: -inf\n",
            "LightGBM: RMSE=0.7059, MAE=0.5130, R²=0.2781, Pearsonr=0.5330\n"
          ]
        },
        {
          "output_type": "stream",
          "name": "stderr",
          "text": [
            "\n"
          ]
        }
      ],
      "source": [
        "\n",
        "# Сравнение моделей\n",
        "models = {\n",
        "    'Linear': LinearRegression(),\n",
        "    'Ridge': Ridge(alpha=1.0),\n",
        "    'Lasso': Lasso(alpha=0.1),\n",
        "    'RF': RandomForestRegressor(n_estimators=100, random_state=42, n_jobs=-1),\n",
        "    'GB': GradientBoostingRegressor(n_estimators=100, random_state=42),\n",
        "    'XGBoost': XGBRegressor(random_state=42, n_jobs=-1),\n",
        "    'LightGBM': LGBMRegressor(random_state=42, n_jobs=-1)\n",
        "}\n",
        "\n",
        "def evaluate_model(model, X_train, y_train, X_test, y_test, name):\n",
        "    model.fit(X_train, y_train)\n",
        "    pred = model.predict(X_test)\n",
        "\n",
        "    rmse = np.sqrt(mean_squared_error(y_test, pred))\n",
        "    mae = mean_absolute_error(y_test, pred)\n",
        "    r2 = r2_score(y_test, pred)\n",
        "    r, _ = pearsonr(y_test, pred)\n",
        "\n",
        "    return rmse, mae, r2, r\n",
        "\n",
        "print(\"\\nСравнение моделей:\")\n",
        "metrics = {}\n",
        "for name, model in tqdm(models.items(), desc=\"Обучение моделей\"):\n",
        "    rmse, mae, r2, r = evaluate_model(model, X_train_final, y_train,\n",
        "                                      X_test_final, y_test, name)\n",
        "    metrics[name] = (rmse, mae, r2, r)\n",
        "    print(f\"{name}: RMSE={rmse:.4f}, MAE={mae:.4f}, R²={r2:.4f}, Pearsonr={r:.4f}\")\n"
      ]
    },
    {
      "cell_type": "code",
      "execution_count": 6,
      "metadata": {
        "colab": {
          "base_uri": "https://localhost:8080/",
          "height": 640
        },
        "id": "InqtxQbSWZS2",
        "outputId": "430a45dc-03b8-4049-903c-d9c9a9c710af"
      },
      "outputs": [
        {
          "output_type": "display_data",
          "data": {
            "text/plain": [
              "<Figure size 1000x600 with 1 Axes>"
            ],
            "image/png": "[encoded data removed]"
          },
          "metadata": {}
        },
        {
          "output_type": "stream",
          "name": "stdout",
          "text": [
            "\n",
            "Лучшая модель: RF (RMSE: 0.6962)\n"
          ]
        }
      ],
      "source": [
        "\n",
        "# Визуализация сравнения\n",
        "rmse_df = pd.DataFrame({\n",
        "    'Model': list(metrics.keys()),\n",
        "    'RMSE': [metrics[name][0] for name in metrics]\n",
        "}).sort_values('RMSE')\n",
        "\n",
        "plt.figure(figsize=(10, 6))\n",
        "sns.barplot(x='RMSE', y='Model', data=rmse_df, palette='viridis')\n",
        "plt.title('Сравнение RMSE моделей')\n",
        "plt.tight_layout()\n",
        "plt.savefig(f'{SAVE_DIR}/model_comparison.png')\n",
        "plt.show()\n",
        "\n",
        "best_model_name = rmse_df.iloc[0]['Model']\n",
        "best_base = models[best_model_name]\n",
        "print(f\"\\nЛучшая модель: {best_model_name} (RMSE: {rmse_df.iloc[0]['RMSE']:.4f})\")\n"
      ]
    },
    {
      "cell_type": "code",
      "execution_count": 7,
      "metadata": {
        "id": "k3J9lPDqWI4c",
        "colab": {
          "base_uri": "https://localhost:8080/",
          "height": 1000,
          "referenced_widgets": [
            "1b7d39991f724ce5a900cfda482b0551",
            "3cb253ff22264015a1283bcbc77efb37",
            "87e64d759573496d98566d1931b61dd9",
            "5b636810b83c4e53ad2419ffca827064",
            "c84bd7025b544476814f209622bae5cd",
            "fa7fb01d78664abdbb5d0fa1aeecc434",
            "90a452c1afa34699ad1d90af3df9fe74",
            "4fc82b301f9b46448fe1500dfaa39eb3",
            "0de945c9259c405cbb4d088223ff27c3",
            "1c528d9522d144ff81a691c59a33ae2e",
            "c25679e121004db488c3ed7b194912d4"
          ]
        },
        "outputId": "3e0c8144-84eb-4822-f3f3-95b97312ff39"
      },
      "outputs": [
        {
          "output_type": "stream",
          "name": "stderr",
          "text": [
            "[I 2025-06-18 00:44:14,005] A new study created in memory with name: no-name-9ec1cced-8c89-4840-9490-101beec97b34\n"
          ]
        },
        {
          "output_type": "stream",
          "name": "stdout",
          "text": [
            "\n",
            "Оптимизация RF с Optuna...\n"
          ]
        },
        {
          "output_type": "display_data",
          "data": {
            "text/plain": [
              "  0%|          | 0/50 [00:00<?, ?it/s]"
            ],
            "application/vnd.jupyter.widget-view+json": {
              "version_major": 2,
              "version_minor": 0,
              "model_id": "1b7d39991f724ce5a900cfda482b0551"
            }
          },
          "metadata": {}
        },
        {
          "output_type": "stream",
          "name": "stdout",
          "text": [
            "[I 2025-06-18 00:44:23,538] Trial 0 finished with value: 0.641782564548311 and parameters: {'n_estimators': 617, 'max_depth': 31, 'min_samples_split': 15, 'min_samples_leaf': 8, 'max_features': 'log2'}. Best is trial 0 with value: 0.641782564548311.\n",
            "[I 2025-06-18 00:44:28,990] Trial 1 finished with value: 0.641733116706388 and parameters: {'n_estimators': 392, 'max_depth': 29, 'min_samples_split': 5, 'min_samples_leaf': 9, 'max_features': 'sqrt'}. Best is trial 1 with value: 0.641733116706388.\n",
            "[I 2025-06-18 00:44:56,983] Trial 2 finished with value: 0.6390189469880176 and parameters: {'n_estimators': 576, 'max_depth': 28, 'min_samples_split': 10, 'min_samples_leaf': 8, 'max_features': 0.8}. Best is trial 2 with value: 0.6390189469880176.\n",
            "[I 2025-06-18 00:45:02,873] Trial 3 finished with value: 0.6445647514925101 and parameters: {'n_estimators': 302, 'max_depth': 27, 'min_samples_split': 13, 'min_samples_leaf': 10, 'max_features': 'sqrt'}. Best is trial 2 with value: 0.6390189469880176.\n",
            "[I 2025-06-18 00:45:04,720] Trial 4 finished with value: 0.6456358828499509 and parameters: {'n_estimators': 128, 'max_depth': 43, 'min_samples_split': 2, 'min_samples_leaf': 10, 'max_features': 'sqrt'}. Best is trial 2 with value: 0.6390189469880176.\n",
            "[I 2025-06-18 00:45:24,704] Trial 5 finished with value: 0.6404551246215975 and parameters: {'n_estimators': 519, 'max_depth': 5, 'min_samples_split': 9, 'min_samples_leaf': 4, 'max_features': 0.8}. Best is trial 2 with value: 0.6390189469880176.\n",
            "[I 2025-06-18 00:45:33,429] Trial 6 finished with value: 0.6327108238138036 and parameters: {'n_estimators': 386, 'max_depth': 20, 'min_samples_split': 3, 'min_samples_leaf': 2, 'max_features': 'log2'}. Best is trial 6 with value: 0.6327108238138036.\n",
            "[I 2025-06-18 00:45:38,800] Trial 7 finished with value: 0.6422423609941756 and parameters: {'n_estimators': 200, 'max_depth': 37, 'min_samples_split': 14, 'min_samples_leaf': 8, 'max_features': 'log2'}. Best is trial 6 with value: 0.6327108238138036.\n",
            "[I 2025-06-18 00:46:22,130] Trial 8 finished with value: 0.6360140551989935 and parameters: {'n_estimators': 692, 'max_depth': 21, 'min_samples_split': 2, 'min_samples_leaf': 3, 'max_features': 0.8}. Best is trial 6 with value: 0.6327108238138036.\n",
            "[I 2025-06-18 00:46:35,433] Trial 9 finished with value: 0.6412151999660546 and parameters: {'n_estimators': 840, 'max_depth': 47, 'min_samples_split': 20, 'min_samples_leaf': 8, 'max_features': 'sqrt'}. Best is trial 6 with value: 0.6327108238138036.\n",
            "[I 2025-06-18 00:46:51,455] Trial 10 finished with value: 0.631802476700663 and parameters: {'n_estimators': 961, 'max_depth': 13, 'min_samples_split': 6, 'min_samples_leaf': 1, 'max_features': 'log2'}. Best is trial 10 with value: 0.631802476700663.\n",
            "[I 2025-06-18 00:47:06,379] Trial 11 finished with value: 0.6317211421158505 and parameters: {'n_estimators': 908, 'max_depth': 12, 'min_samples_split': 7, 'min_samples_leaf': 1, 'max_features': 'log2'}. Best is trial 11 with value: 0.6317211421158505.\n",
            "[I 2025-06-18 00:47:20,649] Trial 12 finished with value: 0.6335419631054086 and parameters: {'n_estimators': 996, 'max_depth': 7, 'min_samples_split': 7, 'min_samples_leaf': 1, 'max_features': 'log2'}. Best is trial 11 with value: 0.6317211421158505.\n",
            "[I 2025-06-18 00:47:35,294] Trial 13 finished with value: 0.634396321993088 and parameters: {'n_estimators': 990, 'max_depth': 13, 'min_samples_split': 7, 'min_samples_leaf': 5, 'max_features': 'log2'}. Best is trial 11 with value: 0.6317211421158505.\n",
            "[I 2025-06-18 00:47:52,671] Trial 14 finished with value: 0.6318067863078095 and parameters: {'n_estimators': 840, 'max_depth': 14, 'min_samples_split': 6, 'min_samples_leaf': 1, 'max_features': 'log2'}. Best is trial 11 with value: 0.6317211421158505.\n",
            "[I 2025-06-18 00:48:04,938] Trial 15 finished with value: 0.6335764138518465 and parameters: {'n_estimators': 834, 'max_depth': 13, 'min_samples_split': 9, 'min_samples_leaf': 3, 'max_features': 'log2'}. Best is trial 11 with value: 0.6317211421158505.\n",
            "[I 2025-06-18 00:48:15,780] Trial 16 finished with value: 0.6362146700738361 and parameters: {'n_estimators': 728, 'max_depth': 19, 'min_samples_split': 12, 'min_samples_leaf': 6, 'max_features': 'log2'}. Best is trial 11 with value: 0.6317211421158505.\n",
            "[I 2025-06-18 00:48:30,880] Trial 17 finished with value: 0.6316256855036075 and parameters: {'n_estimators': 946, 'max_depth': 10, 'min_samples_split': 4, 'min_samples_leaf': 2, 'max_features': 'log2'}. Best is trial 17 with value: 0.6316256855036075.\n",
            "[I 2025-06-18 00:48:44,502] Trial 18 finished with value: 0.632633222186292 and parameters: {'n_estimators': 891, 'max_depth': 9, 'min_samples_split': 4, 'min_samples_leaf': 3, 'max_features': 'log2'}. Best is trial 17 with value: 0.6316256855036075.\n",
            "[I 2025-06-18 00:49:22,976] Trial 19 finished with value: 0.6375024198797956 and parameters: {'n_estimators': 740, 'max_depth': 23, 'min_samples_split': 17, 'min_samples_leaf': 6, 'max_features': 0.8}. Best is trial 17 with value: 0.6316256855036075.\n",
            "[I 2025-06-18 00:49:37,749] Trial 20 finished with value: 0.6325897921151293 and parameters: {'n_estimators': 901, 'max_depth': 36, 'min_samples_split': 8, 'min_samples_leaf': 2, 'max_features': 'log2'}. Best is trial 17 with value: 0.6316256855036075.\n",
            "[I 2025-06-18 00:49:54,240] Trial 21 finished with value: 0.6335646681315599 and parameters: {'n_estimators': 944, 'max_depth': 16, 'min_samples_split': 5, 'min_samples_leaf': 1, 'max_features': 'log2'}. Best is trial 17 with value: 0.6316256855036075.\n",
            "[I 2025-06-18 00:50:08,293] Trial 22 finished with value: 0.6311821351085638 and parameters: {'n_estimators': 773, 'max_depth': 9, 'min_samples_split': 5, 'min_samples_leaf': 2, 'max_features': 'log2'}. Best is trial 22 with value: 0.6311821351085638.\n",
            "[I 2025-06-18 00:50:21,078] Trial 23 finished with value: 0.6319986103027188 and parameters: {'n_estimators': 778, 'max_depth': 10, 'min_samples_split': 4, 'min_samples_leaf': 2, 'max_features': 'log2'}. Best is trial 22 with value: 0.6311821351085638.\n",
            "[I 2025-06-18 00:50:31,218] Trial 24 finished with value: 0.6349679791648908 and parameters: {'n_estimators': 662, 'max_depth': 9, 'min_samples_split': 11, 'min_samples_leaf': 4, 'max_features': 'log2'}. Best is trial 22 with value: 0.6311821351085638.\n",
            "[I 2025-06-18 00:50:43,559] Trial 25 finished with value: 0.6441028264819243 and parameters: {'n_estimators': 897, 'max_depth': 5, 'min_samples_split': 4, 'min_samples_leaf': 4, 'max_features': 'log2'}. Best is trial 22 with value: 0.6311821351085638.\n",
            "[I 2025-06-18 00:50:56,217] Trial 26 finished with value: 0.6325734409984372 and parameters: {'n_estimators': 810, 'max_depth': 17, 'min_samples_split': 8, 'min_samples_leaf': 2, 'max_features': 'log2'}. Best is trial 22 with value: 0.6311821351085638.\n",
            "[I 2025-06-18 00:51:03,703] Trial 27 finished with value: 0.6346673180680923 and parameters: {'n_estimators': 504, 'max_depth': 23, 'min_samples_split': 6, 'min_samples_leaf': 5, 'max_features': 'log2'}. Best is trial 22 with value: 0.6311821351085638.\n",
            "[I 2025-06-18 00:51:49,808] Trial 28 finished with value: 0.6349820369753988 and parameters: {'n_estimators': 774, 'max_depth': 11, 'min_samples_split': 3, 'min_samples_leaf': 3, 'max_features': 0.8}. Best is trial 22 with value: 0.6311821351085638.\n",
            "[I 2025-06-18 00:52:00,708] Trial 29 finished with value: 0.6341745549015139 and parameters: {'n_estimators': 648, 'max_depth': 7, 'min_samples_split': 10, 'min_samples_leaf': 2, 'max_features': 'sqrt'}. Best is trial 22 with value: 0.6311821351085638.\n",
            "[I 2025-06-18 00:52:15,027] Trial 30 finished with value: 0.6344811293894994 and parameters: {'n_estimators': 918, 'max_depth': 17, 'min_samples_split': 16, 'min_samples_leaf': 1, 'max_features': 'log2'}. Best is trial 22 with value: 0.6311821351085638.\n",
            "[I 2025-06-18 00:52:32,903] Trial 31 finished with value: 0.6317570385157129 and parameters: {'n_estimators': 953, 'max_depth': 13, 'min_samples_split': 6, 'min_samples_leaf': 1, 'max_features': 'log2'}. Best is trial 22 with value: 0.6311821351085638.\n",
            "[I 2025-06-18 00:52:47,025] Trial 32 finished with value: 0.632345087188696 and parameters: {'n_estimators': 861, 'max_depth': 11, 'min_samples_split': 5, 'min_samples_leaf': 2, 'max_features': 'log2'}. Best is trial 22 with value: 0.6311821351085638.\n",
            "[I 2025-06-18 00:53:00,819] Trial 33 finished with value: 0.6333735772702014 and parameters: {'n_estimators': 949, 'max_depth': 7, 'min_samples_split': 7, 'min_samples_leaf': 1, 'max_features': 'log2'}. Best is trial 22 with value: 0.6311821351085638.\n",
            "[I 2025-06-18 00:53:13,510] Trial 34 finished with value: 0.6325680456525404 and parameters: {'n_estimators': 574, 'max_depth': 15, 'min_samples_split': 3, 'min_samples_leaf': 3, 'max_features': 'log2'}. Best is trial 22 with value: 0.6311821351085638.\n",
            "[I 2025-06-18 00:53:33,681] Trial 35 finished with value: 0.6330091915686618 and parameters: {'n_estimators': 1000, 'max_depth': 27, 'min_samples_split': 5, 'min_samples_leaf': 1, 'max_features': 'sqrt'}. Best is trial 22 with value: 0.6311821351085638.\n",
            "[I 2025-06-18 00:53:46,475] Trial 36 finished with value: 0.6325244804715711 and parameters: {'n_estimators': 770, 'max_depth': 32, 'min_samples_split': 8, 'min_samples_leaf': 2, 'max_features': 'log2'}. Best is trial 22 with value: 0.6311821351085638.\n",
            "[I 2025-06-18 00:54:30,250] Trial 37 finished with value: 0.6379705733299377 and parameters: {'n_estimators': 873, 'max_depth': 23, 'min_samples_split': 10, 'min_samples_leaf': 7, 'max_features': 0.8}. Best is trial 22 with value: 0.6311821351085638.\n",
            "[I 2025-06-18 00:54:38,664] Trial 38 finished with value: 0.6426675302708691 and parameters: {'n_estimators': 441, 'max_depth': 5, 'min_samples_split': 2, 'min_samples_leaf': 4, 'max_features': 'sqrt'}. Best is trial 22 with value: 0.6311821351085638.\n",
            "[I 2025-06-18 00:54:51,377] Trial 39 finished with value: 0.6320645500603312 and parameters: {'n_estimators': 712, 'max_depth': 19, 'min_samples_split': 6, 'min_samples_leaf': 3, 'max_features': 'log2'}. Best is trial 22 with value: 0.6311821351085638.\n",
            "[I 2025-06-18 00:55:04,667] Trial 40 finished with value: 0.6429516853373759 and parameters: {'n_estimators': 932, 'max_depth': 11, 'min_samples_split': 4, 'min_samples_leaf': 9, 'max_features': 'log2'}. Best is trial 22 with value: 0.6311821351085638.\n",
            "[I 2025-06-18 00:55:20,669] Trial 41 finished with value: 0.6318040109380477 and parameters: {'n_estimators': 959, 'max_depth': 13, 'min_samples_split': 6, 'min_samples_leaf': 1, 'max_features': 'log2'}. Best is trial 22 with value: 0.6311821351085638.\n",
            "[I 2025-06-18 00:55:35,755] Trial 42 finished with value: 0.6310833428621683 and parameters: {'n_estimators': 959, 'max_depth': 9, 'min_samples_split': 7, 'min_samples_leaf': 1, 'max_features': 'log2'}. Best is trial 42 with value: 0.6310833428621683.\n",
            "[I 2025-06-18 00:55:48,307] Trial 43 finished with value: 0.6324848208555615 and parameters: {'n_estimators': 807, 'max_depth': 9, 'min_samples_split': 9, 'min_samples_leaf': 2, 'max_features': 'log2'}. Best is trial 42 with value: 0.6310833428621683.\n",
            "[I 2025-06-18 00:56:01,128] Trial 44 finished with value: 0.6335564381594445 and parameters: {'n_estimators': 870, 'max_depth': 7, 'min_samples_split': 7, 'min_samples_leaf': 1, 'max_features': 'log2'}. Best is trial 42 with value: 0.6310833428621683.\n",
            "[I 2025-06-18 00:56:16,693] Trial 45 finished with value: 0.6319210554730361 and parameters: {'n_estimators': 920, 'max_depth': 16, 'min_samples_split': 2, 'min_samples_leaf': 2, 'max_features': 'log2'}. Best is trial 42 with value: 0.6310833428621683.\n",
            "[I 2025-06-18 00:57:28,495] Trial 46 finished with value: 0.6376079392891406 and parameters: {'n_estimators': 972, 'max_depth': 43, 'min_samples_split': 5, 'min_samples_leaf': 1, 'max_features': 0.8}. Best is trial 42 with value: 0.6310833428621683.\n",
            "[I 2025-06-18 00:57:33,336] Trial 47 finished with value: 0.6339601449119507 and parameters: {'n_estimators': 213, 'max_depth': 12, 'min_samples_split': 7, 'min_samples_leaf': 2, 'max_features': 'sqrt'}. Best is trial 42 with value: 0.6310833428621683.\n",
            "[I 2025-06-18 00:57:45,556] Trial 48 finished with value: 0.6317341134291151 and parameters: {'n_estimators': 818, 'max_depth': 7, 'min_samples_split': 3, 'min_samples_leaf': 1, 'max_features': 'log2'}. Best is trial 42 with value: 0.6310833428621683.\n",
            "[I 2025-06-18 00:57:55,432] Trial 49 finished with value: 0.6441943040410496 and parameters: {'n_estimators': 813, 'max_depth': 5, 'min_samples_split': 3, 'min_samples_leaf': 3, 'max_features': 'log2'}. Best is trial 42 with value: 0.6310833428621683.\n",
            "\n",
            "Лучшие гиперпараметры:\n",
            "n_estimators: 959\n",
            "max_depth: 9\n",
            "min_samples_split: 7\n",
            "min_samples_leaf: 1\n",
            "max_features: log2\n",
            "Лучшее значение RMSE: 0.6311\n",
            "Cross-Validation RMSE: 0.6246 (±-0.0342)\n",
            "Тестовый RMSE: 0.6952\n",
            "\n",
            "Создание ансамбля из 5 моделей...\n"
          ]
        },
        {
          "output_type": "stream",
          "name": "stderr",
          "text": [
            "Обучение ансамбля: 100%|██████████| 5/5 [00:18<00:00,  3.62s/it]"
          ]
        },
        {
          "output_type": "stream",
          "name": "stdout",
          "text": [
            "RMSE ансамбля: 0.6954\n"
          ]
        },
        {
          "output_type": "stream",
          "name": "stderr",
          "text": [
            "\n"
          ]
        }
      ],
      "source": [
        "\n",
        "# Оптимизация гиперпараметров Optuna\n",
        "def get_param_func(name):\n",
        "    if name == 'Ridge':\n",
        "        return lambda t: {'alpha': t.suggest_float('alpha', 0.01, 100, log=True)}\n",
        "    if name == 'Lasso':\n",
        "        return lambda t: {'alpha': t.suggest_float('alpha', 0.01, 100, log=True)}\n",
        "    if name == 'RF':\n",
        "        return lambda t: {\n",
        "            'n_estimators': t.suggest_int('n_estimators', 100, 1000),\n",
        "            'max_depth': t.suggest_int('max_depth', 5, 50),\n",
        "            'min_samples_split': t.suggest_int('min_samples_split', 2, 20),\n",
        "            'min_samples_leaf': t.suggest_int('min_samples_leaf', 1, 10),\n",
        "            'max_features': t.suggest_categorical('max_features', ['sqrt', 'log2', 0.8]),\n",
        "            'random_state': 42,\n",
        "            'n_jobs': -1\n",
        "        }\n",
        "    if name == 'GB':\n",
        "        return lambda t: {\n",
        "            'n_estimators': t.suggest_int('n_estimators', 100, 1000),\n",
        "            'max_depth': t.suggest_int('max_depth', 3, 10),\n",
        "            'learning_rate': t.suggest_float('learning_rate', 0.001, 0.2, log=True),\n",
        "            'subsample': t.suggest_float('subsample', 0.5, 1.0),\n",
        "            'min_samples_leaf': t.suggest_int('min_samples_leaf', 1, 10),\n",
        "            'random_state': 42\n",
        "        }\n",
        "    if name == 'XGBoost':\n",
        "        return lambda t: {\n",
        "            'n_estimators': t.suggest_int('n_estimators', 100, 1000),\n",
        "            'max_depth': t.suggest_int('max_depth', 3, 12),\n",
        "            'learning_rate': t.suggest_float('learning_rate', 0.001, 0.3, log=True),\n",
        "            'subsample': t.suggest_float('subsample', 0.6, 1.0),\n",
        "            'colsample_bytree': t.suggest_float('colsample_bytree', 0.6, 1.0),\n",
        "            'gamma': t.suggest_float('gamma', 0, 1),\n",
        "            'reg_alpha': t.suggest_float('reg_alpha', 0, 1),\n",
        "            'random_state': 42,\n",
        "            'n_jobs': -1\n",
        "        }\n",
        "    if name == 'LightGBM':\n",
        "        return lambda t: {\n",
        "            'n_estimators': t.suggest_int('n_estimators', 100, 1000),\n",
        "            'max_depth': t.suggest_int('max_depth', 3, 15),\n",
        "            'learning_rate': t.suggest_float('learning_rate', 0.001, 0.3, log=True),\n",
        "            'subsample': t.suggest_float('subsample', 0.6, 1.0),\n",
        "            'colsample_bytree': t.suggest_float('colsample_bytree', 0.6, 1.0),\n",
        "            'num_leaves': t.suggest_int('num_leaves', 20, 200),\n",
        "            'min_child_samples': t.suggest_int('min_child_samples', 5, 50),\n",
        "            'reg_alpha': t.suggest_float('reg_alpha', 0, 1),\n",
        "            'random_state': 42,\n",
        "            'n_jobs': -1\n",
        "        }\n",
        "    return None\n",
        "\n",
        "param_func = get_param_func(best_model_name)\n",
        "\n",
        "if best_model_name not in ['Linear'] and param_func is not None:\n",
        "    print(f\"\\nОптимизация {best_model_name} с Optuna...\")\n",
        "\n",
        "    def objective(trial):\n",
        "        params = param_func(trial)\n",
        "        ModelClass = type(best_base)\n",
        "        model = ModelClass(**params)\n",
        "\n",
        "        kf = KFold(n_splits=5, shuffle=True, random_state=42)\n",
        "        scores = []\n",
        "\n",
        "        for tr_idx, val_idx in kf.split(X_train_final):\n",
        "            X_tr, y_tr = X_train_final.iloc[tr_idx], y_train[tr_idx]\n",
        "            X_val, y_val = X_train_final.iloc[val_idx], y_train[val_idx]\n",
        "\n",
        "            model.fit(X_tr, y_tr)\n",
        "            val_pred = model.predict(X_val)\n",
        "            rmse = np.sqrt(mean_squared_error(y_val, val_pred))\n",
        "            scores.append(rmse)\n",
        "\n",
        "        return np.mean(scores)\n",
        "\n",
        "    study = optuna.create_study(direction='minimize')\n",
        "    study.optimize(objective, n_trials=50, show_progress_bar=True)\n",
        "\n",
        "    print(\"\\nЛучшие гиперпараметры:\")\n",
        "    for k, v in study.best_params.items():\n",
        "        print(f\"{k}: {v}\")\n",
        "    print(f\"Лучшее значение RMSE: {study.best_value:.4f}\")\n",
        "\n",
        "    # Обучение финальной модели\n",
        "    ModelClass = type(best_base)\n",
        "    optimized = ModelClass(**study.best_params)\n",
        "    optimized.fit(X_train_final, y_train)\n",
        "\n",
        "    # Кросс-валидация\n",
        "    cv_scores = cross_val_score(\n",
        "        optimized,\n",
        "        X_train_final,\n",
        "        y_train,\n",
        "        cv=5,\n",
        "        scoring='neg_root_mean_squared_error',\n",
        "        n_jobs=-1\n",
        "    )\n",
        "    cv_rmse = -cv_scores.mean()\n",
        "    print(f\"Cross-Validation RMSE: {cv_rmse:.4f} (±{-cv_scores.std():.4f})\")\n",
        "\n",
        "    # Оценка на тесте\n",
        "    test_pred = optimized.predict(X_test_final)\n",
        "    test_rmse = np.sqrt(mean_squared_error(y_test, test_pred))\n",
        "    print(f\"Тестовый RMSE: {test_rmse:.4f}\")\n",
        "\n",
        "    # Ансамблирование\n",
        "    print(\"\\nСоздание ансамбля из 5 моделей...\")\n",
        "    ensemble_preds = []\n",
        "    for i in tqdm(range(5), desc=\"Обучение ансамбля\"):\n",
        "        model = ModelClass(**study.best_params)\n",
        "        model.set_params(**{'random_state': 42 + i})\n",
        "        model.fit(X_train_final, y_train)\n",
        "        pred_i = model.predict(X_test_final)\n",
        "        ensemble_preds.append(pred_i)\n",
        "\n",
        "    ensemble_pred = np.mean(ensemble_preds, axis=0)\n",
        "    ensemble_rmse = np.sqrt(mean_squared_error(y_test, ensemble_pred))\n",
        "    print(f\"RMSE ансамбля: {ensemble_rmse:.4f}\")\n",
        "\n",
        "    final_pred = ensemble_pred\n",
        "    final_rmse = ensemble_rmse\n",
        "else:\n",
        "    print(\"\\nОптимизация не требуется\")\n",
        "    optimized = best_base\n",
        "    optimized.fit(X_train_final, y_train)\n",
        "    final_pred = optimized.predict(X_test_final)\n",
        "    final_rmse = np.sqrt(mean_squared_error(y_test, final_pred))\n"
      ]
    },
    {
      "cell_type": "code",
      "execution_count": 8,
      "metadata": {
        "id": "MkAjyIZSWGSW",
        "colab": {
          "base_uri": "https://localhost:8080/",
          "height": 487
        },
        "outputId": "e691e828-fb68-4030-b34e-81ae5a2611b0"
      },
      "outputs": [
        {
          "output_type": "display_data",
          "data": {
            "text/plain": [
              "<Figure size 1000x500 with 2 Axes>"
            ],
            "image/png": "[encoded data removed]"
          },
          "metadata": {}
        }
      ],
      "source": [
        "\n",
        "# Финальная визуализация\n",
        "plt.figure(figsize=(10, 5))\n",
        "plt.scatter(y_test, final_pred, alpha=0.6, c=np.abs(y_test - final_pred), cmap='viridis')\n",
        "plt.colorbar(label='Абсолютная ошибка')\n",
        "plt.plot([min(y_test), max(y_test)], [min(y_test), max(y_test)], 'r--')\n",
        "plt.xlabel('Истинные значения')\n",
        "plt.ylabel('Предсказания')\n",
        "plt.title(f'Финальные предсказания ({best_model_name})')\n",
        "plt.grid(True)\n",
        "plt.savefig(f'{SAVE_DIR}/final_predictions.png')\n",
        "plt.show()\n"
      ]
    },
    {
      "cell_type": "code",
      "execution_count": 9,
      "metadata": {
        "id": "tyufGm2nWFJs",
        "colab": {
          "base_uri": "https://localhost:8080/",
          "height": 807
        },
        "outputId": "21bcf215-d87d-4eb9-a565-ea877d926eed"
      },
      "outputs": [
        {
          "output_type": "display_data",
          "data": {
            "text/plain": [
              "<Figure size 1000x800 with 1 Axes>"
            ],
            "image/png": "[encoded data removed]"
          },
          "metadata": {}
        }
      ],
      "source": [
        "\n",
        "# Анализ важности признаков\n",
        "if hasattr(optimized, 'feature_importances_'):\n",
        "    importances = optimized.feature_importances_\n",
        "    feat_importance = pd.DataFrame({\n",
        "        'Feature': selected_features,\n",
        "        'Importance': importances\n",
        "    }).sort_values('Importance', ascending=False)\n",
        "\n",
        "    # Топ-20 признаков\n",
        "    plt.figure(figsize=(10, 8))\n",
        "    sns.barplot(x='Importance', y='Feature', data=feat_importance.head(20))\n",
        "    plt.title('Важность признаков')\n",
        "    plt.tight_layout()\n",
        "    plt.savefig(f'{SAVE_DIR}/feature_importance.png')\n",
        "    plt.show()\n",
        "\n",
        "    # Интерактивная визуализация\n",
        "    fig = px.bar(feat_importance.head(20), x='Importance', y='Feature', orientation='h')\n",
        "    fig.write_html(f'{SAVE_DIR}/feature_importance.html')\n",
        "\n",
        "    feat_importance.to_csv(f'{SAVE_DIR}/feature_importance.csv', index=False)\n"
      ]
    },
    {
      "cell_type": "code",
      "execution_count": 10,
      "metadata": {
        "id": "5fv5bHj0WEbH",
        "colab": {
          "base_uri": "https://localhost:8080/",
          "height": 385
        },
        "outputId": "95462c5e-9e4c-48fe-f450-d273dded25c4"
      },
      "outputs": [
        {
          "output_type": "stream",
          "name": "stdout",
          "text": [
            "\n",
            "Соединения с наибольшими ошибками:\n"
          ]
        },
        {
          "output_type": "display_data",
          "data": {
            "text/plain": [
              "     True Value  Predicted Value     Error\n",
              "796    4.193698         1.202277  2.991421\n",
              "785   -1.559188         1.202277 -2.761465\n",
              "787   -1.358439         1.202277 -2.560716\n",
              "792    3.000000         1.202277  1.797723\n",
              "770    4.073657         2.333618  1.740039\n",
              "107    3.698970         2.026509  1.672461\n",
              "346    2.045757         0.448282  1.597476\n",
              "208    1.744727         0.223248  1.521479\n",
              "809    2.296443         0.804505  1.491938\n",
              "266   -0.380211         1.104058 -1.484269"
            ],
            "text/html": [
              "\n",
              "  <div id=\"df-e23d8c40-80da-41ca-bca1-d0d39d123c1e\" class=\"colab-df-container\">\n",
              "    <div>\n",
              "<style scoped>\n",
              "    .dataframe tbody tr th:only-of-type {\n",
              "        vertical-align: middle;\n",
              "    }\n",
              "\n",
              "    .dataframe tbody tr th {\n",
              "        vertical-align: top;\n",
              "    }\n",
              "\n",
              "    .dataframe thead th {\n",
              "        text-align: right;\n",
              "    }\n",
              "</style>\n",
              "<table border=\"1\" class=\"dataframe\">\n",
              "  <thead>\n",
              "    <tr style=\"text-align: right;\">\n",
              "      <th></th>\n",
              "      <th>True Value</th>\n",
              "      <th>Predicted Value</th>\n",
              "      <th>Error</th>\n",
              "    </tr>\n",
              "  </thead>\n",
              "  <tbody>\n",
              "    <tr>\n",
              "      <th>796</th>\n",
              "      <td>4.193698</td>\n",
              "      <td>1.202277</td>\n",
              "      <td>2.991421</td>\n",
              "    </tr>\n",
              "    <tr>\n",
              "      <th>785</th>\n",
              "      <td>-1.559188</td>\n",
              "      <td>1.202277</td>\n",
              "      <td>-2.761465</td>\n",
              "    </tr>\n",
              "    <tr>\n",
              "      <th>787</th>\n",
              "      <td>-1.358439</td>\n",
              "      <td>1.202277</td>\n",
              "      <td>-2.560716</td>\n",
              "    </tr>\n",
              "    <tr>\n",
              "      <th>792</th>\n",
              "      <td>3.000000</td>\n",
              "      <td>1.202277</td>\n",
              "      <td>1.797723</td>\n",
              "    </tr>\n",
              "    <tr>\n",
              "      <th>770</th>\n",
              "      <td>4.073657</td>\n",
              "      <td>2.333618</td>\n",
              "      <td>1.740039</td>\n",
              "    </tr>\n",
              "    <tr>\n",
              "      <th>107</th>\n",
              "      <td>3.698970</td>\n",
              "      <td>2.026509</td>\n",
              "      <td>1.672461</td>\n",
              "    </tr>\n",
              "    <tr>\n",
              "      <th>346</th>\n",
              "      <td>2.045757</td>\n",
              "      <td>0.448282</td>\n",
              "      <td>1.597476</td>\n",
              "    </tr>\n",
              "    <tr>\n",
              "      <th>208</th>\n",
              "      <td>1.744727</td>\n",
              "      <td>0.223248</td>\n",
              "      <td>1.521479</td>\n",
              "    </tr>\n",
              "    <tr>\n",
              "      <th>809</th>\n",
              "      <td>2.296443</td>\n",
              "      <td>0.804505</td>\n",
              "      <td>1.491938</td>\n",
              "    </tr>\n",
              "    <tr>\n",
              "      <th>266</th>\n",
              "      <td>-0.380211</td>\n",
              "      <td>1.104058</td>\n",
              "      <td>-1.484269</td>\n",
              "    </tr>\n",
              "  </tbody>\n",
              "</table>\n",
              "</div>\n",
              "    <div class=\"colab-df-buttons\">\n",
              "\n",
              "  <div class=\"colab-df-container\">\n",
              "    <button class=\"colab-df-convert\" onclick=\"convertToInteractive('df-e23d8c40-80da-41ca-bca1-d0d39d123c1e')\"\n",
              "            title=\"Convert this dataframe to an interactive table.\"\n",
              "            style=\"display:none;\">\n",
              "\n",
              "  <svg xmlns=\"http://www.w3.org/2000/svg\" height=\"24px\" viewBox=\"0 -960 960 960\">\n",
              "    <path d=\"M120-120v-720h720v720H120Zm60-500h600v-160H180v160Zm220 220h160v-160H400v160Zm0 220h160v-160H400v160ZM180-400h160v-160H180v160Zm440 0h160v-160H620v160ZM180-180h160v-160H180v160Zm440 0h160v-160H620v160Z\"/>\n",
              "  </svg>\n",
              "    </button>\n",
              "\n",
              "  <style>\n",
              "    .colab-df-container {\n",
              "      display:flex;\n",
              "      gap: 12px;\n",
              "    }\n",
              "\n",
              "    .colab-df-convert {\n",
              "      background-color: #E8F0FE;\n",
              "      border: none;\n",
              "      border-radius: 50%;\n",
              "      cursor: pointer;\n",
              "      display: none;\n",
              "      fill: #1967D2;\n",
              "      height: 32px;\n",
              "      padding: 0 0 0 0;\n",
              "      width: 32px;\n",
              "    }\n",
              "\n",
              "    .colab-df-convert:hover {\n",
              "      background-color: #E2EBFA;\n",
              "      box-shadow: 0px 1px 2px rgba(60, 64, 67, 0.3), 0px 1px 3px 1px rgba(60, 64, 67, 0.15);\n",
              "      fill: #174EA6;\n",
              "    }\n",
              "\n",
              "    .colab-df-buttons div {\n",
              "      margin-bottom: 4px;\n",
              "    }\n",
              "\n",
              "    [theme=dark] .colab-df-convert {\n",
              "      background-color: #3B4455;\n",
              "      fill: #D2E3FC;\n",
              "    }\n",
              "\n",
              "    [theme=dark] .colab-df-convert:hover {\n",
              "      background-color: #434B5C;\n",
              "      box-shadow: 0px 1px 3px 1px rgba(0, 0, 0, 0.15);\n",
              "      filter: drop-shadow(0px 1px 2px rgba(0, 0, 0, 0.3));\n",
              "      fill: #FFFFFF;\n",
              "    }\n",
              "  </style>\n",
              "\n",
              "    <script>\n",
              "      const buttonEl =\n",
              "        document.querySelector('#df-e23d8c40-80da-41ca-bca1-d0d39d123c1e button.colab-df-convert');\n",
              "      buttonEl.style.display =\n",
              "        google.colab.kernel.accessAllowed ? 'block' : 'none';\n",
              "\n",
              "      async function convertToInteractive(key) {\n",
              "        const element = document.querySelector('#df-e23d8c40-80da-41ca-bca1-d0d39d123c1e');\n",
              "        const dataTable =\n",
              "          await google.colab.kernel.invokeFunction('convertToInteractive',\n",
              "                                                    [key], {});\n",
              "        if (!dataTable) return;\n",
              "\n",
              "        const docLinkHtml = 'Like what you see? Visit the ' +\n",
              "          '<a target=\"_blank\" href=https://colab.research.google.com/notebooks/data_table.ipynb>data table notebook</a>'\n",
              "          + ' to learn more about interactive tables.';\n",
              "        element.innerHTML = '';\n",
              "        dataTable['output_type'] = 'display_data';\n",
              "        await google.colab.output.renderOutput(dataTable, element);\n",
              "        const docLink = document.createElement('div');\n",
              "        docLink.innerHTML = docLinkHtml;\n",
              "        element.appendChild(docLink);\n",
              "      }\n",
              "    </script>\n",
              "  </div>\n",
              "\n",
              "\n",
              "    <div id=\"df-ac55d938-7183-46f3-86fe-cc57b6a21998\">\n",
              "      <button class=\"colab-df-quickchart\" onclick=\"quickchart('df-ac55d938-7183-46f3-86fe-cc57b6a21998')\"\n",
              "                title=\"Suggest charts\"\n",
              "                style=\"display:none;\">\n",
              "\n",
              "<svg xmlns=\"http://www.w3.org/2000/svg\" height=\"24px\"viewBox=\"0 0 24 24\"\n",
              "     width=\"24px\">\n",
              "    <g>\n",
              "        <path d=\"M19 3H5c-1.1 0-2 .9-2 2v14c0 1.1.9 2 2 2h14c1.1 0 2-.9 2-2V5c0-1.1-.9-2-2-2zM9 17H7v-7h2v7zm4 0h-2V7h2v10zm4 0h-2v-4h2v4z\"/>\n",
              "    </g>\n",
              "</svg>\n",
              "      </button>\n",
              "\n",
              "<style>\n",
              "  .colab-df-quickchart {\n",
              "      --bg-color: #E8F0FE;\n",
              "      --fill-color: #1967D2;\n",
              "      --hover-bg-color: #E2EBFA;\n",
              "      --hover-fill-color: #174EA6;\n",
              "      --disabled-fill-color: #AAA;\n",
              "      --disabled-bg-color: #DDD;\n",
              "  }\n",
              "\n",
              "  [theme=dark] .colab-df-quickchart {\n",
              "      --bg-color: #3B4455;\n",
              "      --fill-color: #D2E3FC;\n",
              "      --hover-bg-color: #434B5C;\n",
              "      --hover-fill-color: #FFFFFF;\n",
              "      --disabled-bg-color: #3B4455;\n",
              "      --disabled-fill-color: #666;\n",
              "  }\n",
              "\n",
              "  .colab-df-quickchart {\n",
              "    background-color: var(--bg-color);\n",
              "    border: none;\n",
              "    border-radius: 50%;\n",
              "    cursor: pointer;\n",
              "    display: none;\n",
              "    fill: var(--fill-color);\n",
              "    height: 32px;\n",
              "    padding: 0;\n",
              "    width: 32px;\n",
              "  }\n",
              "\n",
              "  .colab-df-quickchart:hover {\n",
              "    background-color: var(--hover-bg-color);\n",
              "    box-shadow: 0 1px 2px rgba(60, 64, 67, 0.3), 0 1px 3px 1px rgba(60, 64, 67, 0.15);\n",
              "    fill: var(--button-hover-fill-color);\n",
              "  }\n",
              "\n",
              "  .colab-df-quickchart-complete:disabled,\n",
              "  .colab-df-quickchart-complete:disabled:hover {\n",
              "    background-color: var(--disabled-bg-color);\n",
              "    fill: var(--disabled-fill-color);\n",
              "    box-shadow: none;\n",
              "  }\n",
              "\n",
              "  .colab-df-spinner {\n",
              "    border: 2px solid var(--fill-color);\n",
              "    border-color: transparent;\n",
              "    border-bottom-color: var(--fill-color);\n",
              "    animation:\n",
              "      spin 1s steps(1) infinite;\n",
              "  }\n",
              "\n",
              "  @keyframes spin {\n",
              "    0% {\n",
              "      border-color: transparent;\n",
              "      border-bottom-color: var(--fill-color);\n",
              "      border-left-color: var(--fill-color);\n",
              "    }\n",
              "    20% {\n",
              "      border-color: transparent;\n",
              "      border-left-color: var(--fill-color);\n",
              "      border-top-color: var(--fill-color);\n",
              "    }\n",
              "    30% {\n",
              "      border-color: transparent;\n",
              "      border-left-color: var(--fill-color);\n",
              "      border-top-color: var(--fill-color);\n",
              "      border-right-color: var(--fill-color);\n",
              "    }\n",
              "    40% {\n",
              "      border-color: transparent;\n",
              "      border-right-color: var(--fill-color);\n",
              "      border-top-color: var(--fill-color);\n",
              "    }\n",
              "    60% {\n",
              "      border-color: transparent;\n",
              "      border-right-color: var(--fill-color);\n",
              "    }\n",
              "    80% {\n",
              "      border-color: transparent;\n",
              "      border-right-color: var(--fill-color);\n",
              "      border-bottom-color: var(--fill-color);\n",
              "    }\n",
              "    90% {\n",
              "      border-color: transparent;\n",
              "      border-bottom-color: var(--fill-color);\n",
              "    }\n",
              "  }\n",
              "</style>\n",
              "\n",
              "      <script>\n",
              "        async function quickchart(key) {\n",
              "          const quickchartButtonEl =\n",
              "            document.querySelector('#' + key + ' button');\n",
              "          quickchartButtonEl.disabled = true;  // To prevent multiple clicks.\n",
              "          quickchartButtonEl.classList.add('colab-df-spinner');\n",
              "          try {\n",
              "            const charts = await google.colab.kernel.invokeFunction(\n",
              "                'suggestCharts', [key], {});\n",
              "          } catch (error) {\n",
              "            console.error('Error during call to suggestCharts:', error);\n",
              "          }\n",
              "          quickchartButtonEl.classList.remove('colab-df-spinner');\n",
              "          quickchartButtonEl.classList.add('colab-df-quickchart-complete');\n",
              "        }\n",
              "        (() => {\n",
              "          let quickchartButtonEl =\n",
              "            document.querySelector('#df-ac55d938-7183-46f3-86fe-cc57b6a21998 button');\n",
              "          quickchartButtonEl.style.display =\n",
              "            google.colab.kernel.accessAllowed ? 'block' : 'none';\n",
              "        })();\n",
              "      </script>\n",
              "    </div>\n",
              "    </div>\n",
              "  </div>\n"
            ],
            "application/vnd.google.colaboratory.intrinsic+json": {
              "type": "dataframe",
              "variable_name": "error_df",
              "summary": "{\n  \"name\": \"error_df\",\n  \"rows\": 10,\n  \"fields\": [\n    {\n      \"column\": \"True Value\",\n      \"properties\": {\n        \"dtype\": \"number\",\n        \"std\": 2.1669877129337967,\n        \"min\": -1.5591881890047754,\n        \"max\": 4.193697711467312,\n        \"num_unique_values\": 10,\n        \"samples\": [\n          2.296442927462039,\n          -1.5591881890047754,\n          3.6989700043360183\n        ],\n        \"semantic_type\": \"\",\n        \"description\": \"\"\n      }\n    },\n    {\n      \"column\": \"Predicted Value\",\n      \"properties\": {\n        \"dtype\": \"number\",\n        \"std\": 0.636543556410269,\n        \"min\": 0.22324841729729208,\n        \"max\": 2.3336180911683178,\n        \"num_unique_values\": 7,\n        \"samples\": [\n          1.2022770659587905,\n          2.3336180911683178,\n          0.8045048033908925\n        ],\n        \"semantic_type\": \"\",\n        \"description\": \"\"\n      }\n    },\n    {\n      \"column\": \"Error\",\n      \"properties\": {\n        \"dtype\": \"number\",\n        \"std\": 2.0514677926469975,\n        \"min\": -2.761465254963566,\n        \"max\": 2.9914206455085215,\n        \"num_unique_values\": 10,\n        \"samples\": [\n          1.4919381240711465,\n          -2.761465254963566,\n          1.6724612372288372\n        ],\n        \"semantic_type\": \"\",\n        \"description\": \"\"\n      }\n    }\n  ]\n}"
            }
          },
          "metadata": {}
        }
      ],
      "source": [
        "\n",
        "# Анализ ошибок\n",
        "errors = y_test - final_pred\n",
        "max_error_idx = np.argsort(np.abs(errors))[::-1][:10]\n",
        "error_df = pd.DataFrame({\n",
        "    'True Value': y_test[max_error_idx],\n",
        "    'Predicted Value': final_pred[max_error_idx],\n",
        "    'Error': errors[max_error_idx]\n",
        "}, index=y_test_df.index[max_error_idx])\n",
        "\n",
        "print(\"\\nСоединения с наибольшими ошибками:\")\n",
        "display(error_df)\n"
      ]
    },
    {
      "cell_type": "code",
      "execution_count": 11,
      "metadata": {
        "id": "ieG4ItZLWDrE",
        "colab": {
          "base_uri": "https://localhost:8080/"
        },
        "outputId": "06a19850-3779-494f-ed81-70c800427158"
      },
      "outputs": [
        {
          "output_type": "stream",
          "name": "stdout",
          "text": [
            "\n",
            "Результаты сохранены в /content/drive/MyDrive/data_c/model_results\n"
          ]
        }
      ],
      "source": [
        "\n",
        "# Сохранение полных результатов\n",
        "results_df = pd.DataFrame({\n",
        "    'True Value': y_test,\n",
        "    'Predicted Value': final_pred,\n",
        "    'Error': errors\n",
        "}, index=y_test_df.index)\n",
        "\n",
        "results_df.to_csv(f'{SAVE_DIR}/predictions_{best_target}_{best_model_name}.csv')\n",
        "print(f\"\\nРезультаты сохранены в {SAVE_DIR}\")\n"
      ]
    },
    {
      "cell_type": "code",
      "execution_count": 12,
      "metadata": {
        "id": "pqDLrV1OWDAV",
        "colab": {
          "base_uri": "https://localhost:8080/"
        },
        "outputId": "8aebc321-059f-4ab1-e09d-d8894c98e1d5"
      },
      "outputs": [
        {
          "output_type": "stream",
          "name": "stdout",
          "text": [
            "\n",
            "Финальный отчет:\n",
            "Целевая переменная: SI_log\n",
            "Лучшая модель: RF\n",
            "Финальный RMSE: 0.6954\n",
            "R²: 0.2995\n",
            "Pearsonr: 0.5508\n"
          ]
        }
      ],
      "source": [
        "\n",
        "print(\"\\nФинальный отчет:\")\n",
        "print(f\"Целевая переменная: {best_target}\")\n",
        "print(f\"Лучшая модель: {best_model_name}\")\n",
        "print(f\"Финальный RMSE: {final_rmse:.4f}\")\n",
        "print(f\"R²: {r2_score(y_test, final_pred):.4f}\")\n",
        "print(f\"Pearsonr: {pearsonr(y_test, final_pred)[0]:.4f}\")"
      ]
    }
  ],
  "metadata": {
    "colab": {
      "provenance": []
    },
    "kernelspec": {
      "display_name": "Python 3",
      "name": "python3"
    },
    "language_info": {
      "name": "python"
    },
    "widgets": {
      "application/vnd.jupyter.widget-state+json": {
        "1b7d39991f724ce5a900cfda482b0551": {
          "model_module": "@jupyter-widgets/controls",
          "model_name": "HBoxModel",
          "model_module_version": "1.5.0",
          "state": {
            "_dom_classes": [],
            "_model_module": "@jupyter-widgets/controls",
            "_model_module_version": "1.5.0",
            "_model_name": "HBoxModel",
            "_view_count": null,
            "_view_module": "@jupyter-widgets/controls",
            "_view_module_version": "1.5.0",
            "_view_name": "HBoxView",
            "box_style": "",
            "children": [
              "IPY_MODEL_3cb253ff22264015a1283bcbc77efb37",
              "IPY_MODEL_87e64d759573496d98566d1931b61dd9",
              "IPY_MODEL_5b636810b83c4e53ad2419ffca827064"
            ],
            "layout": "IPY_MODEL_c84bd7025b544476814f209622bae5cd"
          }
        },
        "3cb253ff22264015a1283bcbc77efb37": {
          "model_module": "@jupyter-widgets/controls",
          "model_name": "HTMLModel",
          "model_module_version": "1.5.0",
          "state": {
            "_dom_classes": [],
            "_model_module": "@jupyter-widgets/controls",
            "_model_module_version": "1.5.0",
            "_model_name": "HTMLModel",
            "_view_count": null,
            "_view_module": "@jupyter-widgets/controls",
            "_view_module_version": "1.5.0",
            "_view_name": "HTMLView",
            "description": "",
            "description_tooltip": null,
            "layout": "IPY_MODEL_fa7fb01d78664abdbb5d0fa1aeecc434",
            "placeholder": "​",
            "style": "IPY_MODEL_90a452c1afa34699ad1d90af3df9fe74",
            "value": "Best trial: 42. Best value: 0.631083: 100%"
          }
        },
        "87e64d759573496d98566d1931b61dd9": {
          "model_module": "@jupyter-widgets/controls",
          "model_name": "FloatProgressModel",
          "model_module_version": "1.5.0",
          "state": {
            "_dom_classes": [],
            "_model_module": "@jupyter-widgets/controls",
            "_model_module_version": "1.5.0",
            "_model_name": "FloatProgressModel",
            "_view_count": null,
            "_view_module": "@jupyter-widgets/controls",
            "_view_module_version": "1.5.0",
            "_view_name": "ProgressView",
            "bar_style": "success",
            "description": "",
            "description_tooltip": null,
            "layout": "IPY_MODEL_4fc82b301f9b46448fe1500dfaa39eb3",
            "max": 50,
            "min": 0,
            "orientation": "horizontal",
            "style": "IPY_MODEL_0de945c9259c405cbb4d088223ff27c3",
            "value": 50
          }
        },
        "5b636810b83c4e53ad2419ffca827064": {
          "model_module": "@jupyter-widgets/controls",
          "model_name": "HTMLModel",
          "model_module_version": "1.5.0",
          "state": {
            "_dom_classes": [],
            "_model_module": "@jupyter-widgets/controls",
            "_model_module_version": "1.5.0",
            "_model_name": "HTMLModel",
            "_view_count": null,
            "_view_module": "@jupyter-widgets/controls",
            "_view_module_version": "1.5.0",
            "_view_name": "HTMLView",
            "description": "",
            "description_tooltip": null,
            "layout": "IPY_MODEL_1c528d9522d144ff81a691c59a33ae2e",
            "placeholder": "​",
            "style": "IPY_MODEL_c25679e121004db488c3ed7b194912d4",
            "value": " 50/50 [13:41&lt;00:00, 17.14s/it]"
          }
        },
        "c84bd7025b544476814f209622bae5cd": {
          "model_module": "@jupyter-widgets/base",
          "model_name": "LayoutModel",
          "model_module_version": "1.2.0",
          "state": {
            "_model_module": "@jupyter-widgets/base",
            "_model_module_version": "1.2.0",
            "_model_name": "LayoutModel",
            "_view_count": null,
            "_view_module": "@jupyter-widgets/base",
            "_view_module_version": "1.2.0",
            "_view_name": "LayoutView",
            "align_content": null,
            "align_items": null,
            "align_self": null,
            "border": null,
            "bottom": null,
            "display": null,
            "flex": null,
            "flex_flow": null,
            "grid_area": null,
            "grid_auto_columns": null,
            "grid_auto_flow": null,
            "grid_auto_rows": null,
            "grid_column": null,
            "grid_gap": null,
            "grid_row": null,
            "grid_template_areas": null,
            "grid_template_columns": null,
            "grid_template_rows": null,
            "height": null,
            "justify_content": null,
            "justify_items": null,
            "left": null,
            "margin": null,
            "max_height": null,
            "max_width": null,
            "min_height": null,
            "min_width": null,
            "object_fit": null,
            "object_position": null,
            "order": null,
            "overflow": null,
            "overflow_x": null,
            "overflow_y": null,
            "padding": null,
            "right": null,
            "top": null,
            "visibility": null,
            "width": null
          }
        },
        "fa7fb01d78664abdbb5d0fa1aeecc434": {
          "model_module": "@jupyter-widgets/base",
          "model_name": "LayoutModel",
          "model_module_version": "1.2.0",
          "state": {
            "_model_module": "@jupyter-widgets/base",
            "_model_module_version": "1.2.0",
            "_model_name": "LayoutModel",
            "_view_count": null,
            "_view_module": "@jupyter-widgets/base",
            "_view_module_version": "1.2.0",
            "_view_name": "LayoutView",
            "align_content": null,
            "align_items": null,
            "align_self": null,
            "border": null,
            "bottom": null,
            "display": null,
            "flex": null,
            "flex_flow": null,
            "grid_area": null,
            "grid_auto_columns": null,
            "grid_auto_flow": null,
            "grid_auto_rows": null,
            "grid_column": null,
            "grid_gap": null,
            "grid_row": null,
            "grid_template_areas": null,
            "grid_template_columns": null,
            "grid_template_rows": null,
            "height": null,
            "justify_content": null,
            "justify_items": null,
            "left": null,
            "margin": null,
            "max_height": null,
            "max_width": null,
            "min_height": null,
            "min_width": null,
            "object_fit": null,
            "object_position": null,
            "order": null,
            "overflow": null,
            "overflow_x": null,
            "overflow_y": null,
            "padding": null,
            "right": null,
            "top": null,
            "visibility": null,
            "width": null
          }
        },
        "90a452c1afa34699ad1d90af3df9fe74": {
          "model_module": "@jupyter-widgets/controls",
          "model_name": "DescriptionStyleModel",
          "model_module_version": "1.5.0",
          "state": {
            "_model_module": "@jupyter-widgets/controls",
            "_model_module_version": "1.5.0",
            "_model_name": "DescriptionStyleModel",
            "_view_count": null,
            "_view_module": "@jupyter-widgets/base",
            "_view_module_version": "1.2.0",
            "_view_name": "StyleView",
            "description_width": ""
          }
        },
        "4fc82b301f9b46448fe1500dfaa39eb3": {
          "model_module": "@jupyter-widgets/base",
          "model_name": "LayoutModel",
          "model_module_version": "1.2.0",
          "state": {
            "_model_module": "@jupyter-widgets/base",
            "_model_module_version": "1.2.0",
            "_model_name": "LayoutModel",
            "_view_count": null,
            "_view_module": "@jupyter-widgets/base",
            "_view_module_version": "1.2.0",
            "_view_name": "LayoutView",
            "align_content": null,
            "align_items": null,
            "align_self": null,
            "border": null,
            "bottom": null,
            "display": null,
            "flex": null,
            "flex_flow": null,
            "grid_area": null,
            "grid_auto_columns": null,
            "grid_auto_flow": null,
            "grid_auto_rows": null,
            "grid_column": null,
            "grid_gap": null,
            "grid_row": null,
            "grid_template_areas": null,
            "grid_template_columns": null,
            "grid_template_rows": null,
            "height": null,
            "justify_content": null,
            "justify_items": null,
            "left": null,
            "margin": null,
            "max_height": null,
            "max_width": null,
            "min_height": null,
            "min_width": null,
            "object_fit": null,
            "object_position": null,
            "order": null,
            "overflow": null,
            "overflow_x": null,
            "overflow_y": null,
            "padding": null,
            "right": null,
            "top": null,
            "visibility": null,
            "width": null
          }
        },
        "0de945c9259c405cbb4d088223ff27c3": {
          "model_module": "@jupyter-widgets/controls",
          "model_name": "ProgressStyleModel",
          "model_module_version": "1.5.0",
          "state": {
            "_model_module": "@jupyter-widgets/controls",
            "_model_module_version": "1.5.0",
            "_model_name": "ProgressStyleModel",
            "_view_count": null,
            "_view_module": "@jupyter-widgets/base",
            "_view_module_version": "1.2.0",
            "_view_name": "StyleView",
            "bar_color": null,
            "description_width": ""
          }
        },
        "1c528d9522d144ff81a691c59a33ae2e": {
          "model_module": "@jupyter-widgets/base",
          "model_name": "LayoutModel",
          "model_module_version": "1.2.0",
          "state": {
            "_model_module": "@jupyter-widgets/base",
            "_model_module_version": "1.2.0",
            "_model_name": "LayoutModel",
            "_view_count": null,
            "_view_module": "@jupyter-widgets/base",
            "_view_module_version": "1.2.0",
            "_view_name": "LayoutView",
            "align_content": null,
            "align_items": null,
            "align_self": null,
            "border": null,
            "bottom": null,
            "display": null,
            "flex": null,
            "flex_flow": null,
            "grid_area": null,
            "grid_auto_columns": null,
            "grid_auto_flow": null,
            "grid_auto_rows": null,
            "grid_column": null,
            "grid_gap": null,
            "grid_row": null,
            "grid_template_areas": null,
            "grid_template_columns": null,
            "grid_template_rows": null,
            "height": null,
            "justify_content": null,
            "justify_items": null,
            "left": null,
            "margin": null,
            "max_height": null,
            "max_width": null,
            "min_height": null,
            "min_width": null,
            "object_fit": null,
            "object_position": null,
            "order": null,
            "overflow": null,
            "overflow_x": null,
            "overflow_y": null,
            "padding": null,
            "right": null,
            "top": null,
            "visibility": null,
            "width": null
          }
        },
        "c25679e121004db488c3ed7b194912d4": {
          "model_module": "@jupyter-widgets/controls",
          "model_name": "DescriptionStyleModel",
          "model_module_version": "1.5.0",
          "state": {
            "_model_module": "@jupyter-widgets/controls",
            "_model_module_version": "1.5.0",
            "_model_name": "DescriptionStyleModel",
            "_view_count": null,
            "_view_module": "@jupyter-widgets/base",
            "_view_module_version": "1.2.0",
            "_view_name": "StyleView",
            "description_width": ""
          }
        }
      }
    }
  },
  "nbformat": 4,
  "nbformat_minor": 0
}